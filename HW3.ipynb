{
  "nbformat": 4,
  "nbformat_minor": 0,
  "metadata": {
    "colab": {
      "name": "HW3.ipynb",
      "provenance": [],
      "collapsed_sections": []
    },
    "kernelspec": {
      "name": "python3",
      "display_name": "Python 3"
    },
    "accelerator": "GPU"
  },
  "cells": [
    {
      "cell_type": "markdown",
      "metadata": {
        "id": "BxtreUAPraI-",
        "colab_type": "text"
      },
      "source": [
        "# **HW 3: Convolutional Neural Networks**\n",
        "\n",
        "In this homework, we will explore how to develop a simple Convolutional Neural Network for image classification. We will use the same dataset that we used in the previous exercise, the Fashion Minst. In the first part, we will learn how to develop a simple CNN, while in the second part we will explore the impact of various hyper-parameters in the learning performances."
      ]
    },
    {
      "cell_type": "markdown",
      "metadata": {
        "id": "CRwTPJt3rxug",
        "colab_type": "text"
      },
      "source": [
        "##Exercise 3.1: Simple CNN\n",
        "\n",
        "Let's start by importing Tensorflow, Keras and Numpy"
      ]
    },
    {
      "cell_type": "code",
      "metadata": {
        "id": "seDcv-RvrUpM",
        "colab_type": "code",
        "colab": {}
      },
      "source": [
        "import tensorflow as tf\n",
        "from tensorflow import keras\n",
        "import matplotlib.pyplot as plt\n",
        "import numpy as np\n",
        "\n",
        "np.random.seed(42)"
      ],
      "execution_count": 0,
      "outputs": []
    },
    {
      "cell_type": "markdown",
      "metadata": {
        "id": "UxWbaR_HsPYp",
        "colab_type": "text"
      },
      "source": [
        "###Load dataset:\n",
        "Load the Fashion Minst dataset as we did in the previous homework. As you already know Fashion Minst dataset contains grayscale images, and the task consists of classifying the images in the ten classes. As we did in HW2 we have to divide the dataset in training test and validation set. Since we will use a [2DConv](https://www.tensorflow.org/api_docs/python/tf/keras/layers/Conv2D) we have to provide also a new dimension of the input that represents the number of channels (that in ggreyscaleimage is just one). Therefore we [tf.expand_dims](https://) dim to do that. Finaly, as we did in HW2 we have to normalize the input data."
      ]
    },
    {
      "cell_type": "code",
      "metadata": {
        "id": "8QQy37jnsH_e",
        "colab_type": "code",
        "outputId": "718ababf-1d00-4fb7-9bc2-7dcbe9dea918",
        "colab": {
          "base_uri": "https://localhost:8080/",
          "height": 170
        }
      },
      "source": [
        "fashion_mnist = keras.datasets.fashion_mnist\n",
        "(X_train_full, y_train_full), (X_test, y_test) = (\n",
        "    fashion_mnist.load_data()) #The dataset is already divede in test and training..\n",
        "\n",
        "#Normalize the data\n",
        "pixel_means = X_train_full.mean(axis = 0)\n",
        "pixel_stds = X_test.std(axis = 0)\n",
        "\n",
        "X_train_full = (X_train_full - pixel_means) / pixel_stds\n",
        "X_test = (X_test - pixel_means) / pixel_stds \n",
        "\n",
        "#Add one dimension to manage the channel\n",
        "X_train_full=tf.expand_dims(X_train_full, 3) \n",
        "X_test=tf.expand_dims(X_test,3)\n",
        "\n",
        "#Extract the first 5000 samples of the training set, to use them as the validation set\n",
        "X_valid, X_train = X_train_full[:5000], X_train_full[5000:] \n",
        "y_valid, y_train = y_train_full[:5000], y_train_full[5000:]\n",
        "\n",
        "class_names = [\"T-shirt/top\", \"Trouser\", \"Pullover\", \"Dress\", \"Coat\",\n",
        "               \"Sandal\", \"Shirt\", \"Sneaker\", \"Bag\", \"Ankle boot\"]\n"
      ],
      "execution_count": 3,
      "outputs": [
        {
          "output_type": "stream",
          "text": [
            "Downloading data from https://storage.googleapis.com/tensorflow/tf-keras-datasets/train-labels-idx1-ubyte.gz\n",
            "32768/29515 [=================================] - 0s 0us/step\n",
            "Downloading data from https://storage.googleapis.com/tensorflow/tf-keras-datasets/train-images-idx3-ubyte.gz\n",
            "26427392/26421880 [==============================] - 0s 0us/step\n",
            "Downloading data from https://storage.googleapis.com/tensorflow/tf-keras-datasets/t10k-labels-idx1-ubyte.gz\n",
            "8192/5148 [===============================================] - 0s 0us/step\n",
            "Downloading data from https://storage.googleapis.com/tensorflow/tf-keras-datasets/t10k-images-idx3-ubyte.gz\n",
            "4423680/4422102 [==============================] - 0s 0us/step\n"
          ],
          "name": "stdout"
        }
      ]
    },
    {
      "cell_type": "markdown",
      "metadata": {
        "id": "mhWYkFmQsNm5",
        "colab_type": "text"
      },
      "source": [
        "###Define the model\n",
        "\n",
        "Let's create a simple CNN. The model will be composed of:\n",
        "* One 2D convolutional layer with kernel size 3x3 and 32 output filters/features, that use ReLu activation function\n",
        "* a Max Pooling layer (2D) of size 2x2 ([MaxPool2D](https://www.tensorflow.org/api_docs/python/tf/keras/layers/MaxPool2D))\n",
        "* a Flatten layer\n",
        "* the output layer,  the same we used in HW2 (that use softmax function)\n",
        "Note that as 'input_shape' attribute's value in the first layer report also the third dimension that represents the channel."
      ]
    },
    {
      "cell_type": "code",
      "metadata": {
        "id": "paLpCd7XsOYs",
        "colab_type": "code",
        "colab": {}
      },
      "source": [
        "model = keras.models.Sequential([\n",
        "    keras.layers.Conv2D(filters=32, kernel_size=[3,3], padding=\"same\", activation=\"relu\", input_shape=[28, 28,1]),\n",
        "    keras.layers.MaxPool2D(pool_size=[2,2]),\n",
        "    keras.layers.Flatten(),\n",
        "    keras.layers.Dense(10, activation=\"softmax\")\n",
        "])\n",
        "model.compile(loss=\"sparse_categorical_crossentropy\",\n",
        "              optimizer='sgd',\n",
        "              metrics=[\"accuracy\"])\n"
      ],
      "execution_count": 0,
      "outputs": []
    },
    {
      "cell_type": "markdown",
      "metadata": {
        "id": "bdnAR5KzssZk",
        "colab_type": "text"
      },
      "source": [
        "Print the model summary"
      ]
    },
    {
      "cell_type": "code",
      "metadata": {
        "id": "ga-UGdspsslW",
        "colab_type": "code",
        "outputId": "730fcb9a-a438-4cae-b782-55e1816184f2",
        "colab": {
          "base_uri": "https://localhost:8080/",
          "height": 302
        }
      },
      "source": [
        "model.summary()"
      ],
      "execution_count": 5,
      "outputs": [
        {
          "output_type": "stream",
          "text": [
            "Model: \"sequential\"\n",
            "_________________________________________________________________\n",
            "Layer (type)                 Output Shape              Param #   \n",
            "=================================================================\n",
            "conv2d (Conv2D)              (None, 28, 28, 32)        320       \n",
            "_________________________________________________________________\n",
            "max_pooling2d (MaxPooling2D) (None, 14, 14, 32)        0         \n",
            "_________________________________________________________________\n",
            "flatten (Flatten)            (None, 6272)              0         \n",
            "_________________________________________________________________\n",
            "dense (Dense)                (None, 10)                62730     \n",
            "=================================================================\n",
            "Total params: 63,050\n",
            "Trainable params: 63,050\n",
            "Non-trainable params: 0\n",
            "_________________________________________________________________\n"
          ],
          "name": "stdout"
        }
      ]
    },
    {
      "cell_type": "markdown",
      "metadata": {
        "id": "11S83_J0MIqb",
        "colab_type": "text"
      },
      "source": [
        "Note that the number of parameters mostly depends on the output layers, indeed the sharing parameters techinique used by the 2D convolutional layers allows to significantly reduce the number of learnable weights.\n",
        "Now we can train the model"
      ]
    },
    {
      "cell_type": "code",
      "metadata": {
        "id": "57aZ0KRGM7kY",
        "colab_type": "code",
        "outputId": "7fa3b93c-0b01-4ef6-96f7-e851bf28045b",
        "colab": {
          "base_uri": "https://localhost:8080/",
          "height": 368
        }
      },
      "source": [
        "history = model.fit(X_train, y_train, epochs=10, batch_size=128,\n",
        "                    validation_data=(X_valid, y_valid))"
      ],
      "execution_count": 6,
      "outputs": [
        {
          "output_type": "stream",
          "text": [
            "Epoch 1/10\n",
            "430/430 [==============================] - 1s 3ms/step - loss: 0.7200 - accuracy: 0.7655 - val_loss: 0.5078 - val_accuracy: 0.8322\n",
            "Epoch 2/10\n",
            "430/430 [==============================] - 1s 3ms/step - loss: 0.4811 - accuracy: 0.8355 - val_loss: 0.4476 - val_accuracy: 0.8486\n",
            "Epoch 3/10\n",
            "430/430 [==============================] - 1s 3ms/step - loss: 0.4305 - accuracy: 0.8521 - val_loss: 0.4160 - val_accuracy: 0.8564\n",
            "Epoch 4/10\n",
            "430/430 [==============================] - 1s 3ms/step - loss: 0.3997 - accuracy: 0.8626 - val_loss: 0.3939 - val_accuracy: 0.8654\n",
            "Epoch 5/10\n",
            "430/430 [==============================] - 1s 3ms/step - loss: 0.3792 - accuracy: 0.8690 - val_loss: 0.3824 - val_accuracy: 0.8664\n",
            "Epoch 6/10\n",
            "430/430 [==============================] - 1s 3ms/step - loss: 0.3643 - accuracy: 0.8741 - val_loss: 0.3640 - val_accuracy: 0.8760\n",
            "Epoch 7/10\n",
            "430/430 [==============================] - 1s 3ms/step - loss: 0.3519 - accuracy: 0.8771 - val_loss: 0.3754 - val_accuracy: 0.8664\n",
            "Epoch 8/10\n",
            "430/430 [==============================] - 1s 3ms/step - loss: 0.3420 - accuracy: 0.8798 - val_loss: 0.3522 - val_accuracy: 0.8806\n",
            "Epoch 9/10\n",
            "430/430 [==============================] - 1s 3ms/step - loss: 0.3329 - accuracy: 0.8831 - val_loss: 0.3442 - val_accuracy: 0.8826\n",
            "Epoch 10/10\n",
            "430/430 [==============================] - 1s 3ms/step - loss: 0.3255 - accuracy: 0.8859 - val_loss: 0.3334 - val_accuracy: 0.8854\n"
          ],
          "name": "stdout"
        }
      ]
    },
    {
      "cell_type": "markdown",
      "metadata": {
        "id": "xfPHQGs6M8AE",
        "colab_type": "text"
      },
      "source": [
        "Plot the loss and the accuracy trends for the training and validation set, Then compute the result on the test set."
      ]
    },
    {
      "cell_type": "code",
      "metadata": {
        "id": "yVD4jB7ZMK5z",
        "colab_type": "code",
        "outputId": "28945519-3a04-4ce4-9cff-a15185faf23b",
        "colab": {
          "base_uri": "https://localhost:8080/",
          "height": 815
        }
      },
      "source": [
        "def plot_loss(history):\n",
        "  plt.figure(figsize=(10,6))\n",
        "  plt.plot(history.epoch,history.history['loss'])\n",
        "  plt.plot(history.epoch,history.history['val_loss'])\n",
        "  plt.title('loss')\n",
        "\n",
        "def plot_accuracy(history):\n",
        "  plt.figure(figsize=(10,6))\n",
        "  plt.plot(history.epoch,history.history['accuracy'])\n",
        "  plt.plot(history.epoch,history.history['val_accuracy'])\n",
        "  plt.title('accuracy')\n",
        "\n",
        "plot_loss(history)\n",
        "\n",
        "plot_accuracy(history)\n",
        "\n",
        "scores = model.evaluate(X_test, y_test, verbose=2)\n",
        "print(\"%s: %.2f%%\" % (model.metrics_names[1], scores[1]*100))\n",
        "\n"
      ],
      "execution_count": 7,
      "outputs": [
        {
          "output_type": "stream",
          "text": [
            "313/313 - 1s - loss: 0.3570 - accuracy: 0.8735\n",
            "accuracy: 87.35%\n"
          ],
          "name": "stdout"
        },
        {
          "output_type": "display_data",
          "data": {
            "image/png": "[encoded data removed]",
            "text/plain": [
              "<Figure size 720x432 with 1 Axes>"
            ]
          },
          "metadata": {
            "tags": [],
            "needs_background": "light"
          }
        },
        {
          "output_type": "display_data",
          "data": {
            "image/png": "[encoded data removed]",
            "text/plain": [
              "<Figure size 720x432 with 1 Axes>"
            ]
          },
          "metadata": {
            "tags": [],
            "needs_background": "light"
          }
        }
      ]
    },
    {
      "cell_type": "markdown",
      "metadata": {
        "id": "j5wOQymFYZjA",
        "colab_type": "text"
      },
      "source": [
        "###Visualize Weights\n",
        "\n",
        "An interesting thing is to visualize the learned weights for the convolutional layer. We have 32 kernels of size 3x3, we can just plot them as images, mapping the weight values to grayscale."
      ]
    },
    {
      "cell_type": "code",
      "metadata": {
        "id": "EXHiS8VyY6pg",
        "colab_type": "code",
        "outputId": "7dcbf4a0-a91b-436c-cf7a-e36c2f9c9b4c",
        "colab": {
          "base_uri": "https://localhost:8080/",
          "height": 258
        }
      },
      "source": [
        "# Weights for the first convolutional layer\n",
        "w0=model.get_weights()[0][:,:,0,:]\n",
        "\n",
        "# Normalize to range 0.0 - 1.0\n",
        "w0-=np.min(w0)\n",
        "w0/=np.max(w0)\n",
        "\n",
        "for r in range(4):\n",
        "    for c in range(8):\n",
        "        n=r*8+c\n",
        "        plt.subplot(4, 8, n+1)\n",
        "        plt.imshow(w0[:,:,n], interpolation='none')\n",
        "        plt.axis('off')\n",
        "        plt.gray()\n",
        "plt.show()"
      ],
      "execution_count": 8,
      "outputs": [
        {
          "output_type": "display_data",
          "data": {
            "image/png": "[encoded data removed]",
            "text/plain": [
              "<Figure size 432x288 with 32 Axes>"
            ]
          },
          "metadata": {
            "tags": [],
            "needs_background": "light"
          }
        }
      ]
    },
    {
      "cell_type": "markdown",
      "metadata": {
        "id": "OsFQRbx3ZWtp",
        "colab_type": "text"
      },
      "source": [
        "They might be a bit hard to interpret, but it seems that the various filters have learned to detect various corners and edges."
      ]
    },
    {
      "cell_type": "markdown",
      "metadata": {
        "id": "-bOYmnXgZXi4",
        "colab_type": "text"
      },
      "source": [
        "## Exercise 3.2: Develop a better CNN\n",
        "Let's develop a network that performs better than the very simple one above. This exercise aims to explore how much the various hyper-parameters influence the classification capability of the model. \n",
        "\n",
        "**To Complete**: Your task is to do some reparametrizations of the previous exercise's network and compare the results. At least one of them should have an improvement in the test set result (generalization) than the result of the model used in the previous exercise.\n",
        "In the cell below report only the code of the **best model** that you can find. In addtion, print out its result on the test set, and plot the accuracy and the loss trends in the notebook you return.\n",
        "Moreover, for each setup you test, analyze and discuss the obtained results briefly in the last cells in the bottom.\n",
        "\n",
        "Hint: Each reparameterization should change a different aspect in the network, while the rest of the parameters would stay the same. \n",
        "Example parameters to try to change (we suggest to test at least one re-parametrization for each of these categories):\n",
        "\n",
        "*    number of layers or neurons or filters dimension\n",
        "*   activation functions\n",
        "*   epochs\n",
        "*   batch sizes\n",
        "*   optimizer, see TensorFlow documentation on [optimizers](https://https://www.tensorflow.org/api_docs/python/tf/keras/optimizers)\n",
        "*   max-pooling on/off on certain layers, or pool size\n",
        "\n",
        "For what concerns the optimizer, as you can see in the 'compile' method [documentation'](https://www.tensorflow.org/api_docs/python/tf/keras/Model#compile) is it possible to pass as 'optimizer ' attribute's value a string (the name of optimizer) or an optimizer instance.\n",
        "\n",
        "Notice that changing the final layer's softmax activation plus the categorical_crossentropy loss requires some consideration. Don't do it unless you have a good plan."
      ]
    },
    {
      "cell_type": "code",
      "metadata": {
        "id": "o1M2vm_lMk7-",
        "colab_type": "code",
        "outputId": "82021c5f-aee1-491f-acf5-46632ccba357",
        "colab": {
          "base_uri": "https://localhost:8080/",
          "height": 1000
        }
      },
      "source": [
        "model = keras.models.Sequential([\n",
        "    keras.layers.Conv2D(filters=32, kernel_size=[3,3], padding=\"same\", activation=\"relu\", input_shape=[28, 28,1]),\n",
        "    keras.layers.Conv2D(filters=64, kernel_size=[3,3], padding=\"same\", activation=\"relu\"),\n",
        "    keras.layers.MaxPool2D(pool_size=[2,2]),\n",
        "    keras.layers.Dropout(0.5),\n",
        "    keras.layers.Conv2D(filters=128, kernel_size=[3,3], padding=\"same\", activation=\"relu\"),\n",
        "    keras.layers.Conv2D(filters=256, kernel_size=[3,3], padding=\"same\", activation=\"relu\"),\n",
        "    keras.layers.MaxPool2D(pool_size=[2,2]),\n",
        "    keras.layers.Dropout(0.5),\n",
        "    keras.layers.Flatten(),\n",
        "    keras.layers.Dense(500, activation=\"relu\"),\n",
        "    keras.layers.Dropout(0.5),\n",
        "    keras.layers.Dense(200, activation=\"relu\"),\n",
        "    keras.layers.Dropout(0.5),\n",
        "    keras.layers.Dense(10, activation=\"softmax\")\n",
        "])\n",
        "\n",
        "model.compile(loss=\"sparse_categorical_crossentropy\",\n",
        "              optimizer=keras.optimizers.Adam(),\n",
        "              metrics=[\"accuracy\"])\n",
        "\n",
        "es = keras.callbacks.EarlyStopping(monitor=\"val_loss\", patience=12)\n",
        "\n",
        "history = model.fit(X_train, y_train, epochs=100, batch_size=256,\n",
        "                    validation_data=(X_valid, y_valid),\n",
        "                    callbacks=[es])\n",
        "\n",
        "plot_loss(history)\n",
        "\n",
        "plot_accuracy(history)\n",
        "\n",
        "scores = model.evaluate(X_test, y_test, verbose=2)"
      ],
      "execution_count": 12,
      "outputs": [
        {
          "output_type": "stream",
          "text": [
            "Epoch 1/100\n",
            "215/215 [==============================] - 5s 23ms/step - loss: 0.6788 - accuracy: 0.7549 - val_loss: 0.3465 - val_accuracy: 0.8752\n",
            "Epoch 2/100\n",
            "215/215 [==============================] - 5s 21ms/step - loss: 0.3806 - accuracy: 0.8637 - val_loss: 0.2812 - val_accuracy: 0.8976\n",
            "Epoch 3/100\n",
            "215/215 [==============================] - 5s 21ms/step - loss: 0.3168 - accuracy: 0.8859 - val_loss: 0.2469 - val_accuracy: 0.9084\n",
            "Epoch 4/100\n",
            "215/215 [==============================] - 5s 21ms/step - loss: 0.2838 - accuracy: 0.8979 - val_loss: 0.2348 - val_accuracy: 0.9112\n",
            "Epoch 5/100\n",
            "215/215 [==============================] - 5s 21ms/step - loss: 0.2605 - accuracy: 0.9057 - val_loss: 0.2131 - val_accuracy: 0.9198\n",
            "Epoch 6/100\n",
            "215/215 [==============================] - 5s 21ms/step - loss: 0.2416 - accuracy: 0.9140 - val_loss: 0.2138 - val_accuracy: 0.9204\n",
            "Epoch 7/100\n",
            "215/215 [==============================] - 5s 21ms/step - loss: 0.2287 - accuracy: 0.9176 - val_loss: 0.1930 - val_accuracy: 0.9294\n",
            "Epoch 8/100\n",
            "215/215 [==============================] - 5s 21ms/step - loss: 0.2157 - accuracy: 0.9219 - val_loss: 0.1854 - val_accuracy: 0.9280\n",
            "Epoch 9/100\n",
            "215/215 [==============================] - 5s 21ms/step - loss: 0.2036 - accuracy: 0.9249 - val_loss: 0.1848 - val_accuracy: 0.9316\n",
            "Epoch 10/100\n",
            "215/215 [==============================] - 5s 21ms/step - loss: 0.1965 - accuracy: 0.9284 - val_loss: 0.1814 - val_accuracy: 0.9328\n",
            "Epoch 11/100\n",
            "215/215 [==============================] - 5s 22ms/step - loss: 0.1894 - accuracy: 0.9311 - val_loss: 0.1817 - val_accuracy: 0.9324\n",
            "Epoch 12/100\n",
            "215/215 [==============================] - 5s 21ms/step - loss: 0.1827 - accuracy: 0.9329 - val_loss: 0.1704 - val_accuracy: 0.9342\n",
            "Epoch 13/100\n",
            "215/215 [==============================] - 5s 21ms/step - loss: 0.1749 - accuracy: 0.9351 - val_loss: 0.1695 - val_accuracy: 0.9382\n",
            "Epoch 14/100\n",
            "215/215 [==============================] - 5s 21ms/step - loss: 0.1715 - accuracy: 0.9366 - val_loss: 0.1864 - val_accuracy: 0.9302\n",
            "Epoch 15/100\n",
            "215/215 [==============================] - 5s 22ms/step - loss: 0.1631 - accuracy: 0.9399 - val_loss: 0.1782 - val_accuracy: 0.9350\n",
            "Epoch 16/100\n",
            "215/215 [==============================] - 5s 21ms/step - loss: 0.1611 - accuracy: 0.9399 - val_loss: 0.1738 - val_accuracy: 0.9368\n",
            "Epoch 17/100\n",
            "215/215 [==============================] - 5s 21ms/step - loss: 0.1583 - accuracy: 0.9414 - val_loss: 0.1826 - val_accuracy: 0.9360\n",
            "Epoch 18/100\n",
            "215/215 [==============================] - 5s 21ms/step - loss: 0.1501 - accuracy: 0.9453 - val_loss: 0.1733 - val_accuracy: 0.9348\n",
            "Epoch 19/100\n",
            "215/215 [==============================] - 5s 21ms/step - loss: 0.1475 - accuracy: 0.9461 - val_loss: 0.1687 - val_accuracy: 0.9398\n",
            "Epoch 20/100\n",
            "215/215 [==============================] - 5s 21ms/step - loss: 0.1449 - accuracy: 0.9469 - val_loss: 0.1702 - val_accuracy: 0.9388\n",
            "Epoch 21/100\n",
            "215/215 [==============================] - 5s 21ms/step - loss: 0.1387 - accuracy: 0.9488 - val_loss: 0.1700 - val_accuracy: 0.9372\n",
            "Epoch 22/100\n",
            "215/215 [==============================] - 5s 21ms/step - loss: 0.1344 - accuracy: 0.9509 - val_loss: 0.1738 - val_accuracy: 0.9374\n",
            "Epoch 23/100\n",
            "215/215 [==============================] - 5s 21ms/step - loss: 0.1322 - accuracy: 0.9521 - val_loss: 0.1684 - val_accuracy: 0.9408\n",
            "Epoch 24/100\n",
            "215/215 [==============================] - 5s 21ms/step - loss: 0.1305 - accuracy: 0.9514 - val_loss: 0.1672 - val_accuracy: 0.9414\n",
            "Epoch 25/100\n",
            "215/215 [==============================] - 5s 21ms/step - loss: 0.1296 - accuracy: 0.9519 - val_loss: 0.1728 - val_accuracy: 0.9418\n",
            "Epoch 26/100\n",
            "215/215 [==============================] - 5s 21ms/step - loss: 0.1279 - accuracy: 0.9522 - val_loss: 0.1715 - val_accuracy: 0.9412\n",
            "Epoch 27/100\n",
            "215/215 [==============================] - 5s 21ms/step - loss: 0.1213 - accuracy: 0.9544 - val_loss: 0.1755 - val_accuracy: 0.9428\n",
            "Epoch 28/100\n",
            "215/215 [==============================] - 5s 21ms/step - loss: 0.1203 - accuracy: 0.9567 - val_loss: 0.1837 - val_accuracy: 0.9370\n",
            "Epoch 29/100\n",
            "215/215 [==============================] - 5s 21ms/step - loss: 0.1191 - accuracy: 0.9568 - val_loss: 0.1720 - val_accuracy: 0.9394\n",
            "Epoch 30/100\n",
            "215/215 [==============================] - 5s 21ms/step - loss: 0.1152 - accuracy: 0.9580 - val_loss: 0.1779 - val_accuracy: 0.9386\n",
            "Epoch 31/100\n",
            "215/215 [==============================] - 5s 21ms/step - loss: 0.1131 - accuracy: 0.9576 - val_loss: 0.1750 - val_accuracy: 0.9420\n",
            "Epoch 32/100\n",
            "215/215 [==============================] - 5s 21ms/step - loss: 0.1099 - accuracy: 0.9587 - val_loss: 0.1892 - val_accuracy: 0.9386\n",
            "Epoch 33/100\n",
            "215/215 [==============================] - 5s 21ms/step - loss: 0.1081 - accuracy: 0.9594 - val_loss: 0.1875 - val_accuracy: 0.9384\n",
            "Epoch 34/100\n",
            "215/215 [==============================] - 5s 21ms/step - loss: 0.1074 - accuracy: 0.9601 - val_loss: 0.1811 - val_accuracy: 0.9406\n",
            "Epoch 35/100\n",
            "215/215 [==============================] - 5s 21ms/step - loss: 0.1068 - accuracy: 0.9620 - val_loss: 0.1864 - val_accuracy: 0.9428\n",
            "Epoch 36/100\n",
            "215/215 [==============================] - 5s 21ms/step - loss: 0.1024 - accuracy: 0.9631 - val_loss: 0.1806 - val_accuracy: 0.9410\n",
            "313/313 - 1s - loss: 0.2076 - accuracy: 0.9386\n"
          ],
          "name": "stdout"
        },
        {
          "output_type": "display_data",
          "data": {
            "image/png": "[encoded data removed]",
            "text/plain": [
              "<Figure size 720x432 with 1 Axes>"
            ]
          },
          "metadata": {
            "tags": [],
            "needs_background": "light"
          }
        },
        {
          "output_type": "display_data",
          "data": {
            "image/png": "[encoded data removed]",
            "text/plain": [
              "<Figure size 720x432 with 1 Axes>"
            ]
          },
          "metadata": {
            "tags": [],
            "needs_background": "light"
          }
        }
      ]
    },
    {
      "cell_type": "markdown",
      "metadata": {
        "id": "0nlE10XIjAid",
        "colab_type": "text"
      },
      "source": [
        "### Test results discussion\n",
        "The best model that I found is a CNN with 3 convolutional layers, 2 MaxPooling layers and finally 2 fully connected relu layers.\n",
        "\n",
        "Configuration:\n",
        "\n",
        "Conv(32 , 3 * 3) - Conv(64 , 3 * 3) - Max Pooling(2 * 2) - Conv(128 , 3 * 3 - Conv(256 , 3 * 3) - Max Pooling(2 * 2) - Dense(500 relu) - Dense(200 relu)\n",
        "\n",
        "\n",
        " - Epochs = 24\n",
        " - Batch size = 256\n",
        " - Optimizer = Adam (default parameters)\n",
        " - Dropout\n",
        " - Early stopping\n",
        "\n",
        "The achieved accuracy in the test set is 93.86%\n",
        "\n",
        "\n",
        "Discussion:\n",
        "I achieved best accuracy by adding more layers to the baseline. The biggest performance difference is due to the dense layers after the convolutional and pooling layers.\n",
        "\n",
        "In this case, Adam algorithm performed better than others.\n",
        "\n",
        "This model tends to overfit after few epochs so I added dropout to dense and convolution layers.\n",
        "\n",
        "However i used early stopping method to try to choose the best model monitoring the validation loss.\n",
        "\n"
      ]
    },
    {
      "cell_type": "markdown",
      "metadata": {
        "id": "4sj0soo3bRIs",
        "colab_type": "text"
      },
      "source": [
        "Besides, I also tested other models: \n",
        "* Baseline trained 20 epochs\n",
        "* Baseline with batch_size=32\n",
        "* Conv(64 , 3 * 3) - Max Pooling(2 * 2) - Dense(200 relu)\n",
        "* Conv(64 , 4 * 4) - Max Pooling(2 * 2) - Dense(200 relu)\n",
        "* Conv(64 , 3 * 3) - Max Pooling(2 * 2)- Conv(128 , 3 * 3) - Max Pooling(2 * 2) - Dense(200 relu)\n",
        "* Conv(64 , 3 * 3) - Max Pooling(2 * 2) - Conv(64 , 3 * 3) - Max Pooling(2 * 2) - Dense(500 relu) - Dense(200 relu)\n",
        "* Conv(64 , 3 * 3) - Max Pooling(2 * 2) - Conv(64 , 3 * 3) - Max Pooling(2 * 2) - Dense(500 relu) - Dense(200 relu)\n",
        "* Conv(64 , 3 * 3) - Max Pooling(2 * 2) - Conv(128 , 3 * 3) - Max Pooling(2 * 2) - Conv(512 , 3 * 3) - Max Pooling(2 * 2) - Dense(500 relu) - Dense(200 relu)\n",
        "* Conv(64 , 3 * 3) - Conv(128 , 3 * 3) - Max Pooling(2 * 2) - Conv(512 , 3 * 3) - Max Pooling(2 * 2) - Dense(500 relu) - Dense(200 relu)\n",
        "* Conv(64 , 3 * 3) - Conv(128 , 3 * 3) - Max Pooling(2 * 2) - Conv(256 , 3 * 3) - Max Pooling(2 * 2) - Dense(500 relu) - Dense(200 relu)\n",
        "* Conv(64 , 3 * 3) - Conv(128 , 3 * 3) - Max Pooling(2 * 2) - Conv(256 , 3 * 3) - Max Pooling(2 * 2) - Dense(2000 relu) - Dense(500 relu)\n",
        "* Conv(64 , 3 * 3) - Conv(128 , 3 * 3) - Max Pooling(2 * 2) - Conv(256 , 3 * 3) - Max Pooling(2 * 2) - Dense(500 Sigmoid) - Dense(200 Sigmoid)\n",
        "* Conv(32 , 3 * 3) - Conv(64 , 3 * 3) - Max Pooling(2 * 2) - Conv(128 , 3 * 3) - Max Pooling(2 * 2) - Dense(500 relu) - Dense(200 relu)\n",
        "* Conv(32 , 3 * 3) - Conv(64 , 3 * 3) - Max Pooling(2 * 2) - Conv(128 , 3 * 3) - Conv(256 , 3 * 3) - Max Pooling(2 * 2) - Dense(500 relu) - Dense(200 relu)\n",
        "\n",
        "Discussion:\n",
        "\n",
        " Firstly, I increased epochs from 10 to 20 and I achieved 88% accuracy.\n",
        "\n",
        "Then I did some tests changing the Batch size. With SGD (without momentum) has been increased reducing the batch size.\n",
        "\n",
        "At this point, my goal was to achieve better performance increasing the model complexity, so I added a dense relu layer before the output layer. The accuracy is changed to 91%.\n",
        "\n",
        "Then I did some tests increasing the number of hidden layers, either convolutional layers or dense relu layers.\n",
        "\n",
        "With a more complex model I used dropout and early stopping to regularize the network and avoid overfitting. \n",
        "During the tests I also tried to regularize with weight decay but this method didn't increase accuracy.\n",
        "\n",
        "I tested a configuration with sigmoid activation function in the fully connected part without a positive result.\n",
        "\n",
        "Finally I tested different optimizers:\n",
        "\n",
        "* SGD with different momentum values\n",
        "* Adam with defalut Keras parameters\n",
        "* RMSprop with defalut Keras parameters\n",
        "* Nadam with defalut Keras parameters\n",
        "\n",
        "All of these achieve better performance than standard SGD increasing batch size.\n",
        "\n",
        "I achieved the best result with Adam but SGD with momentum and Nadam returned almost the same results.\n"
      ]
    }
  ]
}