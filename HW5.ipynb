{
  "nbformat": 4,
  "nbformat_minor": 0,
  "metadata": {
    "colab": {
      "name": "HW5.ipynb",
      "provenance": [],
      "collapsed_sections": [],
      "toc_visible": true
    },
    "kernelspec": {
      "name": "python3",
      "display_name": "Python 3"
    },
    "accelerator": "GPU"
  },
  "cells": [
    {
      "cell_type": "markdown",
      "metadata": {
        "id": "Vzk_94Ey_KZz",
        "colab_type": "text"
      },
      "source": [
        "# **HW5: Autoencoders**\n",
        "\n",
        "In this homework, we will explore how to develop a simple Autoencoder. As a dataset, we will use the MNIST dataset. It contains handwritten digits images.\n",
        "In the first part, we will learn how to develop a simple shallow autoencoder, then we will develop a deep version of it. Next, we will experiment with the application of a denoising autoencoder. Finally, we will experiment with sequential domains, considering the IMDB dataset, alredy used in HW4."
      ]
    },
    {
      "cell_type": "code",
      "metadata": {
        "id": "-SUqAWqAXRr1",
        "colab_type": "code",
        "colab": {}
      },
      "source": [
        "import tensorflow as tf\n",
        "from tensorflow import keras\n",
        "import numpy as np\n",
        "import pandas as pd\n",
        "import matplotlib.pyplot as plt\n",
        "import os"
      ],
      "execution_count": 0,
      "outputs": []
    },
    {
      "cell_type": "markdown",
      "metadata": {
        "id": "TJA-D-6h3D6b",
        "colab_type": "text"
      },
      "source": [
        "###Load Dataset\n",
        "We load the MNIST dataset, using tf.keras.datasets. The dataset contains 60,000 training images and 10,000 testing images.\n",
        "Each value is between 0 and 255, and represents a pixel in an image of size 28 x 28. We will normalize all values between 0 and 1, and we will flatten the 28x28 images into vectors of size 784.\n",
        "Finally, we will split the test set, in the test and validation set."
      ]
    },
    {
      "cell_type": "code",
      "metadata": {
        "id": "Mmt1Au8CX-ra",
        "colab_type": "code",
        "outputId": "1f78de82-a7ec-4210-81fb-4f9f0d66db15",
        "colab": {
          "base_uri": "https://localhost:8080/",
          "height": 71
        }
      },
      "source": [
        "(x_train, _), (x_test, _) = tf.keras.datasets.mnist.load_data()\n",
        "\n",
        "x_train = x_train.astype('float32') / 255\n",
        "x_test = x_test.astype('float32') / 255\n",
        "\n",
        "\n",
        "x_train = x_train.reshape((len(x_train), np.prod(x_train.shape[1:])))\n",
        "x_test = x_test.reshape((len(x_test), np.prod(x_test.shape[1:])))\n",
        "\n",
        "x_valid = x_train[:10000]\n",
        "x_train = x_train[10000:]"
      ],
      "execution_count": 0,
      "outputs": [
        {
          "output_type": "stream",
          "text": [
            "Downloading data from https://storage.googleapis.com/tensorflow/tf-keras-datasets/mnist.npz\n",
            "11493376/11490434 [==============================] - 0s 0us/step\n"
          ],
          "name": "stdout"
        }
      ]
    },
    {
      "cell_type": "markdown",
      "metadata": {
        "id": "H6KiNMUN9_ke",
        "colab_type": "text"
      },
      "source": [
        "##Singular Value Decomposition\n",
        "\n",
        "Principal component analysis (PCA) and singular value decomposition (SVD) are both classical linear dimensionality reduction methods that attempt to find linear combinations of features in the original high dimensional data matrix to construct a meaningful representation of the dataset.\n",
        "In this first part of the HW we will focus our attention on SVD decomposition. Indeed it is more numerical stable. Given a matrix X, the SVD decomposes a matrix into the product of two unitary matrices V and U and a rectangular diagonal matrix of singular values S:\n",
        "\n",
        "$$ X=V \\cdot S \\cdot U^T$$\n",
        "\n",
        "SVD is implemented in NumPy as np.linalg.svd. In our case the X matrix will represent the training set, where each row is a sample (therefore the number of columns will be the number of input features).\n",
        "\n",
        "Note that the X matrix, in our case, will have a huge number of rows (we have 50000 input samples) and only 784 columns. Therefore, to optimize the memory consumption we can compute the SVD of the covariance matrix. An interesting property of the SVD is that we can relate the decomposition of the covariance matrix $C= X^T \\cdot X$ to the decomposition of $X$. In fact\n",
        "\n",
        "$$ C= X^T \\cdot X = U \\cdot S \\cdot V^T \\cdot V\\cdot S \\cdot U^T  = U \\cdot S^2 \\cdot U^T$$\n",
        "\n",
        "Since we need just the matrix U to compute the compressed version of our data, this method will be very convenient. If you are using the Colab free plan, the quantity of available ram is not sufficient to compute the SVD of X, therefore computing the SVD of the covariance matrix turns out to be the best solution. "
      ]
    },
    {
      "cell_type": "code",
      "metadata": {
        "id": "ckF8X9KDOQ_9",
        "colab_type": "code",
        "colab": {}
      },
      "source": [
        "def svd_k(X, k):\n",
        "  # Compute covariance matrix\n",
        "  C = np.dot(X.T, X)\n",
        "  # SVD decomposition\n",
        "  U, s_sqr, U_T = np.linalg.svd(C, full_matrices=False)\n",
        "  # Limit the number columns of U to k\n",
        "  U_k=U[:,:k]\n",
        "  return U_k\n"
      ],
      "execution_count": 0,
      "outputs": []
    },
    {
      "cell_type": "markdown",
      "metadata": {
        "id": "pC6SJH7vzGYa",
        "colab_type": "text"
      },
      "source": [
        "Let's define the ENCODING_DIM, that will be the size of the compressed version of input data, and compute the compressed version of the training set and the test set.\n",
        "\n",
        "**To complete: What happens varying the ENCODING_DIM? test  and discuss the results in this cell**\n",
        "\n",
        "After some tests, when I improve ENCODING_DIM there is less information loss, so when I reconstruct the images they appear more similar than original images.\n",
        "If I reduce ENCODING_DIM (ENCODING_DIM = 50) there is a stronger compression so I loose information and the reconstruction appears worst and the numbers are blurred."
      ]
    },
    {
      "cell_type": "code",
      "metadata": {
        "id": "pIvHTxWpOzCX",
        "colab_type": "code",
        "colab": {}
      },
      "source": [
        "ENCODING_DIM = 120\n",
        "\n",
        "U_k=svd_k(x_train, ENCODING_DIM)\n",
        "\n",
        "x_training_pca = np.dot(x_train, U_k)\n",
        "x_test_pca = np.dot(x_test, U_k)"
      ],
      "execution_count": 0,
      "outputs": []
    },
    {
      "cell_type": "markdown",
      "metadata": {
        "id": "Vt-gKtEwzvr0",
        "colab_type": "text"
      },
      "source": [
        "Reconstruct the input and check how much information was lost due to the compression, by computing the mean squared error between the original input and the reconstruction, and by plotting the reconstructed images"
      ]
    },
    {
      "cell_type": "code",
      "metadata": {
        "id": "3GpWcHRkPBJV",
        "colab_type": "code",
        "colab": {}
      },
      "source": [
        "x_training_reco= np.dot(x_training_pca, U_k.T)\n",
        "x_test_reco= np.dot(x_test_pca, U_k.T)\n",
        "\n",
        "\n"
      ],
      "execution_count": 0,
      "outputs": []
    },
    {
      "cell_type": "code",
      "metadata": {
        "id": "1CPhgcMZPmtM",
        "colab_type": "code",
        "outputId": "537e2907-5455-447b-a638-a01d3f7b38b0",
        "colab": {
          "base_uri": "https://localhost:8080/",
          "height": 71
        }
      },
      "source": [
        "accuracy_train = ((x_train - x_training_reco)**2).mean()\n",
        "accuracy_test = ((x_test - x_test_reco)**2).mean()\n",
        "\n",
        "print(\"training mse: %.5f\" % ( accuracy_train))\n",
        "print(\"test mse: %.5f\" % ( accuracy_test))"
      ],
      "execution_count": 0,
      "outputs": [
        {
          "output_type": "stream",
          "text": [
            "training mse: 0.00464\n",
            "test mse: 0.00455\n"
          ],
          "name": "stdout"
        }
      ]
    },
    {
      "cell_type": "code",
      "metadata": {
        "id": "EuBw_l_Cgo1o",
        "colab_type": "code",
        "colab": {}
      },
      "source": [
        "def plot_img(n, input_data, decoded_imgs):\n",
        "  plt.figure(figsize=(20, 4))\n",
        "  for i in range(n):\n",
        "    # display original\n",
        "    ax = plt.subplot(2, n, i + 1)\n",
        "    plt.imshow(input_data[i].reshape(28, 28))\n",
        "    plt.gray()\n",
        "    ax.get_xaxis().set_visible(False)\n",
        "    ax.get_yaxis().set_visible(False)\n",
        "\n",
        "    # display reconstruction\n",
        "    ax = plt.subplot(2, n, i + 1 + n)\n",
        "    plt.imshow(decoded_imgs[i].reshape(28, 28))\n",
        "    plt.gray()\n",
        "    ax.get_xaxis().set_visible(False)\n",
        "    ax.get_yaxis().set_visible(False)\n",
        "  plt.show()"
      ],
      "execution_count": 0,
      "outputs": []
    },
    {
      "cell_type": "markdown",
      "metadata": {
        "id": "CfqN6d8-37mu",
        "colab_type": "text"
      },
      "source": [
        "Let's check how well the input can be reconstructed, by printing a few of the input images and the corresponding reconstructions. Obviously, all these evaluations have to be done on the test set.\n",
        "\n",
        "The first row of images shows input data, while the second one shows the reconstructions."
      ]
    },
    {
      "cell_type": "code",
      "metadata": {
        "id": "FICZjh2mgz_7",
        "colab_type": "code",
        "outputId": "19101587-77fc-479b-beb9-ed478d4ead83",
        "colab": {
          "base_uri": "https://localhost:8080/",
          "height": 193
        }
      },
      "source": [
        "plot_img(10, x_test, x_test_reco)"
      ],
      "execution_count": 0,
      "outputs": [
        {
          "output_type": "display_data",
          "data": {
            "image/png": "[encoded data removed]",
            "text/plain": [
              "<Figure size 1440x288 with 20 Axes>"
            ]
          },
          "metadata": {
            "tags": [],
            "needs_background": "light"
          }
        }
      ]
    },
    {
      "cell_type": "markdown",
      "metadata": {
        "id": "O7crlDsMGrBN",
        "colab_type": "text"
      },
      "source": [
        "## Exercise 5.1: Shallow Linear Autoencoder\n",
        "Let's define the model that consists of a single fully-connected neural layer. The hidden layer and the output layer act as the encoder and the decoder, respectively. Differently than the previous homework, instead of using Keras.Sequential(), we define the various parts of the model (encoder and decoder) separately and create the final model. \n",
        "\n",
        "**To complete: check the results and compare them with the results obtained by SVD. Add a cell  at the end of this section (after the result of the linear autoencoder) where you give an explanation of the relation between the results obtained  by the shallow linear autoencoder and the ones obtained by the SVD decomposition.**\n",
        "\n",
        "\n"
      ]
    },
    {
      "cell_type": "code",
      "metadata": {
        "id": "GfBJJLioaWJN",
        "colab_type": "code",
        "colab": {}
      },
      "source": [
        "ENCODING_DIM = 120\n",
        "\n",
        "input_img = tf.keras.layers.Input(shape=(784,))\n",
        "#Define the encoder...\n",
        "encoded = tf.keras.layers.Dense(ENCODING_DIM, activation='linear')(input_img)\n",
        "\n",
        "#...and the decoder...\n",
        "decoded = tf.keras.layers.Dense(784, activation='linear')(encoded)\n",
        "\n",
        "#and finally the autoencoder\n",
        "autoencoder = tf.keras.models.Model(input_img, decoded)\n",
        "\n",
        "# In order to visualize the learned encoding, define a model that computes the \n",
        "# two parts separately.\n",
        "encoder = tf.keras.models.Model(input_img, encoded)\n",
        "encoded_input = tf.keras.layers.Input(shape=(ENCODING_DIM,))\n",
        "decoder_layer = autoencoder.layers[-1]\n",
        "decoder = tf.keras.models.Model(encoded_input, decoder_layer(encoded_input))\n",
        "\n",
        "#Finally, let's call the compile method\n",
        "autoencoder.compile(optimizer=tf.keras.optimizers.Adam(learning_rate=0.01), loss='mse')\n"
      ],
      "execution_count": 0,
      "outputs": []
    },
    {
      "cell_type": "markdown",
      "metadata": {
        "id": "A_4H-OFzI4tA",
        "colab_type": "text"
      },
      "source": [
        "Print the model summary."
      ]
    },
    {
      "cell_type": "code",
      "metadata": {
        "id": "4gr3B9qoC3zQ",
        "colab_type": "code",
        "outputId": "5a04258a-336a-4371-b1b1-dbf4d6f2348c",
        "colab": {
          "base_uri": "https://localhost:8080/",
          "height": 269
        }
      },
      "source": [
        "autoencoder.summary()"
      ],
      "execution_count": 0,
      "outputs": [
        {
          "output_type": "stream",
          "text": [
            "Model: \"model\"\n",
            "_________________________________________________________________\n",
            "Layer (type)                 Output Shape              Param #   \n",
            "=================================================================\n",
            "input_1 (InputLayer)         [(None, 784)]             0         \n",
            "_________________________________________________________________\n",
            "dense (Dense)                (None, 120)               94200     \n",
            "_________________________________________________________________\n",
            "dense_1 (Dense)              (None, 784)               94864     \n",
            "=================================================================\n",
            "Total params: 189,064\n",
            "Trainable params: 189,064\n",
            "Non-trainable params: 0\n",
            "_________________________________________________________________\n"
          ],
          "name": "stdout"
        }
      ]
    },
    {
      "cell_type": "markdown",
      "metadata": {
        "id": "Cz3q7uSsKA2N",
        "colab_type": "text"
      },
      "source": [
        "Train the model."
      ]
    },
    {
      "cell_type": "code",
      "metadata": {
        "id": "Szm0L3I03-G9",
        "colab_type": "code",
        "outputId": "459a6a0b-8853-49c6-a06c-01bae63b7370",
        "colab": {
          "base_uri": "https://localhost:8080/",
          "height": 533
        }
      },
      "source": [
        "history = autoencoder.fit(x_train, x_train, epochs=15, batch_size=512, shuffle=True, validation_data=(x_valid, x_valid))"
      ],
      "execution_count": 0,
      "outputs": [
        {
          "output_type": "stream",
          "text": [
            "Epoch 1/15\n",
            "98/98 [==============================] - 1s 5ms/step - loss: 0.0434 - val_loss: 0.0143\n",
            "Epoch 2/15\n",
            "98/98 [==============================] - 0s 4ms/step - loss: 0.0110 - val_loss: 0.0087\n",
            "Epoch 3/15\n",
            "98/98 [==============================] - 0s 4ms/step - loss: 0.0078 - val_loss: 0.0068\n",
            "Epoch 4/15\n",
            "98/98 [==============================] - 0s 4ms/step - loss: 0.0067 - val_loss: 0.0061\n",
            "Epoch 5/15\n",
            "98/98 [==============================] - 0s 4ms/step - loss: 0.0058 - val_loss: 0.0055\n",
            "Epoch 6/15\n",
            "98/98 [==============================] - 0s 4ms/step - loss: 0.0054 - val_loss: 0.0053\n",
            "Epoch 7/15\n",
            "98/98 [==============================] - 0s 4ms/step - loss: 0.0053 - val_loss: 0.0057\n",
            "Epoch 8/15\n",
            "98/98 [==============================] - 0s 4ms/step - loss: 0.0051 - val_loss: 0.0050\n",
            "Epoch 9/15\n",
            "98/98 [==============================] - 0s 4ms/step - loss: 0.0050 - val_loss: 0.0049\n",
            "Epoch 10/15\n",
            "98/98 [==============================] - 0s 4ms/step - loss: 0.0050 - val_loss: 0.0050\n",
            "Epoch 11/15\n",
            "98/98 [==============================] - 0s 4ms/step - loss: 0.0049 - val_loss: 0.0048\n",
            "Epoch 12/15\n",
            "98/98 [==============================] - 0s 4ms/step - loss: 0.0051 - val_loss: 0.0049\n",
            "Epoch 13/15\n",
            "98/98 [==============================] - 0s 4ms/step - loss: 0.0051 - val_loss: 0.0052\n",
            "Epoch 14/15\n",
            "98/98 [==============================] - 0s 4ms/step - loss: 0.0049 - val_loss: 0.0049\n",
            "Epoch 15/15\n",
            "98/98 [==============================] - 0s 4ms/step - loss: 0.0049 - val_loss: 0.0048\n"
          ],
          "name": "stdout"
        }
      ]
    },
    {
      "cell_type": "markdown",
      "metadata": {
        "id": "yfoaQXZgKJZm",
        "colab_type": "text"
      },
      "source": [
        "Plot the loss and the accuracy curves, and the accuracy on the test set."
      ]
    },
    {
      "cell_type": "code",
      "metadata": {
        "id": "15ZjvbTGDB8i",
        "colab_type": "code",
        "colab": {}
      },
      "source": [
        "def plot_loss(history):\n",
        "  plt.figure(figsize=(10,6))\n",
        "  plt.plot(history.epoch,history.history['loss'])\n",
        "  plt.plot(history.epoch,history.history['val_loss'])\n",
        "  plt.title('loss')"
      ],
      "execution_count": 0,
      "outputs": []
    },
    {
      "cell_type": "code",
      "metadata": {
        "id": "6Vb4ilH-DDyS",
        "colab_type": "code",
        "outputId": "e038c533-6e43-4a3e-d441-abbb452f37a7",
        "colab": {
          "base_uri": "https://localhost:8080/",
          "height": 443
        }
      },
      "source": [
        "plot_loss(history)\n",
        "\n",
        "scores = autoencoder.evaluate(x_test, x_test, verbose=2)\n",
        "print(\"test mse: %.5f\" % (scores))"
      ],
      "execution_count": 0,
      "outputs": [
        {
          "output_type": "stream",
          "text": [
            "313/313 - 0s - loss: 0.0048\n",
            "test mse: 0.00478\n"
          ],
          "name": "stdout"
        },
        {
          "output_type": "display_data",
          "data": {
            "image/png": "[encoded data removed]",
            "text/plain": [
              "<Figure size 720x432 with 1 Axes>"
            ]
          },
          "metadata": {
            "tags": [],
            "needs_background": "light"
          }
        }
      ]
    },
    {
      "cell_type": "code",
      "metadata": {
        "id": "XgG5Yt9ddmq-",
        "colab_type": "code",
        "outputId": "0effcd16-14ca-44b2-a051-df8a876ef9fb",
        "colab": {
          "base_uri": "https://localhost:8080/",
          "height": 193
        }
      },
      "source": [
        "encoded_imgs = encoder.predict(x_test)\n",
        "decoded_imgs = decoder.predict(encoded_imgs)\n",
        "\n",
        "plot_img(10, x_test, decoded_imgs)\n"
      ],
      "execution_count": 0,
      "outputs": [
        {
          "output_type": "display_data",
          "data": {
            "image/png": "[encoded data removed]",
            "text/plain": [
              "<Figure size 1440x288 with 20 Axes>"
            ]
          },
          "metadata": {
            "tags": [],
            "needs_background": "light"
          }
        }
      ]
    },
    {
      "cell_type": "markdown",
      "metadata": {
        "id": "Gyifd0SJHUYK",
        "colab_type": "text"
      },
      "source": [
        "The results are similar to the Single Value Decomposition, due to the fact that an autoencoder without non-linearity it's very similar to PCA.\n",
        "In the case of similar performace I think SVD is better because is computationally cheaper."
      ]
    },
    {
      "cell_type": "markdown",
      "metadata": {
        "id": "BhhQcerS4Xm0",
        "colab_type": "text"
      },
      "source": [
        "##Exercise  5.2: Shallow non-linear autoencoders\n",
        "\n",
        "**To complete: replicate the code of exercise 5.1 but in this case, instead of using linear activation functions use non-linear ones. Choose the most appropriate non-linear function, and motivate your choice. Then discuss the results in relation to those obtained in Exercise 5.1.**\n",
        "\n",
        "I tried to choose the non-linear functions that minimizes the mean squared error.\n",
        "I achieved the best performance using softplus function.\n",
        "Now, there's more sharpness on the reconstructed images and and black parts are more uniform.\n",
        "However the MSE is greater than the linear autoencoder if I train this autoencoder only 15 epochs. The situation change and MSE decrease if I train  this this network increasing epochs (e. g. 50)\n",
        "\n",
        "My original idea was to use sigmoid function on the output layer because pixels are values between 0 and 1 but in this case performance didn't increase. Probably because of the other hyperparameters like learning rate, epochs and batch_size. This exercise asked me to change only the activation functions so I didn't change other hyperparameters.\n"
      ]
    },
    {
      "cell_type": "code",
      "metadata": {
        "id": "uR69PtcoEfQw",
        "colab_type": "code",
        "outputId": "c91b3ed2-c648-420c-d8f2-1bf18e693a8f",
        "colab": {
          "base_uri": "https://localhost:8080/",
          "height": 1000
        }
      },
      "source": [
        "input_img = tf.keras.layers.Input(shape=(784,))\n",
        "#Define the encoder...\n",
        "encoded = tf.keras.layers.Dense(ENCODING_DIM, activation='softplus')(input_img)\n",
        "\n",
        "#...and the decoder...\n",
        "decoded = tf.keras.layers.Dense(784, activation='softplus')(encoded)\n",
        "\n",
        "#and finally the autoencoder\n",
        "autoencoder = tf.keras.models.Model(input_img, decoded)\n",
        "\n",
        "# In order to visualize the learned encoding, define a model that computes the \n",
        "# two parts separately.\n",
        "encoder = tf.keras.models.Model(input_img, encoded)\n",
        "encoded_input = tf.keras.layers.Input(shape=(ENCODING_DIM,))\n",
        "decoder_layer = autoencoder.layers[-1]\n",
        "decoder = tf.keras.models.Model(encoded_input, decoder_layer(encoded_input))\n",
        "\n",
        "#Finally, let's call the compile method\n",
        "autoencoder.compile(optimizer=tf.keras.optimizers.Adam(learning_rate=0.01),\n",
        "                    loss='mse')\n",
        "\n",
        "\n",
        "\n",
        "history = autoencoder.fit(x_train, x_train, epochs=15, batch_size=512, \n",
        "                          shuffle=True, validation_data=(x_valid, x_valid))\n",
        "\n",
        "plot_loss(history)\n",
        "\n",
        "scores = autoencoder.evaluate(x_test, x_test, verbose=2)\n",
        "print(\"test mse: %.5f\" % (scores))\n",
        "\n",
        "\n",
        "encoded_imgs = encoder.predict(x_test)\n",
        "decoded_imgs = decoder.predict(encoded_imgs)\n",
        "\n",
        "plot_img(10, x_test, decoded_imgs)"
      ],
      "execution_count": 0,
      "outputs": [
        {
          "output_type": "stream",
          "text": [
            "Epoch 1/15\n",
            "98/98 [==============================] - 0s 5ms/step - loss: 0.0555 - val_loss: 0.0256\n",
            "Epoch 2/15\n",
            "98/98 [==============================] - 0s 4ms/step - loss: 0.0198 - val_loss: 0.0162\n",
            "Epoch 3/15\n",
            "98/98 [==============================] - 0s 4ms/step - loss: 0.0148 - val_loss: 0.0136\n",
            "Epoch 4/15\n",
            "98/98 [==============================] - 0s 4ms/step - loss: 0.0130 - val_loss: 0.0123\n",
            "Epoch 5/15\n",
            "98/98 [==============================] - 0s 5ms/step - loss: 0.0121 - val_loss: 0.0117\n",
            "Epoch 6/15\n",
            "98/98 [==============================] - 0s 5ms/step - loss: 0.0113 - val_loss: 0.0113\n",
            "Epoch 7/15\n",
            "98/98 [==============================] - 0s 5ms/step - loss: 0.0109 - val_loss: 0.0109\n",
            "Epoch 8/15\n",
            "98/98 [==============================] - 0s 5ms/step - loss: 0.0105 - val_loss: 0.0105\n",
            "Epoch 9/15\n",
            "98/98 [==============================] - 0s 5ms/step - loss: 0.0101 - val_loss: 0.0101\n",
            "Epoch 10/15\n",
            "98/98 [==============================] - 0s 5ms/step - loss: 0.0099 - val_loss: 0.0099\n",
            "Epoch 11/15\n",
            "98/98 [==============================] - 0s 4ms/step - loss: 0.0097 - val_loss: 0.0097\n",
            "Epoch 12/15\n",
            "98/98 [==============================] - 0s 4ms/step - loss: 0.0093 - val_loss: 0.0095\n",
            "Epoch 13/15\n",
            "98/98 [==============================] - 0s 4ms/step - loss: 0.0092 - val_loss: 0.0091\n",
            "Epoch 14/15\n",
            "98/98 [==============================] - 0s 5ms/step - loss: 0.0089 - val_loss: 0.0090\n",
            "Epoch 15/15\n",
            "98/98 [==============================] - 0s 4ms/step - loss: 0.0087 - val_loss: 0.0088\n",
            "313/313 - 0s - loss: 0.0087\n",
            "test mse: 0.00873\n"
          ],
          "name": "stdout"
        },
        {
          "output_type": "display_data",
          "data": {
            "image/png": "[encoded data removed]",
            "text/plain": [
              "<Figure size 720x432 with 1 Axes>"
            ]
          },
          "metadata": {
            "tags": [],
            "needs_background": "light"
          }
        },
        {
          "output_type": "display_data",
          "data": {
            "image/png": "[encoded data removed]",
            "text/plain": [
              "<Figure size 1440x288 with 20 Axes>"
            ]
          },
          "metadata": {
            "tags": [],
            "needs_background": "light"
          }
        }
      ]
    },
    {
      "cell_type": "markdown",
      "metadata": {
        "id": "UjzlA8YV4ux5",
        "colab_type": "text"
      },
      "source": [
        "## Exercise 5.3: Deep Autoencoder\n",
        "**To_complete: Define a deep version of the Autoeancoder defined above. The autoencoder has to use at least 5 layers. The model will use $n$ layers for encoding, and n-1 for decoding. The layers sizes of the encoding part decrease at each layer (e.g., 748->128->64, where 64 is the encoding dim). The decoding part layers dimensions progression turns out to be mirrored (i.e, 128->748, the resulting structure recall an hourglass).\n",
        "Similarly than what did above, print the model summary, the loss curve during the training, the achieved loss on the test set, and some input image with the correspondent decoding.**\n"
      ]
    },
    {
      "cell_type": "code",
      "metadata": {
        "id": "S6O7Bq8C4udX",
        "colab_type": "code",
        "colab": {}
      },
      "source": [
        "ENCODING_DIM = 64\n",
        "\n",
        "input_img = tf.keras.layers.Input(shape=(784,))\n",
        "\n",
        "encoded_1 = tf.keras.layers.Dense(512, activation='softplus')(input_img)\n",
        "encoded_2 = tf.keras.layers.Dense(256, activation='softplus')(encoded_1)\n",
        "encoded_3 = tf.keras.layers.Dense(128, activation='softplus')(encoded_2)\n",
        "encoded_4 = tf.keras.layers.Dense(ENCODING_DIM, activation='softplus')(encoded_2)\n",
        "\n",
        "decoded_1 = tf.keras.layers.Dense(128, activation='softplus')(encoded_3)\n",
        "decoded_2 = tf.keras.layers.Dense(256, activation='softplus')(decoded_1)\n",
        "decoded_3 = tf.keras.layers.Dense(784, activation='sigmoid')(decoded_2)\n",
        "\n",
        "autoencoder = tf.keras.models.Model(input_img, decoded_3)\n",
        "\n",
        "autoencoder.compile(optimizer=tf.keras.optimizers.Adam(learning_rate=0.0001),\n",
        "                    loss='mse')"
      ],
      "execution_count": 0,
      "outputs": []
    },
    {
      "cell_type": "code",
      "metadata": {
        "id": "4XL8uh9MFV03",
        "colab_type": "code",
        "outputId": "96bf68a2-4ff7-44da-a4c1-59e3dd9ab656",
        "colab": {
          "base_uri": "https://localhost:8080/",
          "height": 401
        }
      },
      "source": [
        "autoencoder.summary()"
      ],
      "execution_count": 0,
      "outputs": [
        {
          "output_type": "stream",
          "text": [
            "Model: \"model_6\"\n",
            "_________________________________________________________________\n",
            "Layer (type)                 Output Shape              Param #   \n",
            "=================================================================\n",
            "input_5 (InputLayer)         [(None, 784)]             0         \n",
            "_________________________________________________________________\n",
            "dense_4 (Dense)              (None, 512)               401920    \n",
            "_________________________________________________________________\n",
            "dense_5 (Dense)              (None, 256)               131328    \n",
            "_________________________________________________________________\n",
            "dense_6 (Dense)              (None, 128)               32896     \n",
            "_________________________________________________________________\n",
            "dense_8 (Dense)              (None, 128)               16512     \n",
            "_________________________________________________________________\n",
            "dense_9 (Dense)              (None, 256)               33024     \n",
            "_________________________________________________________________\n",
            "dense_10 (Dense)             (None, 784)               201488    \n",
            "=================================================================\n",
            "Total params: 817,168\n",
            "Trainable params: 817,168\n",
            "Non-trainable params: 0\n",
            "_________________________________________________________________\n"
          ],
          "name": "stdout"
        }
      ]
    },
    {
      "cell_type": "code",
      "metadata": {
        "id": "ITsWoDrJ4uZy",
        "colab_type": "code",
        "outputId": "09640046-0249-48f8-851b-93343d361f76",
        "colab": {
          "base_uri": "https://localhost:8080/",
          "height": 1000
        }
      },
      "source": [
        "history = autoencoder.fit(x_train, x_train, epochs=500, batch_size=256, \n",
        "                          shuffle=True, validation_data=(x_valid, x_valid))"
      ],
      "execution_count": 0,
      "outputs": [
        {
          "output_type": "stream",
          "text": [
            "Epoch 1/500\n",
            "196/196 [==============================] - 1s 5ms/step - loss: 0.0936 - val_loss: 0.0629\n",
            "Epoch 2/500\n",
            "196/196 [==============================] - 1s 3ms/step - loss: 0.0507 - val_loss: 0.0390\n",
            "Epoch 3/500\n",
            "196/196 [==============================] - 1s 3ms/step - loss: 0.0342 - val_loss: 0.0298\n",
            "Epoch 4/500\n",
            "196/196 [==============================] - 1s 3ms/step - loss: 0.0278 - val_loss: 0.0254\n",
            "Epoch 5/500\n",
            "196/196 [==============================] - 1s 4ms/step - loss: 0.0242 - val_loss: 0.0224\n",
            "Epoch 6/500\n",
            "196/196 [==============================] - 1s 3ms/step - loss: 0.0215 - val_loss: 0.0202\n",
            "Epoch 7/500\n",
            "196/196 [==============================] - 1s 4ms/step - loss: 0.0195 - val_loss: 0.0184\n",
            "Epoch 8/500\n",
            "196/196 [==============================] - 1s 4ms/step - loss: 0.0179 - val_loss: 0.0170\n",
            "Epoch 9/500\n",
            "196/196 [==============================] - 1s 4ms/step - loss: 0.0167 - val_loss: 0.0159\n",
            "Epoch 10/500\n",
            "196/196 [==============================] - 1s 3ms/step - loss: 0.0156 - val_loss: 0.0149\n",
            "Epoch 11/500\n",
            "196/196 [==============================] - 1s 3ms/step - loss: 0.0148 - val_loss: 0.0142\n",
            "Epoch 12/500\n",
            "196/196 [==============================] - 1s 4ms/step - loss: 0.0140 - val_loss: 0.0135\n",
            "Epoch 13/500\n",
            "196/196 [==============================] - 1s 4ms/step - loss: 0.0134 - val_loss: 0.0130\n",
            "Epoch 14/500\n",
            "196/196 [==============================] - 1s 4ms/step - loss: 0.0128 - val_loss: 0.0124\n",
            "Epoch 15/500\n",
            "196/196 [==============================] - 1s 4ms/step - loss: 0.0124 - val_loss: 0.0120\n",
            "Epoch 16/500\n",
            "196/196 [==============================] - 1s 4ms/step - loss: 0.0119 - val_loss: 0.0116\n",
            "Epoch 17/500\n",
            "196/196 [==============================] - 1s 3ms/step - loss: 0.0115 - val_loss: 0.0113\n",
            "Epoch 18/500\n",
            "196/196 [==============================] - 1s 3ms/step - loss: 0.0112 - val_loss: 0.0109\n",
            "Epoch 19/500\n",
            "196/196 [==============================] - 1s 4ms/step - loss: 0.0108 - val_loss: 0.0106\n",
            "Epoch 20/500\n",
            "196/196 [==============================] - 1s 3ms/step - loss: 0.0105 - val_loss: 0.0103\n",
            "Epoch 21/500\n",
            "196/196 [==============================] - 1s 3ms/step - loss: 0.0102 - val_loss: 0.0100\n",
            "Epoch 22/500\n",
            "196/196 [==============================] - 1s 4ms/step - loss: 0.0100 - val_loss: 0.0098\n",
            "Epoch 23/500\n",
            "196/196 [==============================] - 1s 4ms/step - loss: 0.0097 - val_loss: 0.0096\n",
            "Epoch 24/500\n",
            "196/196 [==============================] - 1s 3ms/step - loss: 0.0095 - val_loss: 0.0094\n",
            "Epoch 25/500\n",
            "196/196 [==============================] - 1s 3ms/step - loss: 0.0093 - val_loss: 0.0091\n",
            "Epoch 26/500\n",
            "196/196 [==============================] - 1s 3ms/step - loss: 0.0091 - val_loss: 0.0090\n",
            "Epoch 27/500\n",
            "196/196 [==============================] - 1s 3ms/step - loss: 0.0089 - val_loss: 0.0088\n",
            "Epoch 28/500\n",
            "196/196 [==============================] - 1s 4ms/step - loss: 0.0087 - val_loss: 0.0086\n",
            "Epoch 29/500\n",
            "196/196 [==============================] - 1s 4ms/step - loss: 0.0085 - val_loss: 0.0083\n",
            "Epoch 30/500\n",
            "196/196 [==============================] - 1s 4ms/step - loss: 0.0083 - val_loss: 0.0082\n",
            "Epoch 31/500\n",
            "196/196 [==============================] - 1s 4ms/step - loss: 0.0081 - val_loss: 0.0080\n",
            "Epoch 32/500\n",
            "196/196 [==============================] - 1s 4ms/step - loss: 0.0080 - val_loss: 0.0079\n",
            "Epoch 33/500\n",
            "196/196 [==============================] - 1s 4ms/step - loss: 0.0078 - val_loss: 0.0078\n",
            "Epoch 34/500\n",
            "196/196 [==============================] - 1s 4ms/step - loss: 0.0077 - val_loss: 0.0076\n",
            "Epoch 35/500\n",
            "196/196 [==============================] - 1s 4ms/step - loss: 0.0076 - val_loss: 0.0075\n",
            "Epoch 36/500\n",
            "196/196 [==============================] - 1s 4ms/step - loss: 0.0074 - val_loss: 0.0074\n",
            "Epoch 37/500\n",
            "196/196 [==============================] - 1s 4ms/step - loss: 0.0073 - val_loss: 0.0072\n",
            "Epoch 38/500\n",
            "196/196 [==============================] - 1s 4ms/step - loss: 0.0072 - val_loss: 0.0072\n",
            "Epoch 39/500\n",
            "196/196 [==============================] - 1s 4ms/step - loss: 0.0071 - val_loss: 0.0070\n",
            "Epoch 40/500\n",
            "196/196 [==============================] - 1s 4ms/step - loss: 0.0070 - val_loss: 0.0070\n",
            "Epoch 41/500\n",
            "196/196 [==============================] - 1s 4ms/step - loss: 0.0069 - val_loss: 0.0069\n",
            "Epoch 42/500\n",
            "196/196 [==============================] - 1s 4ms/step - loss: 0.0068 - val_loss: 0.0067\n",
            "Epoch 43/500\n",
            "196/196 [==============================] - 1s 4ms/step - loss: 0.0067 - val_loss: 0.0066\n",
            "Epoch 44/500\n",
            "196/196 [==============================] - 1s 3ms/step - loss: 0.0066 - val_loss: 0.0065\n",
            "Epoch 45/500\n",
            "196/196 [==============================] - 1s 3ms/step - loss: 0.0065 - val_loss: 0.0065\n",
            "Epoch 46/500\n",
            "196/196 [==============================] - 1s 3ms/step - loss: 0.0064 - val_loss: 0.0065\n",
            "Epoch 47/500\n",
            "196/196 [==============================] - 1s 3ms/step - loss: 0.0063 - val_loss: 0.0063\n",
            "Epoch 48/500\n",
            "196/196 [==============================] - 1s 4ms/step - loss: 0.0063 - val_loss: 0.0063\n",
            "Epoch 49/500\n",
            "196/196 [==============================] - 1s 4ms/step - loss: 0.0062 - val_loss: 0.0062\n",
            "Epoch 50/500\n",
            "196/196 [==============================] - 1s 3ms/step - loss: 0.0062 - val_loss: 0.0061\n",
            "Epoch 51/500\n",
            "196/196 [==============================] - 1s 3ms/step - loss: 0.0061 - val_loss: 0.0061\n",
            "Epoch 52/500\n",
            "196/196 [==============================] - 1s 4ms/step - loss: 0.0060 - val_loss: 0.0060\n",
            "Epoch 53/500\n",
            "196/196 [==============================] - 1s 3ms/step - loss: 0.0059 - val_loss: 0.0060\n",
            "Epoch 54/500\n",
            "196/196 [==============================] - 1s 3ms/step - loss: 0.0059 - val_loss: 0.0059\n",
            "Epoch 55/500\n",
            "196/196 [==============================] - 1s 3ms/step - loss: 0.0058 - val_loss: 0.0058\n",
            "Epoch 56/500\n",
            "196/196 [==============================] - 1s 3ms/step - loss: 0.0057 - val_loss: 0.0058\n",
            "Epoch 57/500\n",
            "196/196 [==============================] - 1s 3ms/step - loss: 0.0057 - val_loss: 0.0056\n",
            "Epoch 58/500\n",
            "196/196 [==============================] - 1s 3ms/step - loss: 0.0056 - val_loss: 0.0056\n",
            "Epoch 59/500\n",
            "196/196 [==============================] - 1s 3ms/step - loss: 0.0055 - val_loss: 0.0056\n",
            "Epoch 60/500\n",
            "196/196 [==============================] - 1s 4ms/step - loss: 0.0055 - val_loss: 0.0055\n",
            "Epoch 61/500\n",
            "196/196 [==============================] - 1s 3ms/step - loss: 0.0054 - val_loss: 0.0054\n",
            "Epoch 62/500\n",
            "196/196 [==============================] - 1s 3ms/step - loss: 0.0054 - val_loss: 0.0054\n",
            "Epoch 63/500\n",
            "196/196 [==============================] - 1s 3ms/step - loss: 0.0053 - val_loss: 0.0053\n",
            "Epoch 64/500\n",
            "196/196 [==============================] - 1s 3ms/step - loss: 0.0052 - val_loss: 0.0052\n",
            "Epoch 65/500\n",
            "196/196 [==============================] - 1s 3ms/step - loss: 0.0051 - val_loss: 0.0052\n",
            "Epoch 66/500\n",
            "196/196 [==============================] - 1s 3ms/step - loss: 0.0051 - val_loss: 0.0051\n",
            "Epoch 67/500\n",
            "196/196 [==============================] - 1s 3ms/step - loss: 0.0051 - val_loss: 0.0051\n",
            "Epoch 68/500\n",
            "196/196 [==============================] - 1s 4ms/step - loss: 0.0050 - val_loss: 0.0050\n",
            "Epoch 69/500\n",
            "196/196 [==============================] - 1s 3ms/step - loss: 0.0050 - val_loss: 0.0050\n",
            "Epoch 70/500\n",
            "196/196 [==============================] - 1s 3ms/step - loss: 0.0049 - val_loss: 0.0050\n",
            "Epoch 71/500\n",
            "196/196 [==============================] - 1s 3ms/step - loss: 0.0049 - val_loss: 0.0049\n",
            "Epoch 72/500\n",
            "196/196 [==============================] - 1s 3ms/step - loss: 0.0049 - val_loss: 0.0049\n",
            "Epoch 73/500\n",
            "196/196 [==============================] - 1s 3ms/step - loss: 0.0048 - val_loss: 0.0048\n",
            "Epoch 74/500\n",
            "196/196 [==============================] - 1s 3ms/step - loss: 0.0048 - val_loss: 0.0048\n",
            "Epoch 75/500\n",
            "196/196 [==============================] - 1s 3ms/step - loss: 0.0047 - val_loss: 0.0048\n",
            "Epoch 76/500\n",
            "196/196 [==============================] - 1s 3ms/step - loss: 0.0047 - val_loss: 0.0048\n",
            "Epoch 77/500\n",
            "196/196 [==============================] - 1s 3ms/step - loss: 0.0047 - val_loss: 0.0047\n",
            "Epoch 78/500\n",
            "196/196 [==============================] - 1s 3ms/step - loss: 0.0046 - val_loss: 0.0047\n",
            "Epoch 79/500\n",
            "196/196 [==============================] - 1s 3ms/step - loss: 0.0046 - val_loss: 0.0047\n",
            "Epoch 80/500\n",
            "196/196 [==============================] - 1s 3ms/step - loss: 0.0046 - val_loss: 0.0046\n",
            "Epoch 81/500\n",
            "196/196 [==============================] - 1s 3ms/step - loss: 0.0046 - val_loss: 0.0046\n",
            "Epoch 82/500\n",
            "196/196 [==============================] - 1s 3ms/step - loss: 0.0045 - val_loss: 0.0046\n",
            "Epoch 83/500\n",
            "196/196 [==============================] - 1s 3ms/step - loss: 0.0045 - val_loss: 0.0045\n",
            "Epoch 84/500\n",
            "196/196 [==============================] - 1s 4ms/step - loss: 0.0044 - val_loss: 0.0045\n",
            "Epoch 85/500\n",
            "196/196 [==============================] - 1s 3ms/step - loss: 0.0044 - val_loss: 0.0045\n",
            "Epoch 86/500\n",
            "196/196 [==============================] - 1s 3ms/step - loss: 0.0044 - val_loss: 0.0044\n",
            "Epoch 87/500\n",
            "196/196 [==============================] - 1s 3ms/step - loss: 0.0044 - val_loss: 0.0044\n",
            "Epoch 88/500\n",
            "196/196 [==============================] - 1s 3ms/step - loss: 0.0043 - val_loss: 0.0044\n",
            "Epoch 89/500\n",
            "196/196 [==============================] - 1s 3ms/step - loss: 0.0043 - val_loss: 0.0043\n",
            "Epoch 90/500\n",
            "196/196 [==============================] - 1s 3ms/step - loss: 0.0043 - val_loss: 0.0043\n",
            "Epoch 91/500\n",
            "196/196 [==============================] - 1s 4ms/step - loss: 0.0042 - val_loss: 0.0043\n",
            "Epoch 92/500\n",
            "196/196 [==============================] - 1s 3ms/step - loss: 0.0042 - val_loss: 0.0043\n",
            "Epoch 93/500\n",
            "196/196 [==============================] - 1s 3ms/step - loss: 0.0042 - val_loss: 0.0043\n",
            "Epoch 94/500\n",
            "196/196 [==============================] - 1s 3ms/step - loss: 0.0042 - val_loss: 0.0042\n",
            "Epoch 95/500\n",
            "196/196 [==============================] - 1s 3ms/step - loss: 0.0041 - val_loss: 0.0042\n",
            "Epoch 96/500\n",
            "196/196 [==============================] - 1s 3ms/step - loss: 0.0041 - val_loss: 0.0042\n",
            "Epoch 97/500\n",
            "196/196 [==============================] - 1s 3ms/step - loss: 0.0041 - val_loss: 0.0042\n",
            "Epoch 98/500\n",
            "196/196 [==============================] - 1s 3ms/step - loss: 0.0041 - val_loss: 0.0041\n",
            "Epoch 99/500\n",
            "196/196 [==============================] - 1s 4ms/step - loss: 0.0040 - val_loss: 0.0041\n",
            "Epoch 100/500\n",
            "196/196 [==============================] - 1s 3ms/step - loss: 0.0040 - val_loss: 0.0041\n",
            "Epoch 101/500\n",
            "196/196 [==============================] - 1s 3ms/step - loss: 0.0040 - val_loss: 0.0040\n",
            "Epoch 102/500\n",
            "196/196 [==============================] - 1s 4ms/step - loss: 0.0040 - val_loss: 0.0040\n",
            "Epoch 103/500\n",
            "196/196 [==============================] - 1s 3ms/step - loss: 0.0039 - val_loss: 0.0040\n",
            "Epoch 104/500\n",
            "196/196 [==============================] - 1s 4ms/step - loss: 0.0039 - val_loss: 0.0040\n",
            "Epoch 105/500\n",
            "196/196 [==============================] - 1s 4ms/step - loss: 0.0039 - val_loss: 0.0040\n",
            "Epoch 106/500\n",
            "196/196 [==============================] - 1s 4ms/step - loss: 0.0039 - val_loss: 0.0039\n",
            "Epoch 107/500\n",
            "196/196 [==============================] - 1s 3ms/step - loss: 0.0039 - val_loss: 0.0039\n",
            "Epoch 108/500\n",
            "196/196 [==============================] - 1s 3ms/step - loss: 0.0038 - val_loss: 0.0039\n",
            "Epoch 109/500\n",
            "196/196 [==============================] - 1s 4ms/step - loss: 0.0038 - val_loss: 0.0039\n",
            "Epoch 110/500\n",
            "196/196 [==============================] - 1s 3ms/step - loss: 0.0038 - val_loss: 0.0039\n",
            "Epoch 111/500\n",
            "196/196 [==============================] - 1s 4ms/step - loss: 0.0038 - val_loss: 0.0039\n",
            "Epoch 112/500\n",
            "196/196 [==============================] - 1s 3ms/step - loss: 0.0038 - val_loss: 0.0038\n",
            "Epoch 113/500\n",
            "196/196 [==============================] - 1s 3ms/step - loss: 0.0037 - val_loss: 0.0038\n",
            "Epoch 114/500\n",
            "196/196 [==============================] - 1s 4ms/step - loss: 0.0037 - val_loss: 0.0038\n",
            "Epoch 115/500\n",
            "196/196 [==============================] - 1s 3ms/step - loss: 0.0037 - val_loss: 0.0038\n",
            "Epoch 116/500\n",
            "196/196 [==============================] - 1s 3ms/step - loss: 0.0037 - val_loss: 0.0038\n",
            "Epoch 117/500\n",
            "196/196 [==============================] - 1s 3ms/step - loss: 0.0037 - val_loss: 0.0037\n",
            "Epoch 118/500\n",
            "196/196 [==============================] - 1s 3ms/step - loss: 0.0037 - val_loss: 0.0037\n",
            "Epoch 119/500\n",
            "196/196 [==============================] - 1s 4ms/step - loss: 0.0036 - val_loss: 0.0037\n",
            "Epoch 120/500\n",
            "196/196 [==============================] - 1s 3ms/step - loss: 0.0036 - val_loss: 0.0037\n",
            "Epoch 121/500\n",
            "196/196 [==============================] - 1s 4ms/step - loss: 0.0036 - val_loss: 0.0037\n",
            "Epoch 122/500\n",
            "196/196 [==============================] - 1s 3ms/step - loss: 0.0036 - val_loss: 0.0037\n",
            "Epoch 123/500\n",
            "196/196 [==============================] - 1s 4ms/step - loss: 0.0036 - val_loss: 0.0037\n",
            "Epoch 124/500\n",
            "196/196 [==============================] - 1s 4ms/step - loss: 0.0036 - val_loss: 0.0037\n",
            "Epoch 125/500\n",
            "196/196 [==============================] - 1s 4ms/step - loss: 0.0036 - val_loss: 0.0036\n",
            "Epoch 126/500\n",
            "196/196 [==============================] - 1s 3ms/step - loss: 0.0035 - val_loss: 0.0036\n",
            "Epoch 127/500\n",
            "196/196 [==============================] - 1s 3ms/step - loss: 0.0035 - val_loss: 0.0036\n",
            "Epoch 128/500\n",
            "196/196 [==============================] - 1s 3ms/step - loss: 0.0035 - val_loss: 0.0036\n",
            "Epoch 129/500\n",
            "196/196 [==============================] - 1s 3ms/step - loss: 0.0035 - val_loss: 0.0036\n",
            "Epoch 130/500\n",
            "196/196 [==============================] - 1s 4ms/step - loss: 0.0035 - val_loss: 0.0035\n",
            "Epoch 131/500\n",
            "196/196 [==============================] - 1s 3ms/step - loss: 0.0035 - val_loss: 0.0035\n",
            "Epoch 132/500\n",
            "196/196 [==============================] - 1s 3ms/step - loss: 0.0035 - val_loss: 0.0035\n",
            "Epoch 133/500\n",
            "196/196 [==============================] - 1s 3ms/step - loss: 0.0034 - val_loss: 0.0035\n",
            "Epoch 134/500\n",
            "196/196 [==============================] - 1s 3ms/step - loss: 0.0034 - val_loss: 0.0035\n",
            "Epoch 135/500\n",
            "196/196 [==============================] - 1s 3ms/step - loss: 0.0034 - val_loss: 0.0035\n",
            "Epoch 136/500\n",
            "196/196 [==============================] - 1s 3ms/step - loss: 0.0034 - val_loss: 0.0034\n",
            "Epoch 137/500\n",
            "196/196 [==============================] - 1s 3ms/step - loss: 0.0034 - val_loss: 0.0034\n",
            "Epoch 138/500\n",
            "196/196 [==============================] - 1s 3ms/step - loss: 0.0033 - val_loss: 0.0034\n",
            "Epoch 139/500\n",
            "196/196 [==============================] - 1s 3ms/step - loss: 0.0033 - val_loss: 0.0034\n",
            "Epoch 140/500\n",
            "196/196 [==============================] - 1s 3ms/step - loss: 0.0033 - val_loss: 0.0034\n",
            "Epoch 141/500\n",
            "196/196 [==============================] - 1s 3ms/step - loss: 0.0033 - val_loss: 0.0034\n",
            "Epoch 142/500\n",
            "196/196 [==============================] - 1s 3ms/step - loss: 0.0033 - val_loss: 0.0034\n",
            "Epoch 143/500\n",
            "196/196 [==============================] - 1s 3ms/step - loss: 0.0033 - val_loss: 0.0034\n",
            "Epoch 144/500\n",
            "196/196 [==============================] - 1s 3ms/step - loss: 0.0033 - val_loss: 0.0033\n",
            "Epoch 145/500\n",
            "196/196 [==============================] - 1s 4ms/step - loss: 0.0033 - val_loss: 0.0033\n",
            "Epoch 146/500\n",
            "196/196 [==============================] - 1s 3ms/step - loss: 0.0032 - val_loss: 0.0033\n",
            "Epoch 147/500\n",
            "196/196 [==============================] - 1s 3ms/step - loss: 0.0032 - val_loss: 0.0033\n",
            "Epoch 148/500\n",
            "196/196 [==============================] - 1s 3ms/step - loss: 0.0032 - val_loss: 0.0033\n",
            "Epoch 149/500\n",
            "196/196 [==============================] - 1s 3ms/step - loss: 0.0032 - val_loss: 0.0033\n",
            "Epoch 150/500\n",
            "196/196 [==============================] - 1s 3ms/step - loss: 0.0032 - val_loss: 0.0033\n",
            "Epoch 151/500\n",
            "196/196 [==============================] - 1s 3ms/step - loss: 0.0032 - val_loss: 0.0033\n",
            "Epoch 152/500\n",
            "196/196 [==============================] - 1s 3ms/step - loss: 0.0032 - val_loss: 0.0033\n",
            "Epoch 153/500\n",
            "196/196 [==============================] - 1s 3ms/step - loss: 0.0032 - val_loss: 0.0032\n",
            "Epoch 154/500\n",
            "196/196 [==============================] - 1s 3ms/step - loss: 0.0031 - val_loss: 0.0032\n",
            "Epoch 155/500\n",
            "196/196 [==============================] - 1s 3ms/step - loss: 0.0031 - val_loss: 0.0033\n",
            "Epoch 156/500\n",
            "196/196 [==============================] - 1s 3ms/step - loss: 0.0031 - val_loss: 0.0032\n",
            "Epoch 157/500\n",
            "196/196 [==============================] - 1s 3ms/step - loss: 0.0031 - val_loss: 0.0032\n",
            "Epoch 158/500\n",
            "196/196 [==============================] - 1s 3ms/step - loss: 0.0031 - val_loss: 0.0032\n",
            "Epoch 159/500\n",
            "196/196 [==============================] - 1s 3ms/step - loss: 0.0031 - val_loss: 0.0032\n",
            "Epoch 160/500\n",
            "196/196 [==============================] - 1s 4ms/step - loss: 0.0031 - val_loss: 0.0032\n",
            "Epoch 161/500\n",
            "196/196 [==============================] - 1s 4ms/step - loss: 0.0031 - val_loss: 0.0032\n",
            "Epoch 162/500\n",
            "196/196 [==============================] - 1s 3ms/step - loss: 0.0031 - val_loss: 0.0032\n",
            "Epoch 163/500\n",
            "196/196 [==============================] - 1s 3ms/step - loss: 0.0031 - val_loss: 0.0032\n",
            "Epoch 164/500\n",
            "196/196 [==============================] - 1s 3ms/step - loss: 0.0031 - val_loss: 0.0032\n",
            "Epoch 165/500\n",
            "196/196 [==============================] - 1s 3ms/step - loss: 0.0030 - val_loss: 0.0031\n",
            "Epoch 166/500\n",
            "196/196 [==============================] - 1s 3ms/step - loss: 0.0030 - val_loss: 0.0031\n",
            "Epoch 167/500\n",
            "196/196 [==============================] - 1s 3ms/step - loss: 0.0030 - val_loss: 0.0031\n",
            "Epoch 168/500\n",
            "196/196 [==============================] - 1s 3ms/step - loss: 0.0030 - val_loss: 0.0031\n",
            "Epoch 169/500\n",
            "196/196 [==============================] - 1s 4ms/step - loss: 0.0030 - val_loss: 0.0031\n",
            "Epoch 170/500\n",
            "196/196 [==============================] - 1s 3ms/step - loss: 0.0030 - val_loss: 0.0031\n",
            "Epoch 171/500\n",
            "196/196 [==============================] - 1s 3ms/step - loss: 0.0030 - val_loss: 0.0031\n",
            "Epoch 172/500\n",
            "196/196 [==============================] - 1s 3ms/step - loss: 0.0030 - val_loss: 0.0031\n",
            "Epoch 173/500\n",
            "196/196 [==============================] - 1s 3ms/step - loss: 0.0030 - val_loss: 0.0031\n",
            "Epoch 174/500\n",
            "196/196 [==============================] - 1s 3ms/step - loss: 0.0030 - val_loss: 0.0031\n",
            "Epoch 175/500\n",
            "196/196 [==============================] - 1s 3ms/step - loss: 0.0030 - val_loss: 0.0030\n",
            "Epoch 176/500\n",
            "196/196 [==============================] - 1s 3ms/step - loss: 0.0029 - val_loss: 0.0031\n",
            "Epoch 177/500\n",
            "196/196 [==============================] - 1s 3ms/step - loss: 0.0029 - val_loss: 0.0030\n",
            "Epoch 178/500\n",
            "196/196 [==============================] - 1s 3ms/step - loss: 0.0029 - val_loss: 0.0030\n",
            "Epoch 179/500\n",
            "196/196 [==============================] - 1s 3ms/step - loss: 0.0029 - val_loss: 0.0030\n",
            "Epoch 180/500\n",
            "196/196 [==============================] - 1s 3ms/step - loss: 0.0029 - val_loss: 0.0030\n",
            "Epoch 181/500\n",
            "196/196 [==============================] - 1s 4ms/step - loss: 0.0029 - val_loss: 0.0030\n",
            "Epoch 182/500\n",
            "196/196 [==============================] - 1s 3ms/step - loss: 0.0029 - val_loss: 0.0030\n",
            "Epoch 183/500\n",
            "196/196 [==============================] - 1s 3ms/step - loss: 0.0029 - val_loss: 0.0030\n",
            "Epoch 184/500\n",
            "196/196 [==============================] - 1s 3ms/step - loss: 0.0029 - val_loss: 0.0030\n",
            "Epoch 185/500\n",
            "196/196 [==============================] - 1s 3ms/step - loss: 0.0029 - val_loss: 0.0030\n",
            "Epoch 186/500\n",
            "196/196 [==============================] - 1s 3ms/step - loss: 0.0029 - val_loss: 0.0030\n",
            "Epoch 187/500\n",
            "196/196 [==============================] - 1s 3ms/step - loss: 0.0028 - val_loss: 0.0029\n",
            "Epoch 188/500\n",
            "196/196 [==============================] - 1s 3ms/step - loss: 0.0028 - val_loss: 0.0029\n",
            "Epoch 189/500\n",
            "196/196 [==============================] - 1s 3ms/step - loss: 0.0028 - val_loss: 0.0029\n",
            "Epoch 190/500\n",
            "196/196 [==============================] - 1s 4ms/step - loss: 0.0028 - val_loss: 0.0029\n",
            "Epoch 191/500\n",
            "196/196 [==============================] - 1s 3ms/step - loss: 0.0028 - val_loss: 0.0029\n",
            "Epoch 192/500\n",
            "196/196 [==============================] - 1s 3ms/step - loss: 0.0028 - val_loss: 0.0029\n",
            "Epoch 193/500\n",
            "196/196 [==============================] - 1s 3ms/step - loss: 0.0028 - val_loss: 0.0029\n",
            "Epoch 194/500\n",
            "196/196 [==============================] - 1s 3ms/step - loss: 0.0028 - val_loss: 0.0029\n",
            "Epoch 195/500\n",
            "196/196 [==============================] - 1s 3ms/step - loss: 0.0028 - val_loss: 0.0029\n",
            "Epoch 196/500\n",
            "196/196 [==============================] - 1s 3ms/step - loss: 0.0028 - val_loss: 0.0029\n",
            "Epoch 197/500\n",
            "196/196 [==============================] - 1s 3ms/step - loss: 0.0028 - val_loss: 0.0029\n",
            "Epoch 198/500\n",
            "196/196 [==============================] - 1s 3ms/step - loss: 0.0028 - val_loss: 0.0029\n",
            "Epoch 199/500\n",
            "196/196 [==============================] - 1s 4ms/step - loss: 0.0028 - val_loss: 0.0029\n",
            "Epoch 200/500\n",
            "196/196 [==============================] - 1s 4ms/step - loss: 0.0028 - val_loss: 0.0029\n",
            "Epoch 201/500\n",
            "196/196 [==============================] - 1s 3ms/step - loss: 0.0027 - val_loss: 0.0028\n",
            "Epoch 202/500\n",
            "196/196 [==============================] - 1s 3ms/step - loss: 0.0027 - val_loss: 0.0028\n",
            "Epoch 203/500\n",
            "196/196 [==============================] - 1s 3ms/step - loss: 0.0027 - val_loss: 0.0028\n",
            "Epoch 204/500\n",
            "196/196 [==============================] - 1s 3ms/step - loss: 0.0027 - val_loss: 0.0028\n",
            "Epoch 205/500\n",
            "196/196 [==============================] - 1s 3ms/step - loss: 0.0027 - val_loss: 0.0028\n",
            "Epoch 206/500\n",
            "196/196 [==============================] - 1s 3ms/step - loss: 0.0027 - val_loss: 0.0028\n",
            "Epoch 207/500\n",
            "196/196 [==============================] - 1s 3ms/step - loss: 0.0027 - val_loss: 0.0028\n",
            "Epoch 208/500\n",
            "196/196 [==============================] - 1s 3ms/step - loss: 0.0027 - val_loss: 0.0028\n",
            "Epoch 209/500\n",
            "196/196 [==============================] - 1s 3ms/step - loss: 0.0027 - val_loss: 0.0028\n",
            "Epoch 210/500\n",
            "196/196 [==============================] - 1s 3ms/step - loss: 0.0027 - val_loss: 0.0028\n",
            "Epoch 211/500\n",
            "196/196 [==============================] - 1s 3ms/step - loss: 0.0027 - val_loss: 0.0028\n",
            "Epoch 212/500\n",
            "196/196 [==============================] - 1s 3ms/step - loss: 0.0027 - val_loss: 0.0028\n",
            "Epoch 213/500\n",
            "196/196 [==============================] - 1s 3ms/step - loss: 0.0026 - val_loss: 0.0028\n",
            "Epoch 214/500\n",
            "196/196 [==============================] - 1s 3ms/step - loss: 0.0026 - val_loss: 0.0027\n",
            "Epoch 215/500\n",
            "196/196 [==============================] - 1s 3ms/step - loss: 0.0026 - val_loss: 0.0027\n",
            "Epoch 216/500\n",
            "196/196 [==============================] - 1s 3ms/step - loss: 0.0026 - val_loss: 0.0027\n",
            "Epoch 217/500\n",
            "196/196 [==============================] - 1s 3ms/step - loss: 0.0026 - val_loss: 0.0027\n",
            "Epoch 218/500\n",
            "196/196 [==============================] - 1s 3ms/step - loss: 0.0026 - val_loss: 0.0027\n",
            "Epoch 219/500\n",
            "196/196 [==============================] - 1s 3ms/step - loss: 0.0026 - val_loss: 0.0027\n",
            "Epoch 220/500\n",
            "196/196 [==============================] - 1s 3ms/step - loss: 0.0026 - val_loss: 0.0027\n",
            "Epoch 221/500\n",
            "196/196 [==============================] - 1s 3ms/step - loss: 0.0026 - val_loss: 0.0027\n",
            "Epoch 222/500\n",
            "196/196 [==============================] - 1s 3ms/step - loss: 0.0026 - val_loss: 0.0027\n",
            "Epoch 223/500\n",
            "196/196 [==============================] - 1s 4ms/step - loss: 0.0026 - val_loss: 0.0027\n",
            "Epoch 224/500\n",
            "196/196 [==============================] - 1s 3ms/step - loss: 0.0026 - val_loss: 0.0027\n",
            "Epoch 225/500\n",
            "196/196 [==============================] - 1s 3ms/step - loss: 0.0026 - val_loss: 0.0027\n",
            "Epoch 226/500\n",
            "196/196 [==============================] - 1s 3ms/step - loss: 0.0026 - val_loss: 0.0027\n",
            "Epoch 227/500\n",
            "196/196 [==============================] - 1s 3ms/step - loss: 0.0026 - val_loss: 0.0027\n",
            "Epoch 228/500\n",
            "196/196 [==============================] - 1s 3ms/step - loss: 0.0026 - val_loss: 0.0027\n",
            "Epoch 229/500\n",
            "196/196 [==============================] - 1s 3ms/step - loss: 0.0026 - val_loss: 0.0027\n",
            "Epoch 230/500\n",
            "196/196 [==============================] - 1s 3ms/step - loss: 0.0026 - val_loss: 0.0027\n",
            "Epoch 231/500\n",
            "196/196 [==============================] - 1s 3ms/step - loss: 0.0026 - val_loss: 0.0027\n",
            "Epoch 232/500\n",
            "196/196 [==============================] - 1s 3ms/step - loss: 0.0025 - val_loss: 0.0026\n",
            "Epoch 233/500\n",
            "196/196 [==============================] - 1s 3ms/step - loss: 0.0025 - val_loss: 0.0027\n",
            "Epoch 234/500\n",
            "196/196 [==============================] - 1s 3ms/step - loss: 0.0025 - val_loss: 0.0027\n",
            "Epoch 235/500\n",
            "196/196 [==============================] - 1s 3ms/step - loss: 0.0025 - val_loss: 0.0026\n",
            "Epoch 236/500\n",
            "196/196 [==============================] - 1s 3ms/step - loss: 0.0025 - val_loss: 0.0026\n",
            "Epoch 237/500\n",
            "196/196 [==============================] - 1s 3ms/step - loss: 0.0025 - val_loss: 0.0026\n",
            "Epoch 238/500\n",
            "196/196 [==============================] - 1s 4ms/step - loss: 0.0025 - val_loss: 0.0026\n",
            "Epoch 239/500\n",
            "196/196 [==============================] - 1s 4ms/step - loss: 0.0025 - val_loss: 0.0026\n",
            "Epoch 240/500\n",
            "196/196 [==============================] - 1s 3ms/step - loss: 0.0025 - val_loss: 0.0026\n",
            "Epoch 241/500\n",
            "196/196 [==============================] - 1s 3ms/step - loss: 0.0025 - val_loss: 0.0026\n",
            "Epoch 242/500\n",
            "196/196 [==============================] - 1s 4ms/step - loss: 0.0025 - val_loss: 0.0026\n",
            "Epoch 243/500\n",
            "196/196 [==============================] - 1s 3ms/step - loss: 0.0025 - val_loss: 0.0026\n",
            "Epoch 244/500\n",
            "196/196 [==============================] - 1s 3ms/step - loss: 0.0025 - val_loss: 0.0026\n",
            "Epoch 245/500\n",
            "196/196 [==============================] - 1s 3ms/step - loss: 0.0025 - val_loss: 0.0026\n",
            "Epoch 246/500\n",
            "196/196 [==============================] - 1s 4ms/step - loss: 0.0025 - val_loss: 0.0026\n",
            "Epoch 247/500\n",
            "196/196 [==============================] - 1s 3ms/step - loss: 0.0025 - val_loss: 0.0026\n",
            "Epoch 248/500\n",
            "196/196 [==============================] - 1s 4ms/step - loss: 0.0025 - val_loss: 0.0026\n",
            "Epoch 249/500\n",
            "196/196 [==============================] - 1s 4ms/step - loss: 0.0025 - val_loss: 0.0026\n",
            "Epoch 250/500\n",
            "196/196 [==============================] - 1s 4ms/step - loss: 0.0025 - val_loss: 0.0026\n",
            "Epoch 251/500\n",
            "196/196 [==============================] - 1s 3ms/step - loss: 0.0025 - val_loss: 0.0026\n",
            "Epoch 252/500\n",
            "196/196 [==============================] - 1s 4ms/step - loss: 0.0025 - val_loss: 0.0026\n",
            "Epoch 253/500\n",
            "196/196 [==============================] - 1s 4ms/step - loss: 0.0024 - val_loss: 0.0026\n",
            "Epoch 254/500\n",
            "196/196 [==============================] - 1s 3ms/step - loss: 0.0024 - val_loss: 0.0026\n",
            "Epoch 255/500\n",
            "196/196 [==============================] - 1s 3ms/step - loss: 0.0024 - val_loss: 0.0025\n",
            "Epoch 256/500\n",
            "196/196 [==============================] - 1s 3ms/step - loss: 0.0024 - val_loss: 0.0026\n",
            "Epoch 257/500\n",
            "196/196 [==============================] - 1s 3ms/step - loss: 0.0024 - val_loss: 0.0026\n",
            "Epoch 258/500\n",
            "196/196 [==============================] - 1s 3ms/step - loss: 0.0024 - val_loss: 0.0025\n",
            "Epoch 259/500\n",
            "196/196 [==============================] - 1s 3ms/step - loss: 0.0024 - val_loss: 0.0025\n",
            "Epoch 260/500\n",
            "196/196 [==============================] - 1s 3ms/step - loss: 0.0024 - val_loss: 0.0025\n",
            "Epoch 261/500\n",
            "196/196 [==============================] - 1s 3ms/step - loss: 0.0024 - val_loss: 0.0025\n",
            "Epoch 262/500\n",
            "196/196 [==============================] - 1s 3ms/step - loss: 0.0024 - val_loss: 0.0025\n",
            "Epoch 263/500\n",
            "196/196 [==============================] - 1s 3ms/step - loss: 0.0024 - val_loss: 0.0025\n",
            "Epoch 264/500\n",
            "196/196 [==============================] - 1s 3ms/step - loss: 0.0024 - val_loss: 0.0025\n",
            "Epoch 265/500\n",
            "196/196 [==============================] - 1s 3ms/step - loss: 0.0024 - val_loss: 0.0025\n",
            "Epoch 266/500\n",
            "196/196 [==============================] - 1s 3ms/step - loss: 0.0024 - val_loss: 0.0025\n",
            "Epoch 267/500\n",
            "196/196 [==============================] - 1s 3ms/step - loss: 0.0024 - val_loss: 0.0025\n",
            "Epoch 268/500\n",
            "196/196 [==============================] - 1s 3ms/step - loss: 0.0024 - val_loss: 0.0025\n",
            "Epoch 269/500\n",
            "196/196 [==============================] - 1s 4ms/step - loss: 0.0024 - val_loss: 0.0025\n",
            "Epoch 270/500\n",
            "196/196 [==============================] - 1s 3ms/step - loss: 0.0024 - val_loss: 0.0025\n",
            "Epoch 271/500\n",
            "196/196 [==============================] - 1s 3ms/step - loss: 0.0024 - val_loss: 0.0025\n",
            "Epoch 272/500\n",
            "196/196 [==============================] - 1s 3ms/step - loss: 0.0024 - val_loss: 0.0025\n",
            "Epoch 273/500\n",
            "196/196 [==============================] - 1s 3ms/step - loss: 0.0024 - val_loss: 0.0025\n",
            "Epoch 274/500\n",
            "196/196 [==============================] - 1s 3ms/step - loss: 0.0024 - val_loss: 0.0025\n",
            "Epoch 275/500\n",
            "196/196 [==============================] - 1s 3ms/step - loss: 0.0024 - val_loss: 0.0025\n",
            "Epoch 276/500\n",
            "196/196 [==============================] - 1s 3ms/step - loss: 0.0024 - val_loss: 0.0025\n",
            "Epoch 277/500\n",
            "196/196 [==============================] - 1s 3ms/step - loss: 0.0024 - val_loss: 0.0025\n",
            "Epoch 278/500\n",
            "196/196 [==============================] - 1s 3ms/step - loss: 0.0024 - val_loss: 0.0025\n",
            "Epoch 279/500\n",
            "196/196 [==============================] - 1s 3ms/step - loss: 0.0023 - val_loss: 0.0025\n",
            "Epoch 280/500\n",
            "196/196 [==============================] - 1s 3ms/step - loss: 0.0023 - val_loss: 0.0025\n",
            "Epoch 281/500\n",
            "196/196 [==============================] - 1s 3ms/step - loss: 0.0023 - val_loss: 0.0025\n",
            "Epoch 282/500\n",
            "196/196 [==============================] - 1s 3ms/step - loss: 0.0023 - val_loss: 0.0024\n",
            "Epoch 283/500\n",
            "196/196 [==============================] - 1s 3ms/step - loss: 0.0023 - val_loss: 0.0025\n",
            "Epoch 284/500\n",
            "196/196 [==============================] - 1s 3ms/step - loss: 0.0023 - val_loss: 0.0024\n",
            "Epoch 285/500\n",
            "196/196 [==============================] - 1s 3ms/step - loss: 0.0023 - val_loss: 0.0025\n",
            "Epoch 286/500\n",
            "196/196 [==============================] - 1s 3ms/step - loss: 0.0023 - val_loss: 0.0024\n",
            "Epoch 287/500\n",
            "196/196 [==============================] - 1s 3ms/step - loss: 0.0023 - val_loss: 0.0025\n",
            "Epoch 288/500\n",
            "196/196 [==============================] - 1s 3ms/step - loss: 0.0023 - val_loss: 0.0024\n",
            "Epoch 289/500\n",
            "196/196 [==============================] - 1s 3ms/step - loss: 0.0023 - val_loss: 0.0024\n",
            "Epoch 290/500\n",
            "196/196 [==============================] - 1s 3ms/step - loss: 0.0023 - val_loss: 0.0024\n",
            "Epoch 291/500\n",
            "196/196 [==============================] - 1s 3ms/step - loss: 0.0023 - val_loss: 0.0024\n",
            "Epoch 292/500\n",
            "196/196 [==============================] - 1s 3ms/step - loss: 0.0023 - val_loss: 0.0024\n",
            "Epoch 293/500\n",
            "196/196 [==============================] - 1s 3ms/step - loss: 0.0023 - val_loss: 0.0024\n",
            "Epoch 294/500\n",
            "196/196 [==============================] - 1s 3ms/step - loss: 0.0023 - val_loss: 0.0024\n",
            "Epoch 295/500\n",
            "196/196 [==============================] - 1s 3ms/step - loss: 0.0023 - val_loss: 0.0024\n",
            "Epoch 296/500\n",
            "196/196 [==============================] - 1s 4ms/step - loss: 0.0023 - val_loss: 0.0024\n",
            "Epoch 297/500\n",
            "196/196 [==============================] - 1s 3ms/step - loss: 0.0023 - val_loss: 0.0024\n",
            "Epoch 298/500\n",
            "196/196 [==============================] - 1s 3ms/step - loss: 0.0023 - val_loss: 0.0024\n",
            "Epoch 299/500\n",
            "196/196 [==============================] - 1s 4ms/step - loss: 0.0023 - val_loss: 0.0024\n",
            "Epoch 300/500\n",
            "196/196 [==============================] - 1s 3ms/step - loss: 0.0023 - val_loss: 0.0024\n",
            "Epoch 301/500\n",
            "196/196 [==============================] - 1s 3ms/step - loss: 0.0023 - val_loss: 0.0024\n",
            "Epoch 302/500\n",
            "196/196 [==============================] - 1s 3ms/step - loss: 0.0023 - val_loss: 0.0024\n",
            "Epoch 303/500\n",
            "196/196 [==============================] - 1s 3ms/step - loss: 0.0023 - val_loss: 0.0024\n",
            "Epoch 304/500\n",
            "196/196 [==============================] - 1s 3ms/step - loss: 0.0023 - val_loss: 0.0024\n",
            "Epoch 305/500\n",
            "196/196 [==============================] - 1s 4ms/step - loss: 0.0023 - val_loss: 0.0024\n",
            "Epoch 306/500\n",
            "196/196 [==============================] - 1s 3ms/step - loss: 0.0023 - val_loss: 0.0024\n",
            "Epoch 307/500\n",
            "196/196 [==============================] - 1s 3ms/step - loss: 0.0023 - val_loss: 0.0024\n",
            "Epoch 308/500\n",
            "196/196 [==============================] - 1s 3ms/step - loss: 0.0023 - val_loss: 0.0024\n",
            "Epoch 309/500\n",
            "196/196 [==============================] - 1s 3ms/step - loss: 0.0022 - val_loss: 0.0024\n",
            "Epoch 310/500\n",
            "196/196 [==============================] - 1s 3ms/step - loss: 0.0022 - val_loss: 0.0024\n",
            "Epoch 311/500\n",
            "196/196 [==============================] - 1s 4ms/step - loss: 0.0022 - val_loss: 0.0024\n",
            "Epoch 312/500\n",
            "196/196 [==============================] - 1s 3ms/step - loss: 0.0022 - val_loss: 0.0024\n",
            "Epoch 313/500\n",
            "196/196 [==============================] - 1s 3ms/step - loss: 0.0022 - val_loss: 0.0024\n",
            "Epoch 314/500\n",
            "196/196 [==============================] - 1s 3ms/step - loss: 0.0022 - val_loss: 0.0024\n",
            "Epoch 315/500\n",
            "196/196 [==============================] - 1s 3ms/step - loss: 0.0022 - val_loss: 0.0024\n",
            "Epoch 316/500\n",
            "196/196 [==============================] - 1s 4ms/step - loss: 0.0022 - val_loss: 0.0023\n",
            "Epoch 317/500\n",
            "196/196 [==============================] - 1s 4ms/step - loss: 0.0022 - val_loss: 0.0023\n",
            "Epoch 318/500\n",
            "196/196 [==============================] - 1s 3ms/step - loss: 0.0022 - val_loss: 0.0023\n",
            "Epoch 319/500\n",
            "196/196 [==============================] - 1s 3ms/step - loss: 0.0022 - val_loss: 0.0023\n",
            "Epoch 320/500\n",
            "196/196 [==============================] - 1s 3ms/step - loss: 0.0022 - val_loss: 0.0023\n",
            "Epoch 321/500\n",
            "196/196 [==============================] - 1s 3ms/step - loss: 0.0022 - val_loss: 0.0023\n",
            "Epoch 322/500\n",
            "196/196 [==============================] - 1s 3ms/step - loss: 0.0022 - val_loss: 0.0023\n",
            "Epoch 323/500\n",
            "196/196 [==============================] - 1s 3ms/step - loss: 0.0022 - val_loss: 0.0023\n",
            "Epoch 324/500\n",
            "196/196 [==============================] - 1s 3ms/step - loss: 0.0022 - val_loss: 0.0023\n",
            "Epoch 325/500\n",
            "196/196 [==============================] - 1s 3ms/step - loss: 0.0022 - val_loss: 0.0023\n",
            "Epoch 326/500\n",
            "196/196 [==============================] - 1s 3ms/step - loss: 0.0022 - val_loss: 0.0023\n",
            "Epoch 327/500\n",
            "196/196 [==============================] - 1s 3ms/step - loss: 0.0022 - val_loss: 0.0023\n",
            "Epoch 328/500\n",
            "196/196 [==============================] - 1s 3ms/step - loss: 0.0022 - val_loss: 0.0023\n",
            "Epoch 329/500\n",
            "196/196 [==============================] - 1s 3ms/step - loss: 0.0022 - val_loss: 0.0023\n",
            "Epoch 330/500\n",
            "196/196 [==============================] - 1s 3ms/step - loss: 0.0022 - val_loss: 0.0023\n",
            "Epoch 331/500\n",
            "196/196 [==============================] - 1s 3ms/step - loss: 0.0022 - val_loss: 0.0023\n",
            "Epoch 332/500\n",
            "196/196 [==============================] - 1s 3ms/step - loss: 0.0022 - val_loss: 0.0023\n",
            "Epoch 333/500\n",
            "196/196 [==============================] - 1s 3ms/step - loss: 0.0022 - val_loss: 0.0023\n",
            "Epoch 334/500\n",
            "196/196 [==============================] - 1s 3ms/step - loss: 0.0022 - val_loss: 0.0023\n",
            "Epoch 335/500\n",
            "196/196 [==============================] - 1s 3ms/step - loss: 0.0022 - val_loss: 0.0023\n",
            "Epoch 336/500\n",
            "196/196 [==============================] - 1s 3ms/step - loss: 0.0021 - val_loss: 0.0023\n",
            "Epoch 337/500\n",
            "196/196 [==============================] - 1s 3ms/step - loss: 0.0021 - val_loss: 0.0022\n",
            "Epoch 338/500\n",
            "196/196 [==============================] - 1s 3ms/step - loss: 0.0021 - val_loss: 0.0022\n",
            "Epoch 339/500\n",
            "196/196 [==============================] - 1s 3ms/step - loss: 0.0021 - val_loss: 0.0022\n",
            "Epoch 340/500\n",
            "196/196 [==============================] - 1s 3ms/step - loss: 0.0021 - val_loss: 0.0022\n",
            "Epoch 341/500\n",
            "196/196 [==============================] - 1s 3ms/step - loss: 0.0021 - val_loss: 0.0022\n",
            "Epoch 342/500\n",
            "196/196 [==============================] - 1s 3ms/step - loss: 0.0021 - val_loss: 0.0022\n",
            "Epoch 343/500\n",
            "196/196 [==============================] - 1s 3ms/step - loss: 0.0021 - val_loss: 0.0022\n",
            "Epoch 344/500\n",
            "196/196 [==============================] - 1s 3ms/step - loss: 0.0021 - val_loss: 0.0022\n",
            "Epoch 345/500\n",
            "196/196 [==============================] - 1s 3ms/step - loss: 0.0021 - val_loss: 0.0022\n",
            "Epoch 346/500\n",
            "196/196 [==============================] - 1s 3ms/step - loss: 0.0021 - val_loss: 0.0022\n",
            "Epoch 347/500\n",
            "196/196 [==============================] - 1s 4ms/step - loss: 0.0021 - val_loss: 0.0022\n",
            "Epoch 348/500\n",
            "196/196 [==============================] - 1s 4ms/step - loss: 0.0021 - val_loss: 0.0022\n",
            "Epoch 349/500\n",
            "196/196 [==============================] - 1s 4ms/step - loss: 0.0021 - val_loss: 0.0022\n",
            "Epoch 350/500\n",
            "196/196 [==============================] - 1s 4ms/step - loss: 0.0021 - val_loss: 0.0022\n",
            "Epoch 351/500\n",
            "196/196 [==============================] - 1s 4ms/step - loss: 0.0021 - val_loss: 0.0022\n",
            "Epoch 352/500\n",
            "196/196 [==============================] - 1s 3ms/step - loss: 0.0021 - val_loss: 0.0022\n",
            "Epoch 353/500\n",
            "196/196 [==============================] - 1s 4ms/step - loss: 0.0021 - val_loss: 0.0022\n",
            "Epoch 354/500\n",
            "196/196 [==============================] - 1s 4ms/step - loss: 0.0021 - val_loss: 0.0022\n",
            "Epoch 355/500\n",
            "196/196 [==============================] - 1s 3ms/step - loss: 0.0021 - val_loss: 0.0022\n",
            "Epoch 356/500\n",
            "196/196 [==============================] - 1s 4ms/step - loss: 0.0021 - val_loss: 0.0022\n",
            "Epoch 357/500\n",
            "196/196 [==============================] - 1s 3ms/step - loss: 0.0021 - val_loss: 0.0022\n",
            "Epoch 358/500\n",
            "196/196 [==============================] - 1s 3ms/step - loss: 0.0021 - val_loss: 0.0022\n",
            "Epoch 359/500\n",
            "196/196 [==============================] - 1s 3ms/step - loss: 0.0021 - val_loss: 0.0022\n",
            "Epoch 360/500\n",
            "196/196 [==============================] - 1s 4ms/step - loss: 0.0021 - val_loss: 0.0022\n",
            "Epoch 361/500\n",
            "196/196 [==============================] - 1s 3ms/step - loss: 0.0021 - val_loss: 0.0022\n",
            "Epoch 362/500\n",
            "196/196 [==============================] - 1s 3ms/step - loss: 0.0021 - val_loss: 0.0022\n",
            "Epoch 363/500\n",
            "196/196 [==============================] - 1s 4ms/step - loss: 0.0021 - val_loss: 0.0022\n",
            "Epoch 364/500\n",
            "196/196 [==============================] - 1s 3ms/step - loss: 0.0021 - val_loss: 0.0022\n",
            "Epoch 365/500\n",
            "196/196 [==============================] - 1s 3ms/step - loss: 0.0020 - val_loss: 0.0022\n",
            "Epoch 366/500\n",
            "196/196 [==============================] - 1s 4ms/step - loss: 0.0020 - val_loss: 0.0022\n",
            "Epoch 367/500\n",
            "196/196 [==============================] - 1s 4ms/step - loss: 0.0020 - val_loss: 0.0022\n",
            "Epoch 368/500\n",
            "196/196 [==============================] - 1s 3ms/step - loss: 0.0020 - val_loss: 0.0022\n",
            "Epoch 369/500\n",
            "196/196 [==============================] - 1s 4ms/step - loss: 0.0020 - val_loss: 0.0022\n",
            "Epoch 370/500\n",
            "196/196 [==============================] - 1s 4ms/step - loss: 0.0020 - val_loss: 0.0022\n",
            "Epoch 371/500\n",
            "196/196 [==============================] - 1s 3ms/step - loss: 0.0020 - val_loss: 0.0021\n",
            "Epoch 372/500\n",
            "196/196 [==============================] - 1s 3ms/step - loss: 0.0020 - val_loss: 0.0022\n",
            "Epoch 373/500\n",
            "196/196 [==============================] - 1s 3ms/step - loss: 0.0020 - val_loss: 0.0022\n",
            "Epoch 374/500\n",
            "196/196 [==============================] - 1s 3ms/step - loss: 0.0020 - val_loss: 0.0022\n",
            "Epoch 375/500\n",
            "196/196 [==============================] - 1s 3ms/step - loss: 0.0020 - val_loss: 0.0021\n",
            "Epoch 376/500\n",
            "196/196 [==============================] - 1s 3ms/step - loss: 0.0020 - val_loss: 0.0021\n",
            "Epoch 377/500\n",
            "196/196 [==============================] - 1s 3ms/step - loss: 0.0020 - val_loss: 0.0021\n",
            "Epoch 378/500\n",
            "196/196 [==============================] - 1s 3ms/step - loss: 0.0020 - val_loss: 0.0021\n",
            "Epoch 379/500\n",
            "196/196 [==============================] - 1s 3ms/step - loss: 0.0020 - val_loss: 0.0021\n",
            "Epoch 380/500\n",
            "196/196 [==============================] - 1s 3ms/step - loss: 0.0020 - val_loss: 0.0021\n",
            "Epoch 381/500\n",
            "196/196 [==============================] - 1s 3ms/step - loss: 0.0020 - val_loss: 0.0021\n",
            "Epoch 382/500\n",
            "196/196 [==============================] - 1s 3ms/step - loss: 0.0020 - val_loss: 0.0021\n",
            "Epoch 383/500\n",
            "196/196 [==============================] - 1s 3ms/step - loss: 0.0020 - val_loss: 0.0021\n",
            "Epoch 384/500\n",
            "196/196 [==============================] - 1s 3ms/step - loss: 0.0020 - val_loss: 0.0021\n",
            "Epoch 385/500\n",
            "196/196 [==============================] - 1s 3ms/step - loss: 0.0020 - val_loss: 0.0021\n",
            "Epoch 386/500\n",
            "196/196 [==============================] - 1s 3ms/step - loss: 0.0020 - val_loss: 0.0021\n",
            "Epoch 387/500\n",
            "196/196 [==============================] - 1s 3ms/step - loss: 0.0020 - val_loss: 0.0021\n",
            "Epoch 388/500\n",
            "196/196 [==============================] - 1s 3ms/step - loss: 0.0020 - val_loss: 0.0021\n",
            "Epoch 389/500\n",
            "196/196 [==============================] - 1s 3ms/step - loss: 0.0020 - val_loss: 0.0021\n",
            "Epoch 390/500\n",
            "196/196 [==============================] - 1s 3ms/step - loss: 0.0020 - val_loss: 0.0021\n",
            "Epoch 391/500\n",
            "196/196 [==============================] - 1s 3ms/step - loss: 0.0020 - val_loss: 0.0021\n",
            "Epoch 392/500\n",
            "196/196 [==============================] - 1s 3ms/step - loss: 0.0020 - val_loss: 0.0021\n",
            "Epoch 393/500\n",
            "196/196 [==============================] - 1s 3ms/step - loss: 0.0020 - val_loss: 0.0021\n",
            "Epoch 394/500\n",
            "196/196 [==============================] - 1s 3ms/step - loss: 0.0020 - val_loss: 0.0021\n",
            "Epoch 395/500\n",
            "196/196 [==============================] - 1s 3ms/step - loss: 0.0020 - val_loss: 0.0021\n",
            "Epoch 396/500\n",
            "196/196 [==============================] - 1s 3ms/step - loss: 0.0020 - val_loss: 0.0021\n",
            "Epoch 397/500\n",
            "196/196 [==============================] - 1s 3ms/step - loss: 0.0020 - val_loss: 0.0021\n",
            "Epoch 398/500\n",
            "196/196 [==============================] - 1s 3ms/step - loss: 0.0020 - val_loss: 0.0021\n",
            "Epoch 399/500\n",
            "196/196 [==============================] - 1s 3ms/step - loss: 0.0020 - val_loss: 0.0021\n",
            "Epoch 400/500\n",
            "196/196 [==============================] - 1s 3ms/step - loss: 0.0020 - val_loss: 0.0021\n",
            "Epoch 401/500\n",
            "196/196 [==============================] - 1s 3ms/step - loss: 0.0020 - val_loss: 0.0021\n",
            "Epoch 402/500\n",
            "196/196 [==============================] - 1s 3ms/step - loss: 0.0020 - val_loss: 0.0021\n",
            "Epoch 403/500\n",
            "196/196 [==============================] - 1s 3ms/step - loss: 0.0020 - val_loss: 0.0021\n",
            "Epoch 404/500\n",
            "196/196 [==============================] - 1s 3ms/step - loss: 0.0020 - val_loss: 0.0021\n",
            "Epoch 405/500\n",
            "196/196 [==============================] - 1s 3ms/step - loss: 0.0020 - val_loss: 0.0021\n",
            "Epoch 406/500\n",
            "196/196 [==============================] - 1s 3ms/step - loss: 0.0020 - val_loss: 0.0021\n",
            "Epoch 407/500\n",
            "196/196 [==============================] - 1s 3ms/step - loss: 0.0020 - val_loss: 0.0021\n",
            "Epoch 408/500\n",
            "196/196 [==============================] - 1s 4ms/step - loss: 0.0020 - val_loss: 0.0021\n",
            "Epoch 409/500\n",
            "196/196 [==============================] - 1s 3ms/step - loss: 0.0020 - val_loss: 0.0021\n",
            "Epoch 410/500\n",
            "196/196 [==============================] - 1s 3ms/step - loss: 0.0019 - val_loss: 0.0021\n",
            "Epoch 411/500\n",
            "196/196 [==============================] - 1s 3ms/step - loss: 0.0019 - val_loss: 0.0021\n",
            "Epoch 412/500\n",
            "196/196 [==============================] - 1s 3ms/step - loss: 0.0019 - val_loss: 0.0021\n",
            "Epoch 413/500\n",
            "196/196 [==============================] - 1s 3ms/step - loss: 0.0019 - val_loss: 0.0021\n",
            "Epoch 414/500\n",
            "196/196 [==============================] - 1s 3ms/step - loss: 0.0019 - val_loss: 0.0021\n",
            "Epoch 415/500\n",
            "196/196 [==============================] - 1s 3ms/step - loss: 0.0019 - val_loss: 0.0021\n",
            "Epoch 416/500\n",
            "196/196 [==============================] - 1s 3ms/step - loss: 0.0019 - val_loss: 0.0021\n",
            "Epoch 417/500\n",
            "196/196 [==============================] - 1s 3ms/step - loss: 0.0019 - val_loss: 0.0021\n",
            "Epoch 418/500\n",
            "196/196 [==============================] - 1s 3ms/step - loss: 0.0019 - val_loss: 0.0021\n",
            "Epoch 419/500\n",
            "196/196 [==============================] - 1s 3ms/step - loss: 0.0019 - val_loss: 0.0021\n",
            "Epoch 420/500\n",
            "196/196 [==============================] - 1s 3ms/step - loss: 0.0019 - val_loss: 0.0021\n",
            "Epoch 421/500\n",
            "196/196 [==============================] - 1s 3ms/step - loss: 0.0019 - val_loss: 0.0021\n",
            "Epoch 422/500\n",
            "196/196 [==============================] - 1s 3ms/step - loss: 0.0019 - val_loss: 0.0020\n",
            "Epoch 423/500\n",
            "196/196 [==============================] - 1s 3ms/step - loss: 0.0019 - val_loss: 0.0021\n",
            "Epoch 424/500\n",
            "196/196 [==============================] - 1s 3ms/step - loss: 0.0019 - val_loss: 0.0021\n",
            "Epoch 425/500\n",
            "196/196 [==============================] - 1s 3ms/step - loss: 0.0019 - val_loss: 0.0021\n",
            "Epoch 426/500\n",
            "196/196 [==============================] - 1s 3ms/step - loss: 0.0019 - val_loss: 0.0020\n",
            "Epoch 427/500\n",
            "196/196 [==============================] - 1s 3ms/step - loss: 0.0019 - val_loss: 0.0020\n",
            "Epoch 428/500\n",
            "196/196 [==============================] - 1s 3ms/step - loss: 0.0019 - val_loss: 0.0020\n",
            "Epoch 429/500\n",
            "196/196 [==============================] - 1s 3ms/step - loss: 0.0019 - val_loss: 0.0020\n",
            "Epoch 430/500\n",
            "196/196 [==============================] - 1s 3ms/step - loss: 0.0019 - val_loss: 0.0021\n",
            "Epoch 431/500\n",
            "196/196 [==============================] - 1s 3ms/step - loss: 0.0019 - val_loss: 0.0020\n",
            "Epoch 432/500\n",
            "196/196 [==============================] - 1s 3ms/step - loss: 0.0019 - val_loss: 0.0020\n",
            "Epoch 433/500\n",
            "196/196 [==============================] - 1s 3ms/step - loss: 0.0019 - val_loss: 0.0020\n",
            "Epoch 434/500\n",
            "196/196 [==============================] - 1s 3ms/step - loss: 0.0019 - val_loss: 0.0020\n",
            "Epoch 435/500\n",
            "196/196 [==============================] - 1s 3ms/step - loss: 0.0019 - val_loss: 0.0020\n",
            "Epoch 436/500\n",
            "196/196 [==============================] - 1s 3ms/step - loss: 0.0019 - val_loss: 0.0020\n",
            "Epoch 437/500\n",
            "196/196 [==============================] - 1s 3ms/step - loss: 0.0019 - val_loss: 0.0020\n",
            "Epoch 438/500\n",
            "196/196 [==============================] - 1s 3ms/step - loss: 0.0019 - val_loss: 0.0020\n",
            "Epoch 439/500\n",
            "196/196 [==============================] - 1s 3ms/step - loss: 0.0019 - val_loss: 0.0020\n",
            "Epoch 440/500\n",
            "196/196 [==============================] - 1s 3ms/step - loss: 0.0019 - val_loss: 0.0020\n",
            "Epoch 441/500\n",
            "196/196 [==============================] - 1s 3ms/step - loss: 0.0019 - val_loss: 0.0020\n",
            "Epoch 442/500\n",
            "196/196 [==============================] - 1s 3ms/step - loss: 0.0019 - val_loss: 0.0020\n",
            "Epoch 443/500\n",
            "196/196 [==============================] - 1s 3ms/step - loss: 0.0019 - val_loss: 0.0020\n",
            "Epoch 444/500\n",
            "196/196 [==============================] - 1s 3ms/step - loss: 0.0019 - val_loss: 0.0020\n",
            "Epoch 445/500\n",
            "196/196 [==============================] - 1s 3ms/step - loss: 0.0019 - val_loss: 0.0020\n",
            "Epoch 446/500\n",
            "196/196 [==============================] - 1s 3ms/step - loss: 0.0019 - val_loss: 0.0020\n",
            "Epoch 447/500\n",
            "196/196 [==============================] - 1s 3ms/step - loss: 0.0019 - val_loss: 0.0020\n",
            "Epoch 448/500\n",
            "196/196 [==============================] - 1s 3ms/step - loss: 0.0019 - val_loss: 0.0020\n",
            "Epoch 449/500\n",
            "196/196 [==============================] - 1s 3ms/step - loss: 0.0019 - val_loss: 0.0020\n",
            "Epoch 450/500\n",
            "196/196 [==============================] - 1s 3ms/step - loss: 0.0019 - val_loss: 0.0020\n",
            "Epoch 451/500\n",
            "196/196 [==============================] - 1s 3ms/step - loss: 0.0019 - val_loss: 0.0020\n",
            "Epoch 452/500\n",
            "196/196 [==============================] - 1s 3ms/step - loss: 0.0019 - val_loss: 0.0020\n",
            "Epoch 453/500\n",
            "196/196 [==============================] - 1s 3ms/step - loss: 0.0019 - val_loss: 0.0020\n",
            "Epoch 454/500\n",
            "196/196 [==============================] - 1s 3ms/step - loss: 0.0019 - val_loss: 0.0020\n",
            "Epoch 455/500\n",
            "196/196 [==============================] - 1s 3ms/step - loss: 0.0019 - val_loss: 0.0020\n",
            "Epoch 456/500\n",
            "196/196 [==============================] - 1s 3ms/step - loss: 0.0019 - val_loss: 0.0020\n",
            "Epoch 457/500\n",
            "196/196 [==============================] - 1s 3ms/step - loss: 0.0019 - val_loss: 0.0020\n",
            "Epoch 458/500\n",
            "196/196 [==============================] - 1s 3ms/step - loss: 0.0019 - val_loss: 0.0020\n",
            "Epoch 459/500\n",
            "196/196 [==============================] - 1s 4ms/step - loss: 0.0019 - val_loss: 0.0020\n",
            "Epoch 460/500\n",
            "196/196 [==============================] - 1s 3ms/step - loss: 0.0019 - val_loss: 0.0020\n",
            "Epoch 461/500\n",
            "196/196 [==============================] - 1s 3ms/step - loss: 0.0019 - val_loss: 0.0020\n",
            "Epoch 462/500\n",
            "196/196 [==============================] - 1s 3ms/step - loss: 0.0019 - val_loss: 0.0020\n",
            "Epoch 463/500\n",
            "196/196 [==============================] - 1s 3ms/step - loss: 0.0019 - val_loss: 0.0020\n",
            "Epoch 464/500\n",
            "196/196 [==============================] - 1s 3ms/step - loss: 0.0019 - val_loss: 0.0020\n",
            "Epoch 465/500\n",
            "196/196 [==============================] - 1s 3ms/step - loss: 0.0019 - val_loss: 0.0020\n",
            "Epoch 466/500\n",
            "196/196 [==============================] - 1s 3ms/step - loss: 0.0019 - val_loss: 0.0020\n",
            "Epoch 467/500\n",
            "196/196 [==============================] - 1s 3ms/step - loss: 0.0018 - val_loss: 0.0020\n",
            "Epoch 468/500\n",
            "196/196 [==============================] - 1s 3ms/step - loss: 0.0019 - val_loss: 0.0020\n",
            "Epoch 469/500\n",
            "196/196 [==============================] - 1s 3ms/step - loss: 0.0018 - val_loss: 0.0020\n",
            "Epoch 470/500\n",
            "196/196 [==============================] - 1s 3ms/step - loss: 0.0018 - val_loss: 0.0020\n",
            "Epoch 471/500\n",
            "196/196 [==============================] - 1s 3ms/step - loss: 0.0018 - val_loss: 0.0020\n",
            "Epoch 472/500\n",
            "196/196 [==============================] - 1s 3ms/step - loss: 0.0018 - val_loss: 0.0020\n",
            "Epoch 473/500\n",
            "196/196 [==============================] - 1s 3ms/step - loss: 0.0018 - val_loss: 0.0020\n",
            "Epoch 474/500\n",
            "196/196 [==============================] - 1s 3ms/step - loss: 0.0018 - val_loss: 0.0020\n",
            "Epoch 475/500\n",
            "196/196 [==============================] - 1s 3ms/step - loss: 0.0018 - val_loss: 0.0020\n",
            "Epoch 476/500\n",
            "196/196 [==============================] - 1s 3ms/step - loss: 0.0018 - val_loss: 0.0020\n",
            "Epoch 477/500\n",
            "196/196 [==============================] - 1s 3ms/step - loss: 0.0018 - val_loss: 0.0020\n",
            "Epoch 478/500\n",
            "196/196 [==============================] - 1s 4ms/step - loss: 0.0018 - val_loss: 0.0020\n",
            "Epoch 479/500\n",
            "196/196 [==============================] - 1s 4ms/step - loss: 0.0018 - val_loss: 0.0020\n",
            "Epoch 480/500\n",
            "196/196 [==============================] - 1s 3ms/step - loss: 0.0018 - val_loss: 0.0020\n",
            "Epoch 481/500\n",
            "196/196 [==============================] - 1s 3ms/step - loss: 0.0018 - val_loss: 0.0020\n",
            "Epoch 482/500\n",
            "196/196 [==============================] - 1s 4ms/step - loss: 0.0018 - val_loss: 0.0020\n",
            "Epoch 483/500\n",
            "196/196 [==============================] - 1s 3ms/step - loss: 0.0018 - val_loss: 0.0020\n",
            "Epoch 484/500\n",
            "196/196 [==============================] - 1s 4ms/step - loss: 0.0018 - val_loss: 0.0020\n",
            "Epoch 485/500\n",
            "196/196 [==============================] - 1s 4ms/step - loss: 0.0018 - val_loss: 0.0020\n",
            "Epoch 486/500\n",
            "196/196 [==============================] - 1s 4ms/step - loss: 0.0018 - val_loss: 0.0020\n",
            "Epoch 487/500\n",
            "196/196 [==============================] - 1s 4ms/step - loss: 0.0018 - val_loss: 0.0019\n",
            "Epoch 488/500\n",
            "196/196 [==============================] - 1s 4ms/step - loss: 0.0018 - val_loss: 0.0019\n",
            "Epoch 489/500\n",
            "196/196 [==============================] - 1s 4ms/step - loss: 0.0018 - val_loss: 0.0020\n",
            "Epoch 490/500\n",
            "196/196 [==============================] - 1s 4ms/step - loss: 0.0018 - val_loss: 0.0019\n",
            "Epoch 491/500\n",
            "196/196 [==============================] - 1s 4ms/step - loss: 0.0018 - val_loss: 0.0020\n",
            "Epoch 492/500\n",
            "196/196 [==============================] - 1s 4ms/step - loss: 0.0018 - val_loss: 0.0020\n",
            "Epoch 493/500\n",
            "196/196 [==============================] - 1s 4ms/step - loss: 0.0018 - val_loss: 0.0019\n",
            "Epoch 494/500\n",
            "196/196 [==============================] - 1s 4ms/step - loss: 0.0018 - val_loss: 0.0020\n",
            "Epoch 495/500\n",
            "196/196 [==============================] - 1s 4ms/step - loss: 0.0018 - val_loss: 0.0019\n",
            "Epoch 496/500\n",
            "196/196 [==============================] - 1s 4ms/step - loss: 0.0018 - val_loss: 0.0019\n",
            "Epoch 497/500\n",
            "196/196 [==============================] - 1s 4ms/step - loss: 0.0018 - val_loss: 0.0019\n",
            "Epoch 498/500\n",
            "196/196 [==============================] - 1s 4ms/step - loss: 0.0018 - val_loss: 0.0019\n",
            "Epoch 499/500\n",
            "196/196 [==============================] - 1s 3ms/step - loss: 0.0018 - val_loss: 0.0019\n",
            "Epoch 500/500\n",
            "196/196 [==============================] - 1s 3ms/step - loss: 0.0018 - val_loss: 0.0019\n"
          ],
          "name": "stdout"
        }
      ]
    },
    {
      "cell_type": "code",
      "metadata": {
        "id": "3o00moO45Y8F",
        "colab_type": "code",
        "outputId": "9b2f9d9b-2779-4d56-c8a9-96ecac21bd74",
        "colab": {
          "base_uri": "https://localhost:8080/",
          "height": 443
        }
      },
      "source": [
        "plot_loss(history)\n",
        "\n",
        "scores = autoencoder.evaluate(x_test, x_test, verbose=2)\n",
        "print(\"test mse: %.5f\" % (scores))"
      ],
      "execution_count": 0,
      "outputs": [
        {
          "output_type": "stream",
          "text": [
            "313/313 - 0s - loss: 0.0019\n",
            "test mse: 0.00190\n"
          ],
          "name": "stdout"
        },
        {
          "output_type": "display_data",
          "data": {
            "image/png": "[encoded data removed]",
            "text/plain": [
              "<Figure size 720x432 with 1 Axes>"
            ]
          },
          "metadata": {
            "tags": [],
            "needs_background": "light"
          }
        }
      ]
    },
    {
      "cell_type": "code",
      "metadata": {
        "id": "wEmJTRwdFsle",
        "colab_type": "code",
        "outputId": "e479c768-7ff7-4cd8-f0b5-33c24b9592af",
        "colab": {
          "base_uri": "https://localhost:8080/",
          "height": 193
        }
      },
      "source": [
        "decoded_imgs = autoencoder.predict(x_test)\n",
        "\n",
        "plot_img(10, x_test, decoded_imgs)\n"
      ],
      "execution_count": 0,
      "outputs": [
        {
          "output_type": "display_data",
          "data": {
            "image/png": "[encoded data removed]",
            "text/plain": [
              "<Figure size 1440x288 with 20 Axes>"
            ]
          },
          "metadata": {
            "tags": [],
            "needs_background": "light"
          }
        }
      ]
    },
    {
      "cell_type": "markdown",
      "metadata": {
        "id": "p55h0PXw5oI4",
        "colab_type": "text"
      },
      "source": [
        "## Exercise 5.4: Denoising Autoencoder\n",
        "\n",
        "Let's now use a shallow autoencoder to denoise the input data.\n",
        "Firstly, define a noisy input by adding some noise to our input data. We define a noise factor that can be used to modify the amount of noise to add to the input data, and to check how much it influences the denoising capability of the autoencoder."
      ]
    },
    {
      "cell_type": "code",
      "metadata": {
        "id": "UEgtUSt1531f",
        "colab_type": "code",
        "colab": {}
      },
      "source": [
        "(x_train, y_train), (x_test, y_test) = tf.keras.datasets.mnist.load_data()\n",
        "x_train = x_train.astype('float32') / 255\n",
        "x_test = x_test.astype('float32') / 255\n",
        "\n",
        "x_train = x_train.reshape((len(x_train), np.prod(x_train.shape[1:])))\n",
        "x_test = x_test.reshape((len(x_test), np.prod(x_test.shape[1:])))\n",
        "\n",
        "x_valid, y_valid = x_train[:10000],y_train[:10000]\n",
        "x_train, y_train = x_train[10000:],y_train[10000:]\n",
        "\n",
        "noise_factor = 0.3\n",
        "\n",
        "x_train_noisy = x_train + noise_factor + np.random.normal(loc=0.0, scale=1.0, size=x_train.shape)\n",
        "x_test_noisy = x_test + noise_factor + np.random.normal(loc=0.0, scale=1.0, size=x_test.shape)\n",
        "x_valid_noisy = x_valid + noise_factor + np.random.normal(loc=0.0, scale=1.0, size=x_valid.shape)\n",
        "\n",
        "\n",
        "x_train_noisy = np.clip(x_train_noisy, 0., 1.)\n",
        "x_test_noisy = np.clip(x_test_noisy, 0., 1.)\n",
        "x_valid_noisy = np.clip(x_valid_noisy, 0., 1.)"
      ],
      "execution_count": 0,
      "outputs": []
    },
    {
      "cell_type": "markdown",
      "metadata": {
        "id": "sjpSfN_ZQJge",
        "colab_type": "text"
      },
      "source": [
        "Plot some noisy inputs."
      ]
    },
    {
      "cell_type": "code",
      "metadata": {
        "id": "Yk_jtv-B6UrS",
        "colab_type": "code",
        "outputId": "13f12350-f376-44a8-af5d-22ecb73b5080",
        "colab": {
          "base_uri": "https://localhost:8080/",
          "height": 113
        }
      },
      "source": [
        "# here's what the noisy digits look like\n",
        "n = 10\n",
        "plt.figure(figsize=(20, 2))\n",
        "for i in range(n):\n",
        "    ax = plt.subplot(1, n, i + 1)\n",
        "    plt.imshow(x_test_noisy[i].reshape(28, 28))\n",
        "    plt.gray()\n",
        "    ax.get_xaxis().set_visible(False)\n",
        "    ax.get_yaxis().set_visible(False)\n",
        "plt.show()"
      ],
      "execution_count": 0,
      "outputs": [
        {
          "output_type": "display_data",
          "data": {
            "image/png": "[encoded data removed]",
            "text/plain": [
              "<Figure size 1440x144 with 10 Axes>"
            ]
          },
          "metadata": {
            "tags": [],
            "needs_background": "light"
          }
        }
      ]
    },
    {
      "cell_type": "markdown",
      "metadata": {
        "id": "l_i6Z8XfQ5iq",
        "colab_type": "text"
      },
      "source": [
        "**To_complete: use the same model defined in the exercise 5.3.**"
      ]
    },
    {
      "cell_type": "code",
      "metadata": {
        "id": "omRH5b-M6YA_",
        "colab_type": "code",
        "colab": {}
      },
      "source": [
        "ENCODING_DIM = 64\n",
        "\n",
        "input_img = tf.keras.layers.Input(shape=(784,))\n",
        "\n",
        "encoded_1 = tf.keras.layers.Dense(512, activation='softplus')(input_img)\n",
        "encoded_2 = tf.keras.layers.Dense(256, activation='softplus')(encoded_1)\n",
        "encoded_3 = tf.keras.layers.Dense(128, activation='softplus')(encoded_2)\n",
        "encoded_4 = tf.keras.layers.Dense(ENCODING_DIM, activation='softplus')(encoded_2)\n",
        "\n",
        "decoded_1 = tf.keras.layers.Dense(128, activation='softplus')(encoded_3)\n",
        "decoded_2 = tf.keras.layers.Dense(256, activation='softplus')(decoded_1)\n",
        "decoded_3 = tf.keras.layers.Dense(784, activation='sigmoid')(decoded_2)\n",
        "\n",
        "autoencoder = tf.keras.models.Model(input_img, decoded_3)\n",
        "\n",
        "autoencoder.compile(optimizer=tf.keras.optimizers.Adam(learning_rate=0.0001),\n",
        "                    loss='mse')"
      ],
      "execution_count": 0,
      "outputs": []
    },
    {
      "cell_type": "code",
      "metadata": {
        "id": "GgynPvZ4GUWh",
        "colab_type": "code",
        "outputId": "b7954fa5-6ae3-4498-934b-2872d35fbf26",
        "colab": {
          "base_uri": "https://localhost:8080/",
          "height": 401
        }
      },
      "source": [
        "autoencoder.summary()"
      ],
      "execution_count": 0,
      "outputs": [
        {
          "output_type": "stream",
          "text": [
            "Model: \"model_7\"\n",
            "_________________________________________________________________\n",
            "Layer (type)                 Output Shape              Param #   \n",
            "=================================================================\n",
            "input_6 (InputLayer)         [(None, 784)]             0         \n",
            "_________________________________________________________________\n",
            "dense_11 (Dense)             (None, 512)               401920    \n",
            "_________________________________________________________________\n",
            "dense_12 (Dense)             (None, 256)               131328    \n",
            "_________________________________________________________________\n",
            "dense_13 (Dense)             (None, 128)               32896     \n",
            "_________________________________________________________________\n",
            "dense_15 (Dense)             (None, 128)               16512     \n",
            "_________________________________________________________________\n",
            "dense_16 (Dense)             (None, 256)               33024     \n",
            "_________________________________________________________________\n",
            "dense_17 (Dense)             (None, 784)               201488    \n",
            "=================================================================\n",
            "Total params: 817,168\n",
            "Trainable params: 817,168\n",
            "Non-trainable params: 0\n",
            "_________________________________________________________________\n"
          ],
          "name": "stdout"
        }
      ]
    },
    {
      "cell_type": "markdown",
      "metadata": {
        "id": "PRx4JtF_RGQz",
        "colab_type": "text"
      },
      "source": [
        "**To complete: Train the model by passing the noisy input and the clean target.**"
      ]
    },
    {
      "cell_type": "code",
      "metadata": {
        "id": "wMMPGQbO6lBY",
        "colab_type": "code",
        "outputId": "ebe896da-41c9-4544-ebbb-2eb3acb96086",
        "colab": {
          "base_uri": "https://localhost:8080/",
          "height": 1000
        }
      },
      "source": [
        "history = autoencoder.fit(x_train_noisy, x_train, epochs=200, batch_size=256, \n",
        "                          shuffle=True, validation_data=(x_valid_noisy, x_valid))"
      ],
      "execution_count": 0,
      "outputs": [
        {
          "output_type": "stream",
          "text": [
            "Epoch 1/200\n",
            "196/196 [==============================] - 1s 4ms/step - loss: 0.0961 - val_loss: 0.0678\n",
            "Epoch 2/200\n",
            "196/196 [==============================] - 1s 3ms/step - loss: 0.0667 - val_loss: 0.0641\n",
            "Epoch 3/200\n",
            "196/196 [==============================] - 1s 3ms/step - loss: 0.0596 - val_loss: 0.0554\n",
            "Epoch 4/200\n",
            "196/196 [==============================] - 1s 3ms/step - loss: 0.0531 - val_loss: 0.0506\n",
            "Epoch 5/200\n",
            "196/196 [==============================] - 1s 3ms/step - loss: 0.0493 - val_loss: 0.0478\n",
            "Epoch 6/200\n",
            "196/196 [==============================] - 1s 3ms/step - loss: 0.0473 - val_loss: 0.0466\n",
            "Epoch 7/200\n",
            "196/196 [==============================] - 1s 4ms/step - loss: 0.0461 - val_loss: 0.0454\n",
            "Epoch 8/200\n",
            "196/196 [==============================] - 1s 3ms/step - loss: 0.0452 - val_loss: 0.0445\n",
            "Epoch 9/200\n",
            "196/196 [==============================] - 1s 3ms/step - loss: 0.0443 - val_loss: 0.0437\n",
            "Epoch 10/200\n",
            "196/196 [==============================] - 1s 3ms/step - loss: 0.0434 - val_loss: 0.0430\n",
            "Epoch 11/200\n",
            "196/196 [==============================] - 1s 3ms/step - loss: 0.0427 - val_loss: 0.0422\n",
            "Epoch 12/200\n",
            "196/196 [==============================] - 1s 3ms/step - loss: 0.0419 - val_loss: 0.0416\n",
            "Epoch 13/200\n",
            "196/196 [==============================] - 1s 3ms/step - loss: 0.0412 - val_loss: 0.0408\n",
            "Epoch 14/200\n",
            "196/196 [==============================] - 1s 3ms/step - loss: 0.0406 - val_loss: 0.0405\n",
            "Epoch 15/200\n",
            "196/196 [==============================] - 1s 4ms/step - loss: 0.0401 - val_loss: 0.0400\n",
            "Epoch 16/200\n",
            "196/196 [==============================] - 1s 3ms/step - loss: 0.0397 - val_loss: 0.0395\n",
            "Epoch 17/200\n",
            "196/196 [==============================] - 1s 3ms/step - loss: 0.0393 - val_loss: 0.0392\n",
            "Epoch 18/200\n",
            "196/196 [==============================] - 1s 4ms/step - loss: 0.0390 - val_loss: 0.0389\n",
            "Epoch 19/200\n",
            "196/196 [==============================] - 1s 3ms/step - loss: 0.0386 - val_loss: 0.0387\n",
            "Epoch 20/200\n",
            "196/196 [==============================] - 1s 3ms/step - loss: 0.0383 - val_loss: 0.0386\n",
            "Epoch 21/200\n",
            "196/196 [==============================] - 1s 3ms/step - loss: 0.0380 - val_loss: 0.0382\n",
            "Epoch 22/200\n",
            "196/196 [==============================] - 1s 4ms/step - loss: 0.0378 - val_loss: 0.0379\n",
            "Epoch 23/200\n",
            "196/196 [==============================] - 1s 3ms/step - loss: 0.0376 - val_loss: 0.0379\n",
            "Epoch 24/200\n",
            "196/196 [==============================] - 1s 3ms/step - loss: 0.0373 - val_loss: 0.0375\n",
            "Epoch 25/200\n",
            "196/196 [==============================] - 1s 3ms/step - loss: 0.0371 - val_loss: 0.0372\n",
            "Epoch 26/200\n",
            "196/196 [==============================] - 1s 3ms/step - loss: 0.0368 - val_loss: 0.0370\n",
            "Epoch 27/200\n",
            "196/196 [==============================] - 1s 3ms/step - loss: 0.0366 - val_loss: 0.0369\n",
            "Epoch 28/200\n",
            "196/196 [==============================] - 1s 3ms/step - loss: 0.0364 - val_loss: 0.0367\n",
            "Epoch 29/200\n",
            "196/196 [==============================] - 1s 3ms/step - loss: 0.0362 - val_loss: 0.0366\n",
            "Epoch 30/200\n",
            "196/196 [==============================] - 1s 4ms/step - loss: 0.0360 - val_loss: 0.0365\n",
            "Epoch 31/200\n",
            "196/196 [==============================] - 1s 3ms/step - loss: 0.0358 - val_loss: 0.0362\n",
            "Epoch 32/200\n",
            "196/196 [==============================] - 1s 3ms/step - loss: 0.0357 - val_loss: 0.0361\n",
            "Epoch 33/200\n",
            "196/196 [==============================] - 1s 3ms/step - loss: 0.0355 - val_loss: 0.0358\n",
            "Epoch 34/200\n",
            "196/196 [==============================] - 1s 3ms/step - loss: 0.0353 - val_loss: 0.0358\n",
            "Epoch 35/200\n",
            "196/196 [==============================] - 1s 3ms/step - loss: 0.0352 - val_loss: 0.0356\n",
            "Epoch 36/200\n",
            "196/196 [==============================] - 1s 3ms/step - loss: 0.0350 - val_loss: 0.0356\n",
            "Epoch 37/200\n",
            "196/196 [==============================] - 1s 3ms/step - loss: 0.0349 - val_loss: 0.0355\n",
            "Epoch 38/200\n",
            "196/196 [==============================] - 1s 3ms/step - loss: 0.0348 - val_loss: 0.0353\n",
            "Epoch 39/200\n",
            "196/196 [==============================] - 1s 3ms/step - loss: 0.0346 - val_loss: 0.0351\n",
            "Epoch 40/200\n",
            "196/196 [==============================] - 1s 4ms/step - loss: 0.0345 - val_loss: 0.0352\n",
            "Epoch 41/200\n",
            "196/196 [==============================] - 1s 3ms/step - loss: 0.0344 - val_loss: 0.0349\n",
            "Epoch 42/200\n",
            "196/196 [==============================] - 1s 3ms/step - loss: 0.0343 - val_loss: 0.0350\n",
            "Epoch 43/200\n",
            "196/196 [==============================] - 1s 3ms/step - loss: 0.0342 - val_loss: 0.0347\n",
            "Epoch 44/200\n",
            "196/196 [==============================] - 1s 3ms/step - loss: 0.0340 - val_loss: 0.0347\n",
            "Epoch 45/200\n",
            "196/196 [==============================] - 1s 3ms/step - loss: 0.0339 - val_loss: 0.0346\n",
            "Epoch 46/200\n",
            "196/196 [==============================] - 1s 3ms/step - loss: 0.0338 - val_loss: 0.0345\n",
            "Epoch 47/200\n",
            "196/196 [==============================] - 1s 3ms/step - loss: 0.0337 - val_loss: 0.0345\n",
            "Epoch 48/200\n",
            "196/196 [==============================] - 1s 3ms/step - loss: 0.0336 - val_loss: 0.0342\n",
            "Epoch 49/200\n",
            "196/196 [==============================] - 1s 3ms/step - loss: 0.0335 - val_loss: 0.0342\n",
            "Epoch 50/200\n",
            "196/196 [==============================] - 1s 3ms/step - loss: 0.0334 - val_loss: 0.0343\n",
            "Epoch 51/200\n",
            "196/196 [==============================] - 1s 4ms/step - loss: 0.0333 - val_loss: 0.0342\n",
            "Epoch 52/200\n",
            "196/196 [==============================] - 1s 3ms/step - loss: 0.0332 - val_loss: 0.0340\n",
            "Epoch 53/200\n",
            "196/196 [==============================] - 1s 3ms/step - loss: 0.0331 - val_loss: 0.0340\n",
            "Epoch 54/200\n",
            "196/196 [==============================] - 1s 3ms/step - loss: 0.0331 - val_loss: 0.0338\n",
            "Epoch 55/200\n",
            "196/196 [==============================] - 1s 3ms/step - loss: 0.0330 - val_loss: 0.0339\n",
            "Epoch 56/200\n",
            "196/196 [==============================] - 1s 3ms/step - loss: 0.0329 - val_loss: 0.0338\n",
            "Epoch 57/200\n",
            "196/196 [==============================] - 1s 3ms/step - loss: 0.0328 - val_loss: 0.0337\n",
            "Epoch 58/200\n",
            "196/196 [==============================] - 1s 3ms/step - loss: 0.0327 - val_loss: 0.0335\n",
            "Epoch 59/200\n",
            "196/196 [==============================] - 1s 3ms/step - loss: 0.0326 - val_loss: 0.0335\n",
            "Epoch 60/200\n",
            "196/196 [==============================] - 1s 3ms/step - loss: 0.0325 - val_loss: 0.0335\n",
            "Epoch 61/200\n",
            "196/196 [==============================] - 1s 3ms/step - loss: 0.0325 - val_loss: 0.0334\n",
            "Epoch 62/200\n",
            "196/196 [==============================] - 1s 3ms/step - loss: 0.0324 - val_loss: 0.0334\n",
            "Epoch 63/200\n",
            "196/196 [==============================] - 1s 3ms/step - loss: 0.0323 - val_loss: 0.0334\n",
            "Epoch 64/200\n",
            "196/196 [==============================] - 1s 3ms/step - loss: 0.0322 - val_loss: 0.0333\n",
            "Epoch 65/200\n",
            "196/196 [==============================] - 1s 3ms/step - loss: 0.0321 - val_loss: 0.0332\n",
            "Epoch 66/200\n",
            "196/196 [==============================] - 1s 3ms/step - loss: 0.0321 - val_loss: 0.0331\n",
            "Epoch 67/200\n",
            "196/196 [==============================] - 1s 3ms/step - loss: 0.0320 - val_loss: 0.0333\n",
            "Epoch 68/200\n",
            "196/196 [==============================] - 1s 4ms/step - loss: 0.0319 - val_loss: 0.0331\n",
            "Epoch 69/200\n",
            "196/196 [==============================] - 1s 3ms/step - loss: 0.0318 - val_loss: 0.0331\n",
            "Epoch 70/200\n",
            "196/196 [==============================] - 1s 3ms/step - loss: 0.0318 - val_loss: 0.0331\n",
            "Epoch 71/200\n",
            "196/196 [==============================] - 1s 3ms/step - loss: 0.0317 - val_loss: 0.0328\n",
            "Epoch 72/200\n",
            "196/196 [==============================] - 1s 3ms/step - loss: 0.0317 - val_loss: 0.0329\n",
            "Epoch 73/200\n",
            "196/196 [==============================] - 1s 3ms/step - loss: 0.0316 - val_loss: 0.0327\n",
            "Epoch 74/200\n",
            "196/196 [==============================] - 1s 3ms/step - loss: 0.0315 - val_loss: 0.0328\n",
            "Epoch 75/200\n",
            "196/196 [==============================] - 1s 3ms/step - loss: 0.0315 - val_loss: 0.0326\n",
            "Epoch 76/200\n",
            "196/196 [==============================] - 1s 4ms/step - loss: 0.0314 - val_loss: 0.0326\n",
            "Epoch 77/200\n",
            "196/196 [==============================] - 1s 4ms/step - loss: 0.0313 - val_loss: 0.0327\n",
            "Epoch 78/200\n",
            "196/196 [==============================] - 1s 4ms/step - loss: 0.0313 - val_loss: 0.0327\n",
            "Epoch 79/200\n",
            "196/196 [==============================] - 1s 3ms/step - loss: 0.0312 - val_loss: 0.0324\n",
            "Epoch 80/200\n",
            "196/196 [==============================] - 1s 3ms/step - loss: 0.0311 - val_loss: 0.0323\n",
            "Epoch 81/200\n",
            "196/196 [==============================] - 1s 3ms/step - loss: 0.0311 - val_loss: 0.0325\n",
            "Epoch 82/200\n",
            "196/196 [==============================] - 1s 4ms/step - loss: 0.0310 - val_loss: 0.0323\n",
            "Epoch 83/200\n",
            "196/196 [==============================] - 1s 3ms/step - loss: 0.0310 - val_loss: 0.0323\n",
            "Epoch 84/200\n",
            "196/196 [==============================] - 1s 4ms/step - loss: 0.0309 - val_loss: 0.0322\n",
            "Epoch 85/200\n",
            "196/196 [==============================] - 1s 3ms/step - loss: 0.0309 - val_loss: 0.0322\n",
            "Epoch 86/200\n",
            "196/196 [==============================] - 1s 4ms/step - loss: 0.0308 - val_loss: 0.0324\n",
            "Epoch 87/200\n",
            "196/196 [==============================] - 1s 3ms/step - loss: 0.0308 - val_loss: 0.0320\n",
            "Epoch 88/200\n",
            "196/196 [==============================] - 1s 3ms/step - loss: 0.0307 - val_loss: 0.0320\n",
            "Epoch 89/200\n",
            "196/196 [==============================] - 1s 4ms/step - loss: 0.0306 - val_loss: 0.0323\n",
            "Epoch 90/200\n",
            "196/196 [==============================] - 1s 3ms/step - loss: 0.0306 - val_loss: 0.0320\n",
            "Epoch 91/200\n",
            "196/196 [==============================] - 1s 3ms/step - loss: 0.0305 - val_loss: 0.0319\n",
            "Epoch 92/200\n",
            "196/196 [==============================] - 1s 4ms/step - loss: 0.0305 - val_loss: 0.0319\n",
            "Epoch 93/200\n",
            "196/196 [==============================] - 1s 3ms/step - loss: 0.0304 - val_loss: 0.0319\n",
            "Epoch 94/200\n",
            "196/196 [==============================] - 1s 3ms/step - loss: 0.0304 - val_loss: 0.0319\n",
            "Epoch 95/200\n",
            "196/196 [==============================] - 1s 4ms/step - loss: 0.0303 - val_loss: 0.0319\n",
            "Epoch 96/200\n",
            "196/196 [==============================] - 1s 3ms/step - loss: 0.0303 - val_loss: 0.0318\n",
            "Epoch 97/200\n",
            "196/196 [==============================] - 1s 4ms/step - loss: 0.0302 - val_loss: 0.0318\n",
            "Epoch 98/200\n",
            "196/196 [==============================] - 1s 4ms/step - loss: 0.0302 - val_loss: 0.0318\n",
            "Epoch 99/200\n",
            "196/196 [==============================] - 1s 3ms/step - loss: 0.0302 - val_loss: 0.0318\n",
            "Epoch 100/200\n",
            "196/196 [==============================] - 1s 3ms/step - loss: 0.0301 - val_loss: 0.0319\n",
            "Epoch 101/200\n",
            "196/196 [==============================] - 1s 4ms/step - loss: 0.0301 - val_loss: 0.0318\n",
            "Epoch 102/200\n",
            "196/196 [==============================] - 1s 3ms/step - loss: 0.0300 - val_loss: 0.0317\n",
            "Epoch 103/200\n",
            "196/196 [==============================] - 1s 3ms/step - loss: 0.0300 - val_loss: 0.0317\n",
            "Epoch 104/200\n",
            "196/196 [==============================] - 1s 3ms/step - loss: 0.0299 - val_loss: 0.0316\n",
            "Epoch 105/200\n",
            "196/196 [==============================] - 1s 3ms/step - loss: 0.0299 - val_loss: 0.0315\n",
            "Epoch 106/200\n",
            "196/196 [==============================] - 1s 3ms/step - loss: 0.0298 - val_loss: 0.0316\n",
            "Epoch 107/200\n",
            "196/196 [==============================] - 1s 3ms/step - loss: 0.0298 - val_loss: 0.0316\n",
            "Epoch 108/200\n",
            "196/196 [==============================] - 1s 3ms/step - loss: 0.0297 - val_loss: 0.0315\n",
            "Epoch 109/200\n",
            "196/196 [==============================] - 1s 3ms/step - loss: 0.0297 - val_loss: 0.0315\n",
            "Epoch 110/200\n",
            "196/196 [==============================] - 1s 3ms/step - loss: 0.0297 - val_loss: 0.0315\n",
            "Epoch 111/200\n",
            "196/196 [==============================] - 1s 3ms/step - loss: 0.0296 - val_loss: 0.0313\n",
            "Epoch 112/200\n",
            "196/196 [==============================] - 1s 3ms/step - loss: 0.0296 - val_loss: 0.0314\n",
            "Epoch 113/200\n",
            "196/196 [==============================] - 1s 4ms/step - loss: 0.0295 - val_loss: 0.0314\n",
            "Epoch 114/200\n",
            "196/196 [==============================] - 1s 3ms/step - loss: 0.0295 - val_loss: 0.0313\n",
            "Epoch 115/200\n",
            "196/196 [==============================] - 1s 3ms/step - loss: 0.0294 - val_loss: 0.0313\n",
            "Epoch 116/200\n",
            "196/196 [==============================] - 1s 4ms/step - loss: 0.0294 - val_loss: 0.0313\n",
            "Epoch 117/200\n",
            "196/196 [==============================] - 1s 4ms/step - loss: 0.0294 - val_loss: 0.0313\n",
            "Epoch 118/200\n",
            "196/196 [==============================] - 1s 3ms/step - loss: 0.0293 - val_loss: 0.0313\n",
            "Epoch 119/200\n",
            "196/196 [==============================] - 1s 3ms/step - loss: 0.0293 - val_loss: 0.0312\n",
            "Epoch 120/200\n",
            "196/196 [==============================] - 1s 3ms/step - loss: 0.0292 - val_loss: 0.0312\n",
            "Epoch 121/200\n",
            "196/196 [==============================] - 1s 3ms/step - loss: 0.0292 - val_loss: 0.0312\n",
            "Epoch 122/200\n",
            "196/196 [==============================] - 1s 4ms/step - loss: 0.0292 - val_loss: 0.0312\n",
            "Epoch 123/200\n",
            "196/196 [==============================] - 1s 3ms/step - loss: 0.0291 - val_loss: 0.0312\n",
            "Epoch 124/200\n",
            "196/196 [==============================] - 1s 3ms/step - loss: 0.0291 - val_loss: 0.0311\n",
            "Epoch 125/200\n",
            "196/196 [==============================] - 1s 3ms/step - loss: 0.0290 - val_loss: 0.0310\n",
            "Epoch 126/200\n",
            "196/196 [==============================] - 1s 3ms/step - loss: 0.0290 - val_loss: 0.0312\n",
            "Epoch 127/200\n",
            "196/196 [==============================] - 1s 3ms/step - loss: 0.0290 - val_loss: 0.0312\n",
            "Epoch 128/200\n",
            "196/196 [==============================] - 1s 3ms/step - loss: 0.0289 - val_loss: 0.0310\n",
            "Epoch 129/200\n",
            "196/196 [==============================] - 1s 3ms/step - loss: 0.0289 - val_loss: 0.0312\n",
            "Epoch 130/200\n",
            "196/196 [==============================] - 1s 4ms/step - loss: 0.0288 - val_loss: 0.0310\n",
            "Epoch 131/200\n",
            "196/196 [==============================] - 1s 3ms/step - loss: 0.0288 - val_loss: 0.0309\n",
            "Epoch 132/200\n",
            "196/196 [==============================] - 1s 4ms/step - loss: 0.0287 - val_loss: 0.0309\n",
            "Epoch 133/200\n",
            "196/196 [==============================] - 1s 3ms/step - loss: 0.0287 - val_loss: 0.0310\n",
            "Epoch 134/200\n",
            "196/196 [==============================] - 1s 3ms/step - loss: 0.0287 - val_loss: 0.0310\n",
            "Epoch 135/200\n",
            "196/196 [==============================] - 1s 3ms/step - loss: 0.0287 - val_loss: 0.0310\n",
            "Epoch 136/200\n",
            "196/196 [==============================] - 1s 3ms/step - loss: 0.0286 - val_loss: 0.0308\n",
            "Epoch 137/200\n",
            "196/196 [==============================] - 1s 3ms/step - loss: 0.0286 - val_loss: 0.0310\n",
            "Epoch 138/200\n",
            "196/196 [==============================] - 1s 3ms/step - loss: 0.0286 - val_loss: 0.0310\n",
            "Epoch 139/200\n",
            "196/196 [==============================] - 1s 3ms/step - loss: 0.0285 - val_loss: 0.0308\n",
            "Epoch 140/200\n",
            "196/196 [==============================] - 1s 3ms/step - loss: 0.0285 - val_loss: 0.0308\n",
            "Epoch 141/200\n",
            "196/196 [==============================] - 1s 3ms/step - loss: 0.0284 - val_loss: 0.0309\n",
            "Epoch 142/200\n",
            "196/196 [==============================] - 1s 3ms/step - loss: 0.0284 - val_loss: 0.0308\n",
            "Epoch 143/200\n",
            "196/196 [==============================] - 1s 3ms/step - loss: 0.0284 - val_loss: 0.0308\n",
            "Epoch 144/200\n",
            "196/196 [==============================] - 1s 3ms/step - loss: 0.0283 - val_loss: 0.0309\n",
            "Epoch 145/200\n",
            "196/196 [==============================] - 1s 3ms/step - loss: 0.0283 - val_loss: 0.0308\n",
            "Epoch 146/200\n",
            "196/196 [==============================] - 1s 3ms/step - loss: 0.0283 - val_loss: 0.0307\n",
            "Epoch 147/200\n",
            "196/196 [==============================] - 1s 3ms/step - loss: 0.0282 - val_loss: 0.0307\n",
            "Epoch 148/200\n",
            "196/196 [==============================] - 1s 3ms/step - loss: 0.0282 - val_loss: 0.0307\n",
            "Epoch 149/200\n",
            "196/196 [==============================] - 1s 3ms/step - loss: 0.0281 - val_loss: 0.0308\n",
            "Epoch 150/200\n",
            "196/196 [==============================] - 1s 3ms/step - loss: 0.0281 - val_loss: 0.0306\n",
            "Epoch 151/200\n",
            "196/196 [==============================] - 1s 4ms/step - loss: 0.0281 - val_loss: 0.0306\n",
            "Epoch 152/200\n",
            "196/196 [==============================] - 1s 3ms/step - loss: 0.0280 - val_loss: 0.0306\n",
            "Epoch 153/200\n",
            "196/196 [==============================] - 1s 3ms/step - loss: 0.0280 - val_loss: 0.0305\n",
            "Epoch 154/200\n",
            "196/196 [==============================] - 1s 3ms/step - loss: 0.0280 - val_loss: 0.0307\n",
            "Epoch 155/200\n",
            "196/196 [==============================] - 1s 3ms/step - loss: 0.0279 - val_loss: 0.0306\n",
            "Epoch 156/200\n",
            "196/196 [==============================] - 1s 3ms/step - loss: 0.0279 - val_loss: 0.0305\n",
            "Epoch 157/200\n",
            "196/196 [==============================] - 1s 3ms/step - loss: 0.0279 - val_loss: 0.0306\n",
            "Epoch 158/200\n",
            "196/196 [==============================] - 1s 3ms/step - loss: 0.0278 - val_loss: 0.0306\n",
            "Epoch 159/200\n",
            "196/196 [==============================] - 1s 3ms/step - loss: 0.0278 - val_loss: 0.0306\n",
            "Epoch 160/200\n",
            "196/196 [==============================] - 1s 4ms/step - loss: 0.0278 - val_loss: 0.0305\n",
            "Epoch 161/200\n",
            "196/196 [==============================] - 1s 3ms/step - loss: 0.0277 - val_loss: 0.0305\n",
            "Epoch 162/200\n",
            "196/196 [==============================] - 1s 3ms/step - loss: 0.0277 - val_loss: 0.0306\n",
            "Epoch 163/200\n",
            "196/196 [==============================] - 1s 3ms/step - loss: 0.0276 - val_loss: 0.0305\n",
            "Epoch 164/200\n",
            "196/196 [==============================] - 1s 3ms/step - loss: 0.0276 - val_loss: 0.0305\n",
            "Epoch 165/200\n",
            "196/196 [==============================] - 1s 3ms/step - loss: 0.0276 - val_loss: 0.0304\n",
            "Epoch 166/200\n",
            "196/196 [==============================] - 1s 3ms/step - loss: 0.0276 - val_loss: 0.0305\n",
            "Epoch 167/200\n",
            "196/196 [==============================] - 1s 3ms/step - loss: 0.0275 - val_loss: 0.0304\n",
            "Epoch 168/200\n",
            "196/196 [==============================] - 1s 3ms/step - loss: 0.0275 - val_loss: 0.0304\n",
            "Epoch 169/200\n",
            "196/196 [==============================] - 1s 4ms/step - loss: 0.0275 - val_loss: 0.0304\n",
            "Epoch 170/200\n",
            "196/196 [==============================] - 1s 3ms/step - loss: 0.0274 - val_loss: 0.0304\n",
            "Epoch 171/200\n",
            "196/196 [==============================] - 1s 3ms/step - loss: 0.0274 - val_loss: 0.0304\n",
            "Epoch 172/200\n",
            "196/196 [==============================] - 1s 3ms/step - loss: 0.0274 - val_loss: 0.0303\n",
            "Epoch 173/200\n",
            "196/196 [==============================] - 1s 3ms/step - loss: 0.0274 - val_loss: 0.0303\n",
            "Epoch 174/200\n",
            "196/196 [==============================] - 1s 3ms/step - loss: 0.0273 - val_loss: 0.0304\n",
            "Epoch 175/200\n",
            "196/196 [==============================] - 1s 3ms/step - loss: 0.0273 - val_loss: 0.0303\n",
            "Epoch 176/200\n",
            "196/196 [==============================] - 1s 3ms/step - loss: 0.0272 - val_loss: 0.0304\n",
            "Epoch 177/200\n",
            "196/196 [==============================] - 1s 3ms/step - loss: 0.0272 - val_loss: 0.0304\n",
            "Epoch 178/200\n",
            "196/196 [==============================] - 1s 3ms/step - loss: 0.0272 - val_loss: 0.0304\n",
            "Epoch 179/200\n",
            "196/196 [==============================] - 1s 3ms/step - loss: 0.0271 - val_loss: 0.0304\n",
            "Epoch 180/200\n",
            "196/196 [==============================] - 1s 3ms/step - loss: 0.0271 - val_loss: 0.0305\n",
            "Epoch 181/200\n",
            "196/196 [==============================] - 1s 3ms/step - loss: 0.0271 - val_loss: 0.0303\n",
            "Epoch 182/200\n",
            "196/196 [==============================] - 1s 3ms/step - loss: 0.0271 - val_loss: 0.0303\n",
            "Epoch 183/200\n",
            "196/196 [==============================] - 1s 3ms/step - loss: 0.0270 - val_loss: 0.0304\n",
            "Epoch 184/200\n",
            "196/196 [==============================] - 1s 3ms/step - loss: 0.0270 - val_loss: 0.0303\n",
            "Epoch 185/200\n",
            "196/196 [==============================] - 1s 3ms/step - loss: 0.0269 - val_loss: 0.0305\n",
            "Epoch 186/200\n",
            "196/196 [==============================] - 1s 3ms/step - loss: 0.0269 - val_loss: 0.0303\n",
            "Epoch 187/200\n",
            "196/196 [==============================] - 1s 4ms/step - loss: 0.0269 - val_loss: 0.0302\n",
            "Epoch 188/200\n",
            "196/196 [==============================] - 1s 4ms/step - loss: 0.0268 - val_loss: 0.0303\n",
            "Epoch 189/200\n",
            "196/196 [==============================] - 1s 3ms/step - loss: 0.0268 - val_loss: 0.0303\n",
            "Epoch 190/200\n",
            "196/196 [==============================] - 1s 4ms/step - loss: 0.0268 - val_loss: 0.0302\n",
            "Epoch 191/200\n",
            "196/196 [==============================] - 1s 4ms/step - loss: 0.0267 - val_loss: 0.0302\n",
            "Epoch 192/200\n",
            "196/196 [==============================] - 1s 4ms/step - loss: 0.0267 - val_loss: 0.0302\n",
            "Epoch 193/200\n",
            "196/196 [==============================] - 1s 4ms/step - loss: 0.0267 - val_loss: 0.0303\n",
            "Epoch 194/200\n",
            "196/196 [==============================] - 1s 4ms/step - loss: 0.0266 - val_loss: 0.0302\n",
            "Epoch 195/200\n",
            "196/196 [==============================] - 1s 4ms/step - loss: 0.0266 - val_loss: 0.0302\n",
            "Epoch 196/200\n",
            "196/196 [==============================] - 1s 4ms/step - loss: 0.0266 - val_loss: 0.0302\n",
            "Epoch 197/200\n",
            "196/196 [==============================] - 1s 4ms/step - loss: 0.0265 - val_loss: 0.0302\n",
            "Epoch 198/200\n",
            "196/196 [==============================] - 1s 3ms/step - loss: 0.0265 - val_loss: 0.0305\n",
            "Epoch 199/200\n",
            "196/196 [==============================] - 1s 3ms/step - loss: 0.0265 - val_loss: 0.0302\n",
            "Epoch 200/200\n",
            "196/196 [==============================] - 1s 3ms/step - loss: 0.0264 - val_loss: 0.0302\n"
          ],
          "name": "stdout"
        }
      ]
    },
    {
      "cell_type": "code",
      "metadata": {
        "id": "FCw0jn077Wn9",
        "colab_type": "code",
        "outputId": "159644b0-2025-4033-8938-efe6ddc3c1e3",
        "colab": {
          "base_uri": "https://localhost:8080/",
          "height": 443
        }
      },
      "source": [
        "plot_loss(history)\n",
        "\n",
        "scores = autoencoder.evaluate(x_test_noisy, x_test, verbose=2)\n",
        "print(\"test mse: %.5f\" % (scores))"
      ],
      "execution_count": 0,
      "outputs": [
        {
          "output_type": "stream",
          "text": [
            "313/313 - 0s - loss: 0.0302\n",
            "test mse: 0.03018\n"
          ],
          "name": "stdout"
        },
        {
          "output_type": "display_data",
          "data": {
            "image/png": "[encoded data removed]",
            "text/plain": [
              "<Figure size 720x432 with 1 Axes>"
            ]
          },
          "metadata": {
            "tags": [],
            "needs_background": "light"
          }
        }
      ]
    },
    {
      "cell_type": "markdown",
      "metadata": {
        "id": "aHOQfAPZRYUY",
        "colab_type": "text"
      },
      "source": [
        "Check the result by plotting some input images and the correspondent denoised outputs"
      ]
    },
    {
      "cell_type": "code",
      "metadata": {
        "id": "XUWwHDT3HiGX",
        "colab_type": "code",
        "outputId": "02ee87df-2fb6-4f3a-aa24-139ecb843dc3",
        "colab": {
          "base_uri": "https://localhost:8080/",
          "height": 193
        }
      },
      "source": [
        "decoded_imgs = autoencoder.predict(x_test_noisy)\n",
        "\n",
        "plot_img(10, x_test_noisy, decoded_imgs)"
      ],
      "execution_count": 0,
      "outputs": [
        {
          "output_type": "display_data",
          "data": {
            "image/png": "[encoded data removed]",
            "text/plain": [
              "<Figure size 1440x288 with 20 Axes>"
            ]
          },
          "metadata": {
            "tags": [],
            "needs_background": "light"
          }
        }
      ]
    },
    {
      "cell_type": "markdown",
      "metadata": {
        "id": "lInEGwkch5MW",
        "colab_type": "text"
      },
      "source": [
        "## Linear Autoencoder for sequences\n",
        "\n",
        "Let's define a linear autoencoder for sequences. In this case, as dataset, we will use the IMDB dataset (already presented in HW4). To have a model that can be trained and tested in a reasonable time (and that works also with the memory limitation that we have in Colab), we will limit the number of training samples and test samples."
      ]
    },
    {
      "cell_type": "code",
      "metadata": {
        "id": "nOJLUpNuaEc5",
        "colab_type": "code",
        "outputId": "03e9cc59-8f40-469e-b005-fe3d4c68fbc1",
        "colab": {
          "base_uri": "https://localhost:8080/",
          "height": 104
        }
      },
      "source": [
        "num_words = 100\n",
        "(X_train, _), (X_test, _) = keras.datasets.imdb.load_data(num_words=num_words)\n",
        "\n",
        "X_train=X_train[:10000]\n",
        "\n",
        "(X_valid, X_test) = X_test[:1250], X_test[-1250:]\n",
        "\n",
        "word_index = keras.datasets.imdb.get_word_index()\n",
        "\n",
        "reverse_index = {word_id + 3: word for word, word_id in word_index.items()}\n",
        "reverse_index[0] = \"<pad>\" # padding\n",
        "reverse_index[1] = \"<sos>\" # start of sequence\n",
        "reverse_index[2] = \"<oov>\" # out-of-vocabulary\n",
        "reverse_index[3] = \"<unk>\" # unknown\n",
        "\n",
        "def decode_review(word_ids):\n",
        "    return \" \".join([reverse_index.get(word_id, \"<err>\") for word_id in word_ids])\n",
        "\n",
        "\n",
        "maxlen = 90\n",
        "X_train_trim = keras.preprocessing.sequence.pad_sequences(X_train, maxlen=maxlen)\n",
        "X_test_trim = keras.preprocessing.sequence.pad_sequences(X_test, maxlen=maxlen)\n",
        "X_valid_trim = keras.preprocessing.sequence.pad_sequences(X_valid, maxlen=maxlen)\n",
        "\n"
      ],
      "execution_count": 0,
      "outputs": [
        {
          "output_type": "stream",
          "text": [
            "Downloading data from https://storage.googleapis.com/tensorflow/tf-keras-datasets/imdb.npz\n",
            "17465344/17464789 [==============================] - 0s 0us/step\n",
            "Downloading data from https://storage.googleapis.com/tensorflow/tf-keras-datasets/imdb_word_index.json\n",
            "1646592/1641221 [==============================] - 0s 0us/step\n"
          ],
          "name": "stdout"
        }
      ]
    },
    {
      "cell_type": "markdown",
      "metadata": {
        "id": "LoXke75qeitM",
        "colab_type": "text"
      },
      "source": [
        "In this case, we want to use as input/target a one-hot representation for each word. To convert the index representation provided by the IMDB dataset loader, we use the to_categorical method to transform them in the correspondent one-hot representations."
      ]
    },
    {
      "cell_type": "code",
      "metadata": {
        "id": "Fpa0BwSxaXiw",
        "colab_type": "code",
        "colab": {}
      },
      "source": [
        "from keras.utils import to_categorical\n",
        "\n",
        "X_train_one_hot=to_categorical(X_train_trim)\n",
        "X_test_one_hot=to_categorical(X_test_trim)\n",
        "X_valid_one_hot=to_categorical(X_valid_trim)"
      ],
      "execution_count": 0,
      "outputs": []
    },
    {
      "cell_type": "markdown",
      "metadata": {
        "id": "gApoz_RFiciZ",
        "colab_type": "text"
      },
      "source": [
        "Define a linear shallow autoencoder for sequences. The structure will be similar to the model defined in exercise 5.1, while the encoding layer is defined by using tf.keras.layers.SimpleRNN. Note that it uses linear activations. The decoding layer exploits [tf.keras.layers.TimeDistributed](https://www.tensorflow.org/api_docs/python/tf/keras/layers/TimeDistributed) that allows using the same dense layer on each time step of the sequence. \n",
        "\n",
        "Since the output will be a one-hot representation, let's use the binary_crossentropy as loss and the CategoricalAccuracy as metric."
      ]
    },
    {
      "cell_type": "code",
      "metadata": {
        "id": "S69HgNmAicUp",
        "colab_type": "code",
        "outputId": "2c708740-e6d1-4876-c27b-1f15ad75aed1",
        "colab": {
          "base_uri": "https://localhost:8080/",
          "height": 269
        }
      },
      "source": [
        "inputs = tf.keras.layers.Input(shape=(maxlen, num_words))\n",
        "encoded = tf.keras.layers.SimpleRNN(50, return_sequences=True, activation='linear')(inputs)\n",
        "\n",
        "decoded = tf.keras.layers.TimeDistributed(tf.keras.layers.Dense(num_words, activation='linear'))(encoded)\n",
        "\n",
        "sequence_autoencoder = tf.keras.models.Model(inputs, decoded)\n",
        "encoder = tf.keras.models.Model(inputs, encoded)\n",
        "\n",
        "sequence_autoencoder.compile(optimizer=tf.keras.optimizers.Adam(learning_rate=0.001), loss='binary_crossentropy', metrics=[\"CategoricalAccuracy\"])\n",
        "\n",
        "sequence_autoencoder.summary()"
      ],
      "execution_count": 0,
      "outputs": [
        {
          "output_type": "stream",
          "text": [
            "Model: \"model_8\"\n",
            "_________________________________________________________________\n",
            "Layer (type)                 Output Shape              Param #   \n",
            "=================================================================\n",
            "input_7 (InputLayer)         [(None, 90, 100)]         0         \n",
            "_________________________________________________________________\n",
            "simple_rnn (SimpleRNN)       (None, 90, 50)            7550      \n",
            "_________________________________________________________________\n",
            "time_distributed (TimeDistri (None, 90, 100)           5100      \n",
            "=================================================================\n",
            "Total params: 12,650\n",
            "Trainable params: 12,650\n",
            "Non-trainable params: 0\n",
            "_________________________________________________________________\n"
          ],
          "name": "stdout"
        }
      ]
    },
    {
      "cell_type": "code",
      "metadata": {
        "id": "haFSyKBRjsWW",
        "colab_type": "code",
        "outputId": "01a252d1-08df-4fae-d6df-a60ab3092ddc",
        "colab": {
          "base_uri": "https://localhost:8080/",
          "height": 1000
        }
      },
      "source": [
        "history = sequence_autoencoder.fit(X_train_one_hot, X_train_one_hot, epochs=50, batch_size=128, shuffle=True, validation_data=(X_valid_one_hot, X_valid_one_hot))"
      ],
      "execution_count": 0,
      "outputs": [
        {
          "output_type": "stream",
          "text": [
            "Epoch 1/50\n",
            "79/79 [==============================] - 4s 55ms/step - loss: 0.1614 - categorical_accuracy: 0.1893 - val_loss: 0.0751 - val_categorical_accuracy: 0.3787\n",
            "Epoch 2/50\n",
            "79/79 [==============================] - 4s 54ms/step - loss: 0.0658 - categorical_accuracy: 0.4692 - val_loss: 0.0614 - val_categorical_accuracy: 0.5055\n",
            "Epoch 3/50\n",
            "79/79 [==============================] - 4s 53ms/step - loss: 0.0611 - categorical_accuracy: 0.4872 - val_loss: 0.0561 - val_categorical_accuracy: 0.5264\n",
            "Epoch 4/50\n",
            "79/79 [==============================] - 4s 52ms/step - loss: 0.0514 - categorical_accuracy: 0.5437 - val_loss: 0.0485 - val_categorical_accuracy: 0.5440\n",
            "Epoch 5/50\n",
            "79/79 [==============================] - 4s 52ms/step - loss: 0.0458 - categorical_accuracy: 0.5698 - val_loss: 0.0438 - val_categorical_accuracy: 0.5678\n",
            "Epoch 6/50\n",
            "79/79 [==============================] - 4s 52ms/step - loss: 0.0414 - categorical_accuracy: 0.5764 - val_loss: 0.0406 - val_categorical_accuracy: 0.5825\n",
            "Epoch 7/50\n",
            "79/79 [==============================] - 4s 53ms/step - loss: 0.0382 - categorical_accuracy: 0.6126 - val_loss: 0.0360 - val_categorical_accuracy: 0.6292\n",
            "Epoch 8/50\n",
            "79/79 [==============================] - 4s 52ms/step - loss: 0.0335 - categorical_accuracy: 0.6421 - val_loss: 0.0324 - val_categorical_accuracy: 0.6569\n",
            "Epoch 9/50\n",
            "79/79 [==============================] - 4s 52ms/step - loss: 0.0308 - categorical_accuracy: 0.6759 - val_loss: 0.0303 - val_categorical_accuracy: 0.6754\n",
            "Epoch 10/50\n",
            "79/79 [==============================] - 4s 53ms/step - loss: 0.0291 - categorical_accuracy: 0.6870 - val_loss: 0.0289 - val_categorical_accuracy: 0.6982\n",
            "Epoch 11/50\n",
            "79/79 [==============================] - 4s 52ms/step - loss: 0.0276 - categorical_accuracy: 0.7209 - val_loss: 0.0276 - val_categorical_accuracy: 0.7279\n",
            "Epoch 12/50\n",
            "79/79 [==============================] - 4s 54ms/step - loss: 0.0292 - categorical_accuracy: 0.7490 - val_loss: 0.0281 - val_categorical_accuracy: 0.7542\n",
            "Epoch 13/50\n",
            "79/79 [==============================] - 4s 55ms/step - loss: 0.0263 - categorical_accuracy: 0.7596 - val_loss: 0.0257 - val_categorical_accuracy: 0.7682\n",
            "Epoch 14/50\n",
            "79/79 [==============================] - 4s 53ms/step - loss: 0.0244 - categorical_accuracy: 0.7839 - val_loss: 0.0239 - val_categorical_accuracy: 0.7946\n",
            "Epoch 15/50\n",
            "79/79 [==============================] - 4s 53ms/step - loss: 0.0226 - categorical_accuracy: 0.8054 - val_loss: 0.0218 - val_categorical_accuracy: 0.8206\n",
            "Epoch 16/50\n",
            "79/79 [==============================] - 4s 54ms/step - loss: 0.0210 - categorical_accuracy: 0.8332 - val_loss: 0.0228 - val_categorical_accuracy: 0.8415\n",
            "Epoch 17/50\n",
            "79/79 [==============================] - 4s 53ms/step - loss: 0.0207 - categorical_accuracy: 0.8481 - val_loss: 0.0198 - val_categorical_accuracy: 0.8505\n",
            "Epoch 18/50\n",
            "79/79 [==============================] - 4s 54ms/step - loss: 0.0188 - categorical_accuracy: 0.8601 - val_loss: 0.0186 - val_categorical_accuracy: 0.8649\n",
            "Epoch 19/50\n",
            "79/79 [==============================] - 4s 52ms/step - loss: 0.0178 - categorical_accuracy: 0.8755 - val_loss: 0.0179 - val_categorical_accuracy: 0.8790\n",
            "Epoch 20/50\n",
            "79/79 [==============================] - 4s 52ms/step - loss: 0.0174 - categorical_accuracy: 0.8907 - val_loss: 0.0177 - val_categorical_accuracy: 0.8919\n",
            "Epoch 21/50\n",
            "79/79 [==============================] - 4s 55ms/step - loss: 0.0168 - categorical_accuracy: 0.8990 - val_loss: 0.0170 - val_categorical_accuracy: 0.8995\n",
            "Epoch 22/50\n",
            "79/79 [==============================] - 4s 53ms/step - loss: 0.0163 - categorical_accuracy: 0.9059 - val_loss: 0.0165 - val_categorical_accuracy: 0.9057\n",
            "Epoch 23/50\n",
            "79/79 [==============================] - 4s 52ms/step - loss: 0.0159 - categorical_accuracy: 0.9112 - val_loss: 0.0162 - val_categorical_accuracy: 0.9106\n",
            "Epoch 24/50\n",
            "79/79 [==============================] - 4s 51ms/step - loss: 0.0156 - categorical_accuracy: 0.9154 - val_loss: 0.0159 - val_categorical_accuracy: 0.9145\n",
            "Epoch 25/50\n",
            "79/79 [==============================] - 4s 53ms/step - loss: 0.0153 - categorical_accuracy: 0.9185 - val_loss: 0.0156 - val_categorical_accuracy: 0.9171\n",
            "Epoch 26/50\n",
            "79/79 [==============================] - 4s 53ms/step - loss: 0.0150 - categorical_accuracy: 0.9208 - val_loss: 0.0153 - val_categorical_accuracy: 0.9191\n",
            "Epoch 27/50\n",
            "79/79 [==============================] - 4s 53ms/step - loss: 0.0147 - categorical_accuracy: 0.9232 - val_loss: 0.0148 - val_categorical_accuracy: 0.9218\n",
            "Epoch 28/50\n",
            "79/79 [==============================] - 4s 53ms/step - loss: 0.0143 - categorical_accuracy: 0.9257 - val_loss: 0.0146 - val_categorical_accuracy: 0.9234\n",
            "Epoch 29/50\n",
            "79/79 [==============================] - 4s 52ms/step - loss: 0.0141 - categorical_accuracy: 0.9272 - val_loss: 0.0144 - val_categorical_accuracy: 0.9249\n",
            "Epoch 30/50\n",
            "79/79 [==============================] - 4s 54ms/step - loss: 0.0139 - categorical_accuracy: 0.9282 - val_loss: 0.0142 - val_categorical_accuracy: 0.9256\n",
            "Epoch 31/50\n",
            "79/79 [==============================] - 4s 56ms/step - loss: 0.0137 - categorical_accuracy: 0.9290 - val_loss: 0.0140 - val_categorical_accuracy: 0.9265\n",
            "Epoch 32/50\n",
            "79/79 [==============================] - 4s 53ms/step - loss: 0.0135 - categorical_accuracy: 0.9296 - val_loss: 0.0138 - val_categorical_accuracy: 0.9271\n",
            "Epoch 33/50\n",
            "79/79 [==============================] - 4s 54ms/step - loss: 0.0133 - categorical_accuracy: 0.9301 - val_loss: 0.0136 - val_categorical_accuracy: 0.9277\n",
            "Epoch 34/50\n",
            "79/79 [==============================] - 4s 52ms/step - loss: 0.0132 - categorical_accuracy: 0.9305 - val_loss: 0.0135 - val_categorical_accuracy: 0.9281\n",
            "Epoch 35/50\n",
            "79/79 [==============================] - 4s 55ms/step - loss: 0.0130 - categorical_accuracy: 0.9309 - val_loss: 0.0133 - val_categorical_accuracy: 0.9284\n",
            "Epoch 36/50\n",
            "79/79 [==============================] - 5s 59ms/step - loss: 0.0129 - categorical_accuracy: 0.9313 - val_loss: 0.0132 - val_categorical_accuracy: 0.9288\n",
            "Epoch 37/50\n",
            "79/79 [==============================] - 5s 57ms/step - loss: 0.0127 - categorical_accuracy: 0.9316 - val_loss: 0.0131 - val_categorical_accuracy: 0.9291\n",
            "Epoch 38/50\n",
            "79/79 [==============================] - 5s 57ms/step - loss: 0.0126 - categorical_accuracy: 0.9318 - val_loss: 0.0129 - val_categorical_accuracy: 0.9293\n",
            "Epoch 39/50\n",
            "79/79 [==============================] - 5s 59ms/step - loss: 0.0125 - categorical_accuracy: 0.9320 - val_loss: 0.0128 - val_categorical_accuracy: 0.9296\n",
            "Epoch 40/50\n",
            "79/79 [==============================] - 4s 53ms/step - loss: 0.0124 - categorical_accuracy: 0.9322 - val_loss: 0.0127 - val_categorical_accuracy: 0.9298\n",
            "Epoch 41/50\n",
            "79/79 [==============================] - 4s 56ms/step - loss: 0.0123 - categorical_accuracy: 0.9324 - val_loss: 0.0126 - val_categorical_accuracy: 0.9300\n",
            "Epoch 42/50\n",
            "79/79 [==============================] - 4s 57ms/step - loss: 0.0122 - categorical_accuracy: 0.9325 - val_loss: 0.0125 - val_categorical_accuracy: 0.9302\n",
            "Epoch 43/50\n",
            "79/79 [==============================] - 4s 57ms/step - loss: 0.0129 - categorical_accuracy: 0.9315 - val_loss: 0.0127 - val_categorical_accuracy: 0.9303\n",
            "Epoch 44/50\n",
            "79/79 [==============================] - 4s 55ms/step - loss: 0.0122 - categorical_accuracy: 0.9328 - val_loss: 0.0124 - val_categorical_accuracy: 0.9306\n",
            "Epoch 45/50\n",
            "79/79 [==============================] - 4s 57ms/step - loss: 0.0120 - categorical_accuracy: 0.9330 - val_loss: 0.0123 - val_categorical_accuracy: 0.9308\n",
            "Epoch 46/50\n",
            "79/79 [==============================] - 4s 56ms/step - loss: 0.0119 - categorical_accuracy: 0.9331 - val_loss: 0.0122 - val_categorical_accuracy: 0.9309\n",
            "Epoch 47/50\n",
            "79/79 [==============================] - 4s 55ms/step - loss: 0.0118 - categorical_accuracy: 0.9331 - val_loss: 0.0121 - val_categorical_accuracy: 0.9309\n",
            "Epoch 48/50\n",
            "79/79 [==============================] - 4s 55ms/step - loss: 0.0117 - categorical_accuracy: 0.9332 - val_loss: 0.0120 - val_categorical_accuracy: 0.9309\n",
            "Epoch 49/50\n",
            "79/79 [==============================] - 4s 56ms/step - loss: 0.0116 - categorical_accuracy: 0.9332 - val_loss: 0.0119 - val_categorical_accuracy: 0.9310\n",
            "Epoch 50/50\n",
            "79/79 [==============================] - 4s 54ms/step - loss: 0.0115 - categorical_accuracy: 0.9332 - val_loss: 0.0118 - val_categorical_accuracy: 0.9310\n"
          ],
          "name": "stdout"
        }
      ]
    },
    {
      "cell_type": "markdown",
      "metadata": {
        "id": "UXgzgmSA-ZV-",
        "colab_type": "text"
      },
      "source": [
        "Let's plot the accuracy and the loss curves and check the reconstruction capability of the model by plotting the reconstruction of a test sample."
      ]
    },
    {
      "cell_type": "code",
      "metadata": {
        "id": "3N96nqx2nrt9",
        "colab_type": "code",
        "outputId": "9c762e0f-c25c-4a06-aa7c-82cf15aec48e",
        "colab": {
          "base_uri": "https://localhost:8080/",
          "height": 815
        }
      },
      "source": [
        "def plot_categorical_accuracy(history):\n",
        "  plt.figure(figsize=(10,6))\n",
        "  plt.plot(history.epoch,history.history['categorical_accuracy'])\n",
        "  plt.plot(history.epoch,history.history['val_categorical_accuracy'])\n",
        "  plt.title('accuracy')\n",
        "\n",
        "plot_loss(history)\n",
        "\n",
        "plot_categorical_accuracy(history)\n",
        "\n",
        "scores = sequence_autoencoder.evaluate(X_test_one_hot, X_test_one_hot, verbose=2)\n",
        "print(\"%s: %.2f%%\" % (sequence_autoencoder.metrics_names[1], scores[1]*100))"
      ],
      "execution_count": 0,
      "outputs": [
        {
          "output_type": "stream",
          "text": [
            "40/40 - 0s - loss: 0.0115 - categorical_accuracy: 0.9333\n",
            "categorical_accuracy: 93.33%\n"
          ],
          "name": "stdout"
        },
        {
          "output_type": "display_data",
          "data": {
            "image/png": "[encoded data removed]",
            "text/plain": [
              "<Figure size 720x432 with 1 Axes>"
            ]
          },
          "metadata": {
            "tags": [],
            "needs_background": "light"
          }
        },
        {
          "output_type": "display_data",
          "data": {
            "image/png": "[encoded data removed]",
            "text/plain": [
              "<Figure size 720x432 with 1 Axes>"
            ]
          },
          "metadata": {
            "tags": [],
            "needs_background": "light"
          }
        }
      ]
    },
    {
      "cell_type": "code",
      "metadata": {
        "id": "CNQmY1kynxe7",
        "colab_type": "code",
        "outputId": "ddd20faa-e152-4e1c-adf4-2c16edf48f28",
        "colab": {
          "base_uri": "https://localhost:8080/",
          "height": 71
        }
      },
      "source": [
        "decoded_text = sequence_autoencoder.predict(X_test_one_hot)\n",
        "decode_index= np.argmax(decoded_text[500], axis=1)\n",
        "input_text= np.argmax(X_test_one_hot[500], axis=1)\n",
        "\n",
        "print(decode_review(input_text))\n",
        "print(decode_review(decode_index))"
      ],
      "execution_count": 0,
      "outputs": [
        {
          "output_type": "stream",
          "text": [
            "than a <oov> <oov> that are <oov> in all of that time but that <oov> the <oov> is <oov> a very <oov> film in just about <oov> <oov> <oov> <oov> as some other <oov> have <oov> out it <oov> like <oov> <oov> of the film are <oov> <oov> there <oov> other <oov> <oov> <oov> are <oov> <oov> in the <oov> <oov> this is a really bad film that <oov> <oov> <oov> than its <oov> of <oov> <oov> i <oov> it <oov> out of <oov> and i <oov> <oov> very <oov>\n",
            "how a <oov> <oov> that are <oov> in all of that time but that <oov> the <oov> is <oov> a <oov> <oov> film in just about <oov> <oov> <oov> <oov> as some other <oov> have <oov> out it <oov> like <oov> <oov> of the film are <oov> <oov> only <oov> other <oov> <oov> <oov> are <oov> <oov> in the <oov> <oov> this is a really and film that <oov> <oov> <oov> by have <oov> of <oov> <oov> i <oov> it <oov> out of <oov> and i <oov> <oov> this <oov>\n"
          ],
          "name": "stdout"
        }
      ]
    },
    {
      "cell_type": "markdown",
      "metadata": {
        "id": "bW5BipraiQiE",
        "colab_type": "text"
      },
      "source": [
        "##Exercise 5.5: Non-Linear Autoencoder for sequences\n",
        "\n",
        "**To complete: Replicate the code of the exercise above, but instead of using a simpleRNN with linear activations do use non-linear activation functions and a LSTM layer. Choose the most appropriate non-linear function, and motivate your choice. Then discuss the results in relation to those obtained by the linear autoencoder for sequences.**\n",
        "\n",
        "**Hint: using a non-linear function also in the dense layer after the RNN/LSTM one will help to obtain better results. The choice of this function should be based on the type of output data.**\n"
      ]
    },
    {
      "cell_type": "code",
      "metadata": {
        "id": "-nxAi6ZNmCX3",
        "colab_type": "code",
        "outputId": "adf63415-14b7-4dde-c9a1-c47839595fc9",
        "colab": {
          "base_uri": "https://localhost:8080/",
          "height": 286
        }
      },
      "source": [
        "inputs = tf.keras.layers.Input(shape=(maxlen, num_words))\n",
        "encoded = tf.keras.layers.LSTM(50, return_sequences=True, activation='relu')(inputs)\n",
        "\n",
        "decoded = tf.keras.layers.TimeDistributed(tf.keras.layers.Dense(num_words, activation='sigmoid'))(encoded)\n",
        "\n",
        "sequence_autoencoder = tf.keras.models.Model(inputs, decoded)\n",
        "encoder = tf.keras.models.Model(inputs, encoded)\n",
        "\n",
        "sequence_autoencoder.compile(optimizer=tf.keras.optimizers.Adam(learning_rate=0.001), loss='binary_crossentropy', metrics=[\"CategoricalAccuracy\"])\n",
        "\n",
        "sequence_autoencoder.summary()"
      ],
      "execution_count": 0,
      "outputs": [
        {
          "output_type": "stream",
          "text": [
            "WARNING:tensorflow:Layer lstm_7 will not use cuDNN kernel since it doesn't meet the cuDNN kernel criteria. It will use generic GPU kernel as fallback when running on GPU\n",
            "Model: \"model_24\"\n",
            "_________________________________________________________________\n",
            "Layer (type)                 Output Shape              Param #   \n",
            "=================================================================\n",
            "input_15 (InputLayer)        [(None, 90, 100)]         0         \n",
            "_________________________________________________________________\n",
            "lstm_7 (LSTM)                (None, 90, 50)            30200     \n",
            "_________________________________________________________________\n",
            "time_distributed_8 (TimeDist (None, 90, 100)           5100      \n",
            "=================================================================\n",
            "Total params: 35,300\n",
            "Trainable params: 35,300\n",
            "Non-trainable params: 0\n",
            "_________________________________________________________________\n"
          ],
          "name": "stdout"
        }
      ]
    },
    {
      "cell_type": "code",
      "metadata": {
        "id": "43VW2eMgmEvM",
        "colab_type": "code",
        "outputId": "18a0a0ac-4d02-4489-9d6c-039de1268c2b",
        "colab": {
          "base_uri": "https://localhost:8080/",
          "height": 1000
        }
      },
      "source": [
        "history = sequence_autoencoder.fit(X_train_one_hot, X_train_one_hot, epochs=80, batch_size=128, shuffle=True, validation_data=(X_valid_one_hot, X_valid_one_hot))"
      ],
      "execution_count": 0,
      "outputs": [
        {
          "output_type": "stream",
          "text": [
            "Epoch 1/80\n",
            "79/79 [==============================] - 10s 125ms/step - loss: 0.6164 - categorical_accuracy: 0.1678 - val_loss: 0.5594 - val_categorical_accuracy: 0.4570\n",
            "Epoch 2/80\n",
            "79/79 [==============================] - 10s 123ms/step - loss: 0.5118 - categorical_accuracy: 0.4707 - val_loss: 0.4539 - val_categorical_accuracy: 0.4580\n",
            "Epoch 3/80\n",
            "79/79 [==============================] - 10s 123ms/step - loss: 0.2463 - categorical_accuracy: 0.2356 - val_loss: 0.1756 - val_categorical_accuracy: 0.1625\n",
            "Epoch 4/80\n",
            "79/79 [==============================] - 10s 123ms/step - loss: 0.1688 - categorical_accuracy: 0.1346 - val_loss: 0.1648 - val_categorical_accuracy: 0.1272\n",
            "Epoch 5/80\n",
            "79/79 [==============================] - 9s 119ms/step - loss: 0.1637 - categorical_accuracy: 0.1406 - val_loss: 0.1598 - val_categorical_accuracy: 0.1250\n",
            "Epoch 6/80\n",
            "79/79 [==============================] - 10s 122ms/step - loss: 0.1597 - categorical_accuracy: 0.1410 - val_loss: 0.1592 - val_categorical_accuracy: 0.1150\n",
            "Epoch 7/80\n",
            "79/79 [==============================] - 10s 123ms/step - loss: 0.1566 - categorical_accuracy: 0.1150 - val_loss: 0.1533 - val_categorical_accuracy: 0.1209\n",
            "Epoch 8/80\n",
            "79/79 [==============================] - 10s 122ms/step - loss: 0.1514 - categorical_accuracy: 0.1246 - val_loss: 0.1498 - val_categorical_accuracy: 0.1259\n",
            "Epoch 9/80\n",
            "79/79 [==============================] - 9s 119ms/step - loss: 0.1552 - categorical_accuracy: 0.3659 - val_loss: 0.1594 - val_categorical_accuracy: 0.4712\n",
            "Epoch 10/80\n",
            "79/79 [==============================] - 10s 122ms/step - loss: 0.1533 - categorical_accuracy: 0.3603 - val_loss: 0.1501 - val_categorical_accuracy: 0.0880\n",
            "Epoch 11/80\n",
            "79/79 [==============================] - 9s 120ms/step - loss: 0.1483 - categorical_accuracy: 0.1472 - val_loss: 0.1518 - val_categorical_accuracy: 0.4701\n",
            "Epoch 12/80\n",
            "79/79 [==============================] - 10s 122ms/step - loss: 0.1484 - categorical_accuracy: 0.2326 - val_loss: 0.1482 - val_categorical_accuracy: 0.0788\n",
            "Epoch 13/80\n",
            "79/79 [==============================] - 9s 118ms/step - loss: 0.1485 - categorical_accuracy: 0.0793 - val_loss: 0.1457 - val_categorical_accuracy: 0.0839\n",
            "Epoch 14/80\n",
            "79/79 [==============================] - 10s 122ms/step - loss: 0.1373 - categorical_accuracy: 0.1275 - val_loss: 0.0598 - val_categorical_accuracy: 0.4528\n",
            "Epoch 15/80\n",
            "79/79 [==============================] - 10s 122ms/step - loss: 0.0474 - categorical_accuracy: 0.4649 - val_loss: 0.0417 - val_categorical_accuracy: 0.4617\n",
            "Epoch 16/80\n",
            "79/79 [==============================] - 10s 125ms/step - loss: 0.0400 - categorical_accuracy: 0.4714 - val_loss: 0.0392 - val_categorical_accuracy: 0.4624\n",
            "Epoch 17/80\n",
            "79/79 [==============================] - 9s 119ms/step - loss: 0.0373 - categorical_accuracy: 0.4772 - val_loss: 0.0361 - val_categorical_accuracy: 0.4832\n",
            "Epoch 18/80\n",
            "79/79 [==============================] - 9s 117ms/step - loss: 0.0343 - categorical_accuracy: 0.4917 - val_loss: 0.0335 - val_categorical_accuracy: 0.4866\n",
            "Epoch 19/80\n",
            "79/79 [==============================] - 10s 121ms/step - loss: 0.0315 - categorical_accuracy: 0.5468 - val_loss: 0.0304 - val_categorical_accuracy: 0.5673\n",
            "Epoch 20/80\n",
            "79/79 [==============================] - 10s 123ms/step - loss: 0.0286 - categorical_accuracy: 0.5990 - val_loss: 0.0276 - val_categorical_accuracy: 0.6162\n",
            "Epoch 21/80\n",
            "79/79 [==============================] - 9s 120ms/step - loss: 0.0259 - categorical_accuracy: 0.6459 - val_loss: 0.0251 - val_categorical_accuracy: 0.6578\n",
            "Epoch 22/80\n",
            "79/79 [==============================] - 10s 122ms/step - loss: 0.0236 - categorical_accuracy: 0.6750 - val_loss: 0.0229 - val_categorical_accuracy: 0.6861\n",
            "Epoch 23/80\n",
            "79/79 [==============================] - 10s 121ms/step - loss: 0.0216 - categorical_accuracy: 0.7062 - val_loss: 0.0211 - val_categorical_accuracy: 0.7082\n",
            "Epoch 24/80\n",
            "79/79 [==============================] - 10s 125ms/step - loss: 0.0199 - categorical_accuracy: 0.7277 - val_loss: 0.0195 - val_categorical_accuracy: 0.7337\n",
            "Epoch 25/80\n",
            "79/79 [==============================] - 10s 121ms/step - loss: 0.0184 - categorical_accuracy: 0.7503 - val_loss: 0.0180 - val_categorical_accuracy: 0.7530\n",
            "Epoch 26/80\n",
            "79/79 [==============================] - 9s 117ms/step - loss: 0.0169 - categorical_accuracy: 0.7687 - val_loss: 0.0165 - val_categorical_accuracy: 0.7714\n",
            "Epoch 27/80\n",
            "79/79 [==============================] - 9s 118ms/step - loss: 0.0155 - categorical_accuracy: 0.7903 - val_loss: 0.0151 - val_categorical_accuracy: 0.8017\n",
            "Epoch 28/80\n",
            "79/79 [==============================] - 9s 119ms/step - loss: 0.0142 - categorical_accuracy: 0.8209 - val_loss: 0.0138 - val_categorical_accuracy: 0.8272\n",
            "Epoch 29/80\n",
            "79/79 [==============================] - 9s 119ms/step - loss: 0.0130 - categorical_accuracy: 0.8393 - val_loss: 0.0126 - val_categorical_accuracy: 0.8407\n",
            "Epoch 30/80\n",
            "79/79 [==============================] - 10s 121ms/step - loss: 0.0118 - categorical_accuracy: 0.8498 - val_loss: 0.0115 - val_categorical_accuracy: 0.8504\n",
            "Epoch 31/80\n",
            "79/79 [==============================] - 9s 117ms/step - loss: 0.0108 - categorical_accuracy: 0.8612 - val_loss: 0.0105 - val_categorical_accuracy: 0.8649\n",
            "Epoch 32/80\n",
            "79/79 [==============================] - 9s 119ms/step - loss: 0.0098 - categorical_accuracy: 0.8796 - val_loss: 0.0095 - val_categorical_accuracy: 0.8846\n",
            "Epoch 33/80\n",
            "79/79 [==============================] - 10s 122ms/step - loss: 0.0089 - categorical_accuracy: 0.8981 - val_loss: 0.0087 - val_categorical_accuracy: 0.9055\n",
            "Epoch 34/80\n",
            "79/79 [==============================] - 9s 118ms/step - loss: 0.0081 - categorical_accuracy: 0.9185 - val_loss: 0.0079 - val_categorical_accuracy: 0.9252\n",
            "Epoch 35/80\n",
            "79/79 [==============================] - 10s 121ms/step - loss: 0.0074 - categorical_accuracy: 0.9364 - val_loss: 0.0072 - val_categorical_accuracy: 0.9419\n",
            "Epoch 36/80\n",
            "79/79 [==============================] - 9s 119ms/step - loss: 0.0067 - categorical_accuracy: 0.9504 - val_loss: 0.0066 - val_categorical_accuracy: 0.9553\n",
            "Epoch 37/80\n",
            "79/79 [==============================] - 10s 121ms/step - loss: 0.0061 - categorical_accuracy: 0.9612 - val_loss: 0.0060 - val_categorical_accuracy: 0.9623\n",
            "Epoch 38/80\n",
            "79/79 [==============================] - 10s 121ms/step - loss: 0.0055 - categorical_accuracy: 0.9693 - val_loss: 0.0054 - val_categorical_accuracy: 0.9721\n",
            "Epoch 39/80\n",
            "79/79 [==============================] - 9s 120ms/step - loss: 0.0050 - categorical_accuracy: 0.9760 - val_loss: 0.0049 - val_categorical_accuracy: 0.9772\n",
            "Epoch 40/80\n",
            "79/79 [==============================] - 9s 117ms/step - loss: 0.0045 - categorical_accuracy: 0.9801 - val_loss: 0.0044 - val_categorical_accuracy: 0.9807\n",
            "Epoch 41/80\n",
            "79/79 [==============================] - 10s 121ms/step - loss: 0.0041 - categorical_accuracy: 0.9830 - val_loss: 0.0040 - val_categorical_accuracy: 0.9846\n",
            "Epoch 42/80\n",
            "79/79 [==============================] - 10s 121ms/step - loss: 0.0037 - categorical_accuracy: 0.9860 - val_loss: 0.0036 - val_categorical_accuracy: 0.9873\n",
            "Epoch 43/80\n",
            "79/79 [==============================] - 9s 120ms/step - loss: 0.0033 - categorical_accuracy: 0.9883 - val_loss: 0.0032 - val_categorical_accuracy: 0.9889\n",
            "Epoch 44/80\n",
            "79/79 [==============================] - 9s 118ms/step - loss: 0.0029 - categorical_accuracy: 0.9898 - val_loss: 0.0029 - val_categorical_accuracy: 0.9900\n",
            "Epoch 45/80\n",
            "79/79 [==============================] - 9s 118ms/step - loss: 0.0026 - categorical_accuracy: 0.9906 - val_loss: 0.0026 - val_categorical_accuracy: 0.9907\n",
            "Epoch 46/80\n",
            "79/79 [==============================] - 10s 122ms/step - loss: 0.0024 - categorical_accuracy: 0.9911 - val_loss: 0.0023 - val_categorical_accuracy: 0.9910\n",
            "Epoch 47/80\n",
            "79/79 [==============================] - 10s 122ms/step - loss: 0.0021 - categorical_accuracy: 0.9914 - val_loss: 0.0021 - val_categorical_accuracy: 0.9914\n",
            "Epoch 48/80\n",
            "79/79 [==============================] - 9s 119ms/step - loss: 0.0019 - categorical_accuracy: 0.9918 - val_loss: 0.0019 - val_categorical_accuracy: 0.9917\n",
            "Epoch 49/80\n",
            "79/79 [==============================] - 9s 120ms/step - loss: 0.0018 - categorical_accuracy: 0.9921 - val_loss: 0.0018 - val_categorical_accuracy: 0.9921\n",
            "Epoch 50/80\n",
            "79/79 [==============================] - 10s 122ms/step - loss: 0.0016 - categorical_accuracy: 0.9924 - val_loss: 0.0016 - val_categorical_accuracy: 0.9923\n",
            "Epoch 51/80\n",
            "79/79 [==============================] - 9s 116ms/step - loss: 0.0015 - categorical_accuracy: 0.9927 - val_loss: 0.0015 - val_categorical_accuracy: 0.9926\n",
            "Epoch 52/80\n",
            "79/79 [==============================] - 10s 124ms/step - loss: 0.0014 - categorical_accuracy: 0.9930 - val_loss: 0.0014 - val_categorical_accuracy: 0.9929\n",
            "Epoch 53/80\n",
            "79/79 [==============================] - 10s 122ms/step - loss: 0.0013 - categorical_accuracy: 0.9934 - val_loss: 0.0013 - val_categorical_accuracy: 0.9933\n",
            "Epoch 54/80\n",
            "79/79 [==============================] - 9s 117ms/step - loss: 0.0012 - categorical_accuracy: 0.9936 - val_loss: 0.0012 - val_categorical_accuracy: 0.9935\n",
            "Epoch 55/80\n",
            "79/79 [==============================] - 10s 126ms/step - loss: 0.0011 - categorical_accuracy: 0.9938 - val_loss: 0.0011 - val_categorical_accuracy: 0.9937\n",
            "Epoch 56/80\n",
            "79/79 [==============================] - 10s 121ms/step - loss: 0.0011 - categorical_accuracy: 0.9940 - val_loss: 0.0011 - val_categorical_accuracy: 0.9940\n",
            "Epoch 57/80\n",
            "79/79 [==============================] - 10s 123ms/step - loss: 0.0010 - categorical_accuracy: 0.9943 - val_loss: 0.0010 - val_categorical_accuracy: 0.9942\n",
            "Epoch 58/80\n",
            "79/79 [==============================] - 10s 124ms/step - loss: 9.5678e-04 - categorical_accuracy: 0.9945 - val_loss: 9.7522e-04 - val_categorical_accuracy: 0.9943\n",
            "Epoch 59/80\n",
            "79/79 [==============================] - 9s 119ms/step - loss: 9.0499e-04 - categorical_accuracy: 0.9947 - val_loss: 9.3438e-04 - val_categorical_accuracy: 0.9945\n",
            "Epoch 60/80\n",
            "79/79 [==============================] - 10s 122ms/step - loss: 8.6314e-04 - categorical_accuracy: 0.9948 - val_loss: 9.0379e-04 - val_categorical_accuracy: 0.9946\n",
            "Epoch 61/80\n",
            "79/79 [==============================] - 10s 121ms/step - loss: 8.1871e-04 - categorical_accuracy: 0.9950 - val_loss: 8.4185e-04 - val_categorical_accuracy: 0.9950\n",
            "Epoch 62/80\n",
            "79/79 [==============================] - 10s 121ms/step - loss: 7.8112e-04 - categorical_accuracy: 0.9954 - val_loss: 7.9950e-04 - val_categorical_accuracy: 0.9951\n",
            "Epoch 63/80\n",
            "79/79 [==============================] - 9s 119ms/step - loss: 7.4364e-04 - categorical_accuracy: 0.9955 - val_loss: 7.6569e-04 - val_categorical_accuracy: 0.9953\n",
            "Epoch 64/80\n",
            "79/79 [==============================] - 9s 118ms/step - loss: 7.1048e-04 - categorical_accuracy: 0.9957 - val_loss: 7.3232e-04 - val_categorical_accuracy: 0.9954\n",
            "Epoch 65/80\n",
            "79/79 [==============================] - 9s 119ms/step - loss: 6.7936e-04 - categorical_accuracy: 0.9958 - val_loss: 7.0082e-04 - val_categorical_accuracy: 0.9955\n",
            "Epoch 66/80\n",
            "79/79 [==============================] - 10s 120ms/step - loss: 6.5236e-04 - categorical_accuracy: 0.9959 - val_loss: 6.7150e-04 - val_categorical_accuracy: 0.9956\n",
            "Epoch 67/80\n",
            "79/79 [==============================] - 9s 120ms/step - loss: 6.2324e-04 - categorical_accuracy: 0.9959 - val_loss: 6.4108e-04 - val_categorical_accuracy: 0.9957\n",
            "Epoch 68/80\n",
            "79/79 [==============================] - 10s 121ms/step - loss: 5.9892e-04 - categorical_accuracy: 0.9960 - val_loss: 6.2109e-04 - val_categorical_accuracy: 0.9958\n",
            "Epoch 69/80\n",
            "79/79 [==============================] - 9s 120ms/step - loss: 5.7676e-04 - categorical_accuracy: 0.9961 - val_loss: 5.9176e-04 - val_categorical_accuracy: 0.9958\n",
            "Epoch 70/80\n",
            "79/79 [==============================] - 10s 122ms/step - loss: 6.6103e-04 - categorical_accuracy: 0.9959 - val_loss: 0.1471 - val_categorical_accuracy: 0.5509\n",
            "Epoch 71/80\n",
            "79/79 [==============================] - 10s 123ms/step - loss: 0.0098 - categorical_accuracy: 0.9564 - val_loss: 0.0017 - val_categorical_accuracy: 0.9945\n",
            "Epoch 72/80\n",
            "79/79 [==============================] - 9s 119ms/step - loss: 0.0014 - categorical_accuracy: 0.9956 - val_loss: 0.0013 - val_categorical_accuracy: 0.9956\n",
            "Epoch 73/80\n",
            "79/79 [==============================] - 9s 117ms/step - loss: 0.0012 - categorical_accuracy: 0.9960 - val_loss: 0.0011 - val_categorical_accuracy: 0.9957\n",
            "Epoch 74/80\n",
            "79/79 [==============================] - 9s 119ms/step - loss: 0.0010 - categorical_accuracy: 0.9961 - val_loss: 0.0010 - val_categorical_accuracy: 0.9958\n",
            "Epoch 75/80\n",
            "79/79 [==============================] - 10s 122ms/step - loss: 9.5099e-04 - categorical_accuracy: 0.9962 - val_loss: 9.5050e-04 - val_categorical_accuracy: 0.9960\n",
            "Epoch 76/80\n",
            "79/79 [==============================] - 9s 120ms/step - loss: 8.7872e-04 - categorical_accuracy: 0.9963 - val_loss: 8.8426e-04 - val_categorical_accuracy: 0.9960\n",
            "Epoch 77/80\n",
            "79/79 [==============================] - 10s 123ms/step - loss: 8.1947e-04 - categorical_accuracy: 0.9963 - val_loss: 8.2878e-04 - val_categorical_accuracy: 0.9961\n",
            "Epoch 78/80\n",
            "79/79 [==============================] - 9s 120ms/step - loss: 7.6905e-04 - categorical_accuracy: 0.9964 - val_loss: 7.8070e-04 - val_categorical_accuracy: 0.9961\n",
            "Epoch 79/80\n",
            "79/79 [==============================] - 9s 116ms/step - loss: 7.2487e-04 - categorical_accuracy: 0.9964 - val_loss: 7.3809e-04 - val_categorical_accuracy: 0.9962\n",
            "Epoch 80/80\n",
            "79/79 [==============================] - 9s 119ms/step - loss: 6.8544e-04 - categorical_accuracy: 0.9965 - val_loss: 6.9958e-04 - val_categorical_accuracy: 0.9962\n"
          ],
          "name": "stdout"
        }
      ]
    },
    {
      "cell_type": "code",
      "metadata": {
        "id": "aqbvFOwGmPdD",
        "colab_type": "code",
        "outputId": "67536b6e-f9ac-4c62-c228-33a46102a08f",
        "colab": {
          "base_uri": "https://localhost:8080/",
          "height": 815
        }
      },
      "source": [
        "plot_loss(history)\n",
        "\n",
        "plot_categorical_accuracy(history)\n",
        "\n",
        "scores = sequence_autoencoder.evaluate(X_test_one_hot, X_test_one_hot, verbose=2)\n",
        "print(\"%s: %.2f%%\" % (sequence_autoencoder.metrics_names[1], scores[1]*100))"
      ],
      "execution_count": 0,
      "outputs": [
        {
          "output_type": "stream",
          "text": [
            "40/40 - 0s - loss: 6.6998e-04 - categorical_accuracy: 0.9966\n",
            "categorical_accuracy: 99.66%\n"
          ],
          "name": "stdout"
        },
        {
          "output_type": "display_data",
          "data": {
            "image/png": "[encoded data removed]",
            "text/plain": [
              "<Figure size 720x432 with 1 Axes>"
            ]
          },
          "metadata": {
            "tags": [],
            "needs_background": "light"
          }
        },
        {
          "output_type": "display_data",
          "data": {
            "image/png": "[encoded data removed]",
            "text/plain": [
              "<Figure size 720x432 with 1 Axes>"
            ]
          },
          "metadata": {
            "tags": [],
            "needs_background": "light"
          }
        }
      ]
    },
    {
      "cell_type": "code",
      "metadata": {
        "id": "-YNY3IqyvYQg",
        "colab_type": "code",
        "outputId": "e76736b1-1772-465a-d8fd-9addc7da47b6",
        "colab": {
          "base_uri": "https://localhost:8080/",
          "height": 71
        }
      },
      "source": [
        "decoded_text = sequence_autoencoder.predict(X_test_one_hot)\n",
        "decode_index= np.argmax(decoded_text[500], axis=1)\n",
        "input_text= np.argmax(X_test_one_hot[500], axis=1)\n",
        "\n",
        "print(decode_review(input_text))\n",
        "print(decode_review(decode_index))"
      ],
      "execution_count": 0,
      "outputs": [
        {
          "output_type": "stream",
          "text": [
            "than a <oov> <oov> that are <oov> in all of that time but that <oov> the <oov> is <oov> a very <oov> film in just about <oov> <oov> <oov> <oov> as some other <oov> have <oov> out it <oov> like <oov> <oov> of the film are <oov> <oov> there <oov> other <oov> <oov> <oov> are <oov> <oov> in the <oov> <oov> this is a really bad film that <oov> <oov> <oov> than its <oov> of <oov> <oov> i <oov> it <oov> out of <oov> and i <oov> <oov> very <oov>\n",
            "than a <oov> <oov> that are <oov> in all of that time but that <oov> the <oov> is <oov> a very <oov> film in just about <oov> <oov> <oov> <oov> as some other <oov> have <oov> out it <oov> like <oov> <oov> of the film are <oov> <oov> there <oov> other <oov> <oov> <oov> are <oov> <oov> in the <oov> <oov> this is a really bad film that <oov> <oov> <oov> than its <oov> of <oov> <oov> i <oov> it <oov> out of <oov> and i <oov> <oov> very <oov>\n"
          ],
          "name": "stdout"
        }
      ]
    },
    {
      "cell_type": "markdown",
      "metadata": {
        "id": "I-SmxWYvwc2w",
        "colab_type": "text"
      },
      "source": [
        "To achieve my best result in terms of performance I have used LSTM layer with ReLU and sigmoid function for the dense layer.\n",
        "I have choosen sigmoid because of the one hot encoding applied to the words, so due to the TimeDistribuited layer, the dense layer is applied on every step.\n",
        "Applying non-linearity to this network allow me to improve the categorical accuracy to 99.66%."
      ]
    }
  ]
}